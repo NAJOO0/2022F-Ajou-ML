{
  "cells": [
    {
      "cell_type": "markdown",
      "metadata": {
        "id": "view-in-github",
        "colab_type": "text"
      },
      "source": [
        "<a href=\"https://colab.research.google.com/github/NAJOO0/2022F-Ajou-ML/blob/main/baseline_ipynb%EC%9D%98_%EC%82%AC%EB%B3%B8.ipynb\" target=\"_parent\"><img src=\"https://colab.research.google.com/assets/colab-badge.svg\" alt=\"Open In Colab\"/></a>"
      ]
    },
    {
      "cell_type": "markdown",
      "metadata": {
        "id": "HfOI9j-7NmNe"
      },
      "source": [
        "# Challenge :: Coin Classification"
      ]
    },
    {
      "cell_type": "markdown",
      "metadata": {
        "id": "3R6a-mbTIh2z"
      },
      "source": [
        "여러 나라의 동전 이미지를 보고 어느 나라의 동전인지 분류하는 테스크입니다.  \n",
        "동전의 클래스는 인도, 유럽, 중국, 미국, 일본, 필리핀으로 총 6개 입니다."
      ]
    },
    {
      "cell_type": "markdown",
      "metadata": {
        "id": "XpVnXP7WZqEC"
      },
      "source": [
        "각 나라의 label은 아래와 같이 설정합니다.\n",
        "{'china_coins': 0,\n",
        " 'euro_coins': 1,\n",
        " 'indian_coins': 2,\n",
        " 'peso_coins': 3,\n",
        " 'us_coins': 4,\n",
        " 'yen_coins': 5}"
      ]
    },
    {
      "cell_type": "markdown",
      "metadata": {
        "id": "KpKF556rg3e-"
      },
      "source": [
        "## Drive에서 데이터 가져오기 OR 로컬에서 파일 업로드"
      ]
    },
    {
      "cell_type": "code",
      "execution_count": null,
      "metadata": {
        "colab": {
          "base_uri": "https://localhost:8080/"
        },
        "id": "BYQ2IQi7QVDs",
        "outputId": "42da020a-f836-459f-e980-281d0990f9e5"
      },
      "outputs": [
        {
          "name": "stdout",
          "output_type": "stream",
          "text": [
            "Mounted at /content/drive\n"
          ]
        }
      ],
      "source": [
        "from google.colab import drive\n",
        "drive.mount('/content/drive') "
      ]
    },
    {
      "cell_type": "code",
      "execution_count": null,
      "metadata": {
        "colab": {
          "base_uri": "https://localhost:8080/"
        },
        "id": "P_6k3RXFhAvV",
        "outputId": "f7c2b188-c42c-4b18-de9f-adb999fe4e4a"
      },
      "outputs": [
        {
          "name": "stdout",
          "output_type": "stream",
          "text": [
            "/content/drive/MyDrive\n"
          ]
        }
      ],
      "source": [
        "%cd drive/MyDrive\n",
        "#'알맞은 디렉토리 채우기'"
      ]
    },
    {
      "cell_type": "code",
      "execution_count": null,
      "metadata": {
        "colab": {
          "base_uri": "https://localhost:8080/"
        },
        "id": "5GvzEfF2oLRL",
        "outputId": "c723eaa1-20a7-4a05-dd47-f2bf69c62718"
      },
      "outputs": [
        {
          "name": "stdout",
          "output_type": "stream",
          "text": [
            "\u001b[0m\u001b[01;34m'딥러닝 스터디'\u001b[0m/                      \u001b[01;34mIT_0926\u001b[0m/\n",
            "'집교1 정리본.zip'                    \u001b[01;34mIT_0928\u001b[0m/\n",
            " \u001b[01;34m집중교육2\u001b[0m/                           \u001b[01;34mIT집중교육1-FLASK\u001b[0m/\n",
            " 201820807_Myeongkyu_Kong.pdf        'IT집중교육2_1조 (1).pdf'\n",
            " 201820807_Myeongkyu_Kong.pptx       'IT 전문영어 대본-2.docx'\n",
            " 201820807.zip                       'IT Professional English.pptx'\n",
            "\u001b[01;34m'2022_ML Challenge'\u001b[0m/                 'lunar hovering bus.pptx'\n",
            "'ai 대본.docx'                        monitoring_dataset_distributed.npy\n",
            " \u001b[01;36mcoins_images\u001b[0m@                       'Pegasus (3) (1) (1).pptx'\n",
            "\u001b[01;34m'Colab Notebooks'\u001b[0m/                    prediction_result.csv\n",
            "\u001b[01;34m'Embryo Classification Challenge'\u001b[0m/   'Proposal PPT.pdf'\n",
            " English1_team6_v3.pptx               VGG16_bn_dropout.pt\n",
            "'기계학습 프로젝트.gdoc'             'VGG16_bn_loss(0.5).pt'\n",
            " 전공교과목실험실습비지급신청서.hwp   VGG16_bn.pt\n",
            " \u001b[01;34mIT_0921\u001b[0m/\n"
          ]
        }
      ],
      "source": [
        "ls"
      ]
    },
    {
      "cell_type": "markdown",
      "metadata": {
        "id": "sxJo32BQPFk1"
      },
      "source": [
        "## Load Data"
      ]
    },
    {
      "cell_type": "code",
      "execution_count": null,
      "metadata": {
        "id": "N5epeVOcRDXC"
      },
      "outputs": [],
      "source": [
        "#util\n",
        "import numpy as np\n",
        "import pandas as pd\n",
        "import seaborn as sns\n",
        "from tqdm.notebook import tqdm\n",
        "import matplotlib.pyplot as plt\n",
        "#model\n",
        "import torch\n",
        "import torchvision\n",
        "import torch.nn as nn\n",
        "import torch.optim as optim\n",
        "import torch.nn.functional as F\n",
        "from torchsummary import summary\n",
        "#dataset\n",
        "from torchvision import transforms, utils, datasets,models\n",
        "from torch.utils.data import Dataset, DataLoader\n",
        "import torch.utils.data\n"
      ]
    },
    {
      "cell_type": "code",
      "execution_count": null,
      "metadata": {
        "id": "G50TfszwqPDG"
      },
      "outputs": [],
      "source": [
        "from PIL import ImageFile\n",
        "ImageFile.LOAD_TRUNCATED_IMAGES = True # prevent truncate error"
      ]
    },
    {
      "cell_type": "code",
      "execution_count": null,
      "metadata": {
        "colab": {
          "base_uri": "https://localhost:8080/"
        },
        "id": "F3aEYUaBDh1v",
        "outputId": "8ad9f064-b4fe-4aca-8efb-47110ea91267"
      },
      "outputs": [
        {
          "name": "stdout",
          "output_type": "stream",
          "text": [
            "torch.Size([3, 256, 256])\n",
            "tensor([[[0.5686, 0.5765, 0.5765,  ..., 0.5804, 0.5765, 0.5765],\n",
            "         [0.5686, 0.5686, 0.5725,  ..., 0.5765, 0.5765, 0.5765],\n",
            "         [0.5647, 0.5647, 0.5725,  ..., 0.5725, 0.5725, 0.5765],\n",
            "         ...,\n",
            "         [0.4667, 0.4627, 0.4667,  ..., 0.4824, 0.4745, 0.4667],\n",
            "         [0.4510, 0.4510, 0.4510,  ..., 0.4784, 0.4706, 0.4667],\n",
            "         [0.4392, 0.4392, 0.4314,  ..., 0.4745, 0.4706, 0.4667]],\n",
            "\n",
            "        [[0.5725, 0.5804, 0.5804,  ..., 0.5725, 0.5765, 0.5765],\n",
            "         [0.5686, 0.5725, 0.5765,  ..., 0.5725, 0.5765, 0.5765],\n",
            "         [0.5686, 0.5686, 0.5765,  ..., 0.5725, 0.5725, 0.5765],\n",
            "         ...,\n",
            "         [0.4549, 0.4510, 0.4549,  ..., 0.4588, 0.4588, 0.4549],\n",
            "         [0.4392, 0.4392, 0.4431,  ..., 0.4588, 0.4549, 0.4549],\n",
            "         [0.4235, 0.4314, 0.4275,  ..., 0.4588, 0.4588, 0.4549]],\n",
            "\n",
            "        [[0.5529, 0.5608, 0.5608,  ..., 0.5490, 0.5451, 0.5451],\n",
            "         [0.5490, 0.5529, 0.5569,  ..., 0.5451, 0.5451, 0.5451],\n",
            "         [0.5490, 0.5490, 0.5569,  ..., 0.5451, 0.5412, 0.5451],\n",
            "         ...,\n",
            "         [0.4314, 0.4314, 0.4353,  ..., 0.4275, 0.4235, 0.4196],\n",
            "         [0.4157, 0.4157, 0.4196,  ..., 0.4275, 0.4196, 0.4235],\n",
            "         [0.4000, 0.4039, 0.4000,  ..., 0.4196, 0.4196, 0.4118]]])\n"
          ]
        }
      ],
      "source": [
        "import PIL\n",
        "img = PIL.Image.open('./coins_images/TEST/test_2.jpg') \n",
        "tf1 = transforms.Resize((256,256))\n",
        "tf2 = transforms.RandomHorizontalFlip()\n",
        "tf = transforms.ToTensor()\n",
        "imgt = tf1(img)\n",
        "imgt1=tf(imgt)\n",
        "imgt2=tf(img)\n",
        "# imgt=tf2(imgt)\n",
        "# imgt=tf(imgt)\n",
        "print(imgt1.size())\n",
        "print(imgt1)"
      ]
    },
    {
      "cell_type": "code",
      "execution_count": null,
      "metadata": {
        "id": "HUQYFSPsF4VS"
      },
      "outputs": [],
      "source": [
        "import matplotlib.pyplot as plt\n",
        "import numpy as np\n",
        "\n",
        "# functions to show an image\n",
        "\n",
        "\n",
        "def imshow(img):\n",
        "    npimg = img.numpy()\n",
        "    plt.imshow(np.transpose(npimg, (1, 2, 0)))\n",
        "    plt.show()"
      ]
    },
    {
      "cell_type": "code",
      "execution_count": null,
      "metadata": {
        "colab": {
          "base_uri": "https://localhost:8080/",
          "height": 269
        },
        "id": "In9UcfLUEuwE",
        "outputId": "3a95bb96-4118-4f23-c62c-2eb42bccac20"
      },
      "outputs": [
        {
          "data": {
            "image/png": "[encoded data removed]",
            "text/plain": [
              "<Figure size 432x288 with 1 Axes>"
            ]
          },
          "metadata": {},
          "output_type": "display_data"
        }
      ],
      "source": [
        "imshow(imgt2)"
      ]
    },
    {
      "cell_type": "code",
      "execution_count": null,
      "metadata": {
        "colab": {
          "base_uri": "https://localhost:8080/",
          "height": 269
        },
        "id": "YlgITjDqF6HG",
        "outputId": "6ca5f29d-ce7f-4e7d-8047-80f3a03acf79"
      },
      "outputs": [
        {
          "data": {
            "image/png": "[encoded data removed]",
            "text/plain": [
              "<Figure size 432x288 with 1 Axes>"
            ]
          },
          "metadata": {},
          "output_type": "display_data"
        }
      ],
      "source": [
        "imshow(imgt1)"
      ]
    },
    {
      "cell_type": "code",
      "execution_count": null,
      "metadata": {
        "id": "JJ6DIfAwkm7Z"
      },
      "outputs": [],
      "source": [
        "image_transforms = {\n",
        "    \"train\": transforms.Compose([\n",
        "            transforms.RandomOrder([\n",
        "                  transforms.RandomHorizontalFlip(),\n",
        "                  transforms.RandomVerticalFlip(),\n",
        "                  transforms.RandomRotation(90),\n",
        "              ]),\n",
        "            # transforms.RandomInvert(),\n",
        "                transforms.ToTensor(),\n",
        "            transforms.Resize((224, 224)),\n",
        "           transforms.Normalize((0.485, 0.456, 0.406),(0.229, 0.224, 0.225))\n",
        "        \n",
        "    ]),\n",
        "    \"test\": transforms.Compose([\n",
        "        transforms.ToTensor(),\n",
        "        transforms.Resize((224, 224)),\n",
        "        transforms.Normalize((0.485, 0.456, 0.406),(0.229, 0.224, 0.225))\n",
        "    ])\n",
        "}"
      ]
    },
    {
      "cell_type": "code",
      "execution_count": null,
      "metadata": {
        "id": "GyA0-uCL91vg"
      },
      "outputs": [],
      "source": [
        "# From https://gist.github.com/andrewjong/6b02ff237533b3b2c554701fb53d5c4d\n",
        "\n",
        "class ImageFolderWithPaths(datasets.ImageFolder):\n",
        "    \"\"\"Custom dataset that includes image file paths. Extends\n",
        "    torchvision.datasets.ImageFolder\n",
        "    \"\"\"\n",
        "\n",
        "    # override the __getitem__ method. this is the method that dataloader calls\n",
        "    def __getitem__(self, index):\n",
        "        # this is what ImageFolder normally returns \n",
        "        original_tuple = super(ImageFolderWithPaths, self).__getitem__(index)\n",
        "        # the image file path\n",
        "        path = self.imgs[index][0]\n",
        "        # make a new tuple that includes original and the path\n",
        "        tuple_with_path = (original_tuple + (path,))\n",
        "        return tuple_with_path"
      ]
    },
    {
      "cell_type": "code",
      "execution_count": null,
      "metadata": {
        "id": "ZyPDnO0zjXl_"
      },
      "outputs": [],
      "source": [
        "train_data = ImageFolderWithPaths(root = './coins_images/' + \"TRAIN\", # load train data\n",
        "                                   transform = image_transforms['train'],\n",
        "                                  )\n",
        "train_loader = torch.utils.data.DataLoader(train_data, batch_size=16, shuffle=True) # make train loader"
      ]
    },
    {
      "cell_type": "code",
      "execution_count": null,
      "metadata": {
        "colab": {
          "base_uri": "https://localhost:8080/"
        },
        "id": "92NgzmXHh3B4",
        "outputId": "b2476817-6f0a-4204-e888-3b205f026fdc"
      },
      "outputs": [
        {
          "data": {
            "text/plain": [
              "Dataset ImageFolderWithPaths\n",
              "    Number of datapoints: 1229\n",
              "    Root location: ./coins_images/TRAIN\n",
              "    StandardTransform\n",
              "Transform: Compose(\n",
              "               RandomOrder(\n",
              "               RandomHorizontalFlip(p=0.5)\n",
              "               RandomVerticalFlip(p=0.5)\n",
              "               RandomRotation(degrees=[-90.0, 90.0], interpolation=nearest, expand=False, fill=0)\n",
              "           )\n",
              "               ToTensor()\n",
              "               Resize(size=(224, 224), interpolation=bilinear, max_size=None, antialias=None)\n",
              "               Normalize(mean=(0.485, 0.456, 0.406), std=(0.229, 0.224, 0.225))\n",
              "           )"
            ]
          },
          "execution_count": 10,
          "metadata": {},
          "output_type": "execute_result"
        }
      ],
      "source": [
        "train_data"
      ]
    },
    {
      "cell_type": "code",
      "execution_count": null,
      "metadata": {
        "colab": {
          "base_uri": "https://localhost:8080/"
        },
        "id": "5ufdGhESqAKt",
        "outputId": "33eaa889-1a4a-4955-e24c-e8a58f9c8176"
      },
      "outputs": [
        {
          "data": {
            "text/plain": [
              "{'china_coins': 0,\n",
              " 'euro_coins': 1,\n",
              " 'indian_coins': 2,\n",
              " 'peso_coins': 3,\n",
              " 'us_coins': 4,\n",
              " 'yen_coins': 5}"
            ]
          },
          "execution_count": 14,
          "metadata": {},
          "output_type": "execute_result"
        }
      ],
      "source": [
        "classes = train_data.class_to_idx # class name\n",
        "classes"
      ]
    },
    {
      "cell_type": "markdown",
      "metadata": {
        "id": "HbvO90K5XMPw"
      },
      "source": [
        "## Show Example Data"
      ]
    },
    {
      "cell_type": "code",
      "execution_count": null,
      "metadata": {
        "colab": {
          "base_uri": "https://localhost:8080/",
          "height": 456
        },
        "id": "eAt9VdGDSNze",
        "outputId": "3c4682f6-4ba5-435c-8867-de316d1e99a1"
      },
      "outputs": [
        {
          "name": "stderr",
          "output_type": "stream",
          "text": [
            "WARNING:matplotlib.image:Clipping input data to the valid range for imshow with RGB data ([0..1] for floats or [0..255] for integers).\n"
          ]
        },
        {
          "data": {
            "image/png": "[encoded data removed]",
            "text/plain": [
              "<Figure size 432x288 with 1 Axes>"
            ]
          },
          "metadata": {},
          "output_type": "display_data"
        },
        {
          "name": "stdout",
          "output_type": "stream",
          "text": [
            "\n"
          ]
        },
        {
          "ename": "NameError",
          "evalue": "ignored",
          "output_type": "error",
          "traceback": [
            "\u001b[0;31m---------------------------------------------------------------------------\u001b[0m",
            "\u001b[0;31mNameError\u001b[0m                                 Traceback (most recent call last)",
            "\u001b[0;32m<ipython-input-11-842da4936f2b>\u001b[0m in \u001b[0;36m<module>\u001b[0;34m\u001b[0m\n\u001b[1;32m     23\u001b[0m \u001b[0mprint\u001b[0m\u001b[0;34m(\u001b[0m\u001b[0;34m)\u001b[0m\u001b[0;34m\u001b[0m\u001b[0;34m\u001b[0m\u001b[0m\n\u001b[1;32m     24\u001b[0m \u001b[0mlabels\u001b[0m \u001b[0;34m=\u001b[0m \u001b[0mlabels\u001b[0m\u001b[0;34m.\u001b[0m\u001b[0mtolist\u001b[0m\u001b[0;34m(\u001b[0m\u001b[0;34m)\u001b[0m\u001b[0;34m\u001b[0m\u001b[0;34m\u001b[0m\u001b[0m\n\u001b[0;32m---> 25\u001b[0;31m \u001b[0mprint\u001b[0m\u001b[0;34m(\u001b[0m\u001b[0;34m' '\u001b[0m\u001b[0;34m.\u001b[0m\u001b[0mjoin\u001b[0m\u001b[0;34m(\u001b[0m\u001b[0;34mf'{list(classes.keys())[list(classes.values()).index(j)]}'\u001b[0m \u001b[0;32mfor\u001b[0m \u001b[0mj\u001b[0m \u001b[0;32min\u001b[0m \u001b[0mlabels\u001b[0m\u001b[0;34m)\u001b[0m\u001b[0;34m)\u001b[0m\u001b[0;34m\u001b[0m\u001b[0;34m\u001b[0m\u001b[0m\n\u001b[0m",
            "\u001b[0;32m<ipython-input-11-842da4936f2b>\u001b[0m in \u001b[0;36m<genexpr>\u001b[0;34m(.0)\u001b[0m\n\u001b[1;32m     23\u001b[0m \u001b[0mprint\u001b[0m\u001b[0;34m(\u001b[0m\u001b[0;34m)\u001b[0m\u001b[0;34m\u001b[0m\u001b[0;34m\u001b[0m\u001b[0m\n\u001b[1;32m     24\u001b[0m \u001b[0mlabels\u001b[0m \u001b[0;34m=\u001b[0m \u001b[0mlabels\u001b[0m\u001b[0;34m.\u001b[0m\u001b[0mtolist\u001b[0m\u001b[0;34m(\u001b[0m\u001b[0;34m)\u001b[0m\u001b[0;34m\u001b[0m\u001b[0;34m\u001b[0m\u001b[0m\n\u001b[0;32m---> 25\u001b[0;31m \u001b[0mprint\u001b[0m\u001b[0;34m(\u001b[0m\u001b[0;34m' '\u001b[0m\u001b[0;34m.\u001b[0m\u001b[0mjoin\u001b[0m\u001b[0;34m(\u001b[0m\u001b[0;34mf'{list(classes.keys())[list(classes.values()).index(j)]}'\u001b[0m \u001b[0;32mfor\u001b[0m \u001b[0mj\u001b[0m \u001b[0;32min\u001b[0m \u001b[0mlabels\u001b[0m\u001b[0;34m)\u001b[0m\u001b[0;34m)\u001b[0m\u001b[0;34m\u001b[0m\u001b[0;34m\u001b[0m\u001b[0m\n\u001b[0m",
            "\u001b[0;31mNameError\u001b[0m: name 'classes' is not defined"
          ]
        }
      ],
      "source": [
        "import matplotlib.pyplot as plt\n",
        "import numpy as np\n",
        "\n",
        "# functions to show an image\n",
        "\n",
        "\n",
        "def imshow(img):\n",
        "    npimg = img.numpy()\n",
        "    plt.imshow(np.transpose(npimg, (1, 2, 0)))\n",
        "    plt.show()\n",
        "\n",
        "\n",
        "# get some random training images\n",
        "dataiter = iter(train_loader)\n",
        "# print(dataiter.next())\n",
        "images, labels, paths = dataiter.next()\n",
        "\n",
        "batch_size = 16\n",
        "\n",
        "# show images\n",
        "imshow(torchvision.utils.make_grid(images))\n",
        "# print labels\n",
        "print()\n",
        "labels = labels.tolist()\n",
        "print(' '.join(f'{list(classes.keys())[list(classes.values()).index(j)]}' for j in labels))"
      ]
    },
    {
      "cell_type": "markdown",
      "metadata": {
        "id": "48LBspi8RWs8"
      },
      "source": [
        "## Define a Convolutional Neural Network"
      ]
    },
    {
      "cell_type": "code",
      "execution_count": null,
      "metadata": {
        "id": "rN9ai120RYbT"
      },
      "outputs": [],
      "source": [
        "class Net(nn.Module):\n",
        "    def __init__(self):\n",
        "        super().__init__()\n",
        "        \n",
        "        ############### Conv2d, MaxPool2d, Linear 함수에 들어갈 파라미터를 채우세요 ##############\n",
        "        self.conv1 = nn.Conv2d(3,3,3) # in_channel, out_channel, kernel size\n",
        "        self.pool = nn.MaxPool2d(4,4) # kernel_size, stride\n",
        "        self.conv2 = nn.Conv2d(4,8,3)\n",
        "        self.fc1 = nn.Linear(10368,121) # in_features, out_features\n",
        "        self.fc2 = nn.Linear(121,12)\n",
        "        self.fc3 = nn.Linear(12,6)\n",
        "        ###########################################################################################\n",
        "\n",
        "    def forward(self, x):\n",
        "        x = self.pool(F.relu(self.conv1(x)))\n",
        "        x = self.pool(F.relu(self.conv2(x)))\n",
        "        x = torch.flatten(x, 1) # flatten all dimensions except batch\n",
        "        x = F.relu(self.fc1(x))\n",
        "        x = F.relu(self.fc2(x))\n",
        "        x = self.fc3(x)\n",
        "        return x"
      ]
    },
    {
      "cell_type": "code",
      "execution_count": null,
      "metadata": {
        "id": "L12lu8HwcSIh"
      },
      "outputs": [],
      "source": [
        "class VGG16(nn.Module):\n",
        "  def __init__(self):\n",
        "    super().__init__()\n",
        "    self.conv = nn.Sequential(\n",
        "        nn.Conv2d(3,64,3,padding=1),\n",
        "        nn.BatchNorm2d(64),\n",
        "        nn.ReLU(True),\n",
        "        nn.Conv2d(64,64,3,padding=1),\n",
        "        nn.BatchNorm2d(64),\n",
        "        nn.ReLU(True),\n",
        "        nn.MaxPool2d(2,2),\n",
        "        nn.Conv2d(64,128,3,padding=1),\n",
        "        nn.BatchNorm2d(128),\n",
        "        nn.ReLU(True),\n",
        "        nn.Conv2d(128,128,3,padding=1),\n",
        "        nn.BatchNorm2d(128),\n",
        "        nn.MaxPool2d(2,2),\n",
        "        nn.Conv2d(128,256,3,padding=1),\n",
        "        nn.BatchNorm2d(256),\n",
        "        nn.ReLU(True),\n",
        "        nn.Conv2d(256,256,3,padding=1),\n",
        "        nn.BatchNorm2d(256),\n",
        "        nn.ReLU(True),\n",
        "        nn.Conv2d(256,256,3,padding=1),\n",
        "        nn.BatchNorm2d(256),\n",
        "        nn.ReLU(True),\n",
        "        nn.MaxPool2d(2,2),\n",
        "        nn.Conv2d(256,512,3,padding=1),\n",
        "        nn.BatchNorm2d(512),\n",
        "        nn.ReLU(True),\n",
        "        nn.Conv2d(512,512,3,padding=1),\n",
        "        nn.BatchNorm2d(512),\n",
        "        nn.ReLU(True),\n",
        "        nn.Conv2d(512,512,3,padding=1),\n",
        "        nn.BatchNorm2d(512),\n",
        "        nn.ReLU(True),\n",
        "        nn.MaxPool2d(2,2),\n",
        "        nn.Conv2d(512,512,3,padding=1),\n",
        "        nn.BatchNorm2d(512),\n",
        "        nn.ReLU(True),\n",
        "        nn.Conv2d(512,512,3,padding=1),\n",
        "        nn.BatchNorm2d(512),\n",
        "        nn.ReLU(True),\n",
        "        nn.Conv2d(512,512,3,padding=1),\n",
        "        nn.BatchNorm2d(512),\n",
        "        nn.ReLU(True),\n",
        "        nn.MaxPool2d(2,2),\n",
        "    )\n",
        "    self.classifi = nn.Sequential(\n",
        "        nn.Linear(512*7*7,4096),\n",
        "        nn.ReLU(True),\n",
        "        nn.Dropout(0.25),\n",
        "        nn.Linear(4096,1000),\n",
        "        nn.ReLU(True),\n",
        "        nn.Dropout(0.25),\n",
        "        nn.Linear(1000,6)\n",
        "    )\n",
        "    self.conv1_1 = nn.Conv2d(3,64,3,padding=1)\n",
        "    self.conv1_2 = nn.Conv2d(64,64,3,padding=1)\n",
        "\n",
        "    self.conv2_1 = nn.Conv2d(64,128,3,padding=1)\n",
        "    self.conv2_2 = nn.Conv2d(128,128,3,padding=1)\n",
        "\n",
        "    self.conv3_1 = nn.Conv2d(128,256,3,padding=1)\n",
        "    self.conv3_2 = nn.Conv2d(256,256,3,padding=1)\n",
        "    self.conv3_3 = nn.Conv2d(256,256,3,padding=1)\n",
        "\n",
        "    self.conv4_1 = nn.Conv2d(256,512,3,padding=1)\n",
        "    self.conv4_2 = nn.Conv2d(512,512,3,padding=1)\n",
        "    self.conv4_3 = nn.Conv2d(512,512,3,padding=1)\n",
        "\n",
        "    self.conv5_1 = nn.Conv2d(512,512,3,padding=1)\n",
        "    self.conv5_2 = nn.Conv2d(512,512,3,padding=1)\n",
        "    self.conv5_3 = nn.Conv2d(512,512,3,padding=1)\n",
        "\n",
        "    self.pool = nn.MaxPool2d(2,2)\n",
        "    self.relu = nn.ReLU()\n",
        "    self.fc1 = nn.Linear(7*7*512,4096)\n",
        "    self.fc2 = nn.Linear(4096,1000)\n",
        "    self.fc3 = nn.Linear(1000,6)\n",
        "  def forward(self,x):\n",
        "    x = self.conv(x)\n",
        "    x = torch.flatten(x, 1)\n",
        "    x = self.classifi(x)\n",
        "    return x\n",
        "    \n",
        "\n"
      ]
    },
    {
      "cell_type": "code",
      "execution_count": null,
      "metadata": {
        "colab": {
          "base_uri": "https://localhost:8080/"
        },
        "id": "EZWB9LdVgNNK",
        "outputId": "6964091c-694d-4d28-9aa5-47f8dc288a89"
      },
      "outputs": [
        {
          "name": "stdout",
          "output_type": "stream",
          "text": [
            "----------------------------------------------------------------\n",
            "        Layer (type)               Output Shape         Param #\n",
            "================================================================\n",
            "            Conv2d-1         [-1, 64, 224, 224]           1,792\n",
            "       BatchNorm2d-2         [-1, 64, 224, 224]             128\n",
            "              ReLU-3         [-1, 64, 224, 224]               0\n",
            "            Conv2d-4         [-1, 64, 224, 224]          36,928\n",
            "       BatchNorm2d-5         [-1, 64, 224, 224]             128\n",
            "              ReLU-6         [-1, 64, 224, 224]               0\n",
            "         MaxPool2d-7         [-1, 64, 112, 112]               0\n",
            "            Conv2d-8        [-1, 128, 112, 112]          73,856\n",
            "       BatchNorm2d-9        [-1, 128, 112, 112]             256\n",
            "             ReLU-10        [-1, 128, 112, 112]               0\n",
            "           Conv2d-11        [-1, 128, 112, 112]         147,584\n",
            "      BatchNorm2d-12        [-1, 128, 112, 112]             256\n",
            "        MaxPool2d-13          [-1, 128, 56, 56]               0\n",
            "           Conv2d-14          [-1, 256, 56, 56]         295,168\n",
            "      BatchNorm2d-15          [-1, 256, 56, 56]             512\n",
            "             ReLU-16          [-1, 256, 56, 56]               0\n",
            "           Conv2d-17          [-1, 256, 56, 56]         590,080\n",
            "      BatchNorm2d-18          [-1, 256, 56, 56]             512\n",
            "             ReLU-19          [-1, 256, 56, 56]               0\n",
            "           Conv2d-20          [-1, 256, 56, 56]         590,080\n",
            "      BatchNorm2d-21          [-1, 256, 56, 56]             512\n",
            "             ReLU-22          [-1, 256, 56, 56]               0\n",
            "        MaxPool2d-23          [-1, 256, 28, 28]               0\n",
            "           Conv2d-24          [-1, 512, 28, 28]       1,180,160\n",
            "      BatchNorm2d-25          [-1, 512, 28, 28]           1,024\n",
            "             ReLU-26          [-1, 512, 28, 28]               0\n",
            "           Conv2d-27          [-1, 512, 28, 28]       2,359,808\n",
            "      BatchNorm2d-28          [-1, 512, 28, 28]           1,024\n",
            "             ReLU-29          [-1, 512, 28, 28]               0\n",
            "           Conv2d-30          [-1, 512, 28, 28]       2,359,808\n",
            "      BatchNorm2d-31          [-1, 512, 28, 28]           1,024\n",
            "             ReLU-32          [-1, 512, 28, 28]               0\n",
            "        MaxPool2d-33          [-1, 512, 14, 14]               0\n",
            "           Conv2d-34          [-1, 512, 14, 14]       2,359,808\n",
            "      BatchNorm2d-35          [-1, 512, 14, 14]           1,024\n",
            "             ReLU-36          [-1, 512, 14, 14]               0\n",
            "           Conv2d-37          [-1, 512, 14, 14]       2,359,808\n",
            "      BatchNorm2d-38          [-1, 512, 14, 14]           1,024\n",
            "             ReLU-39          [-1, 512, 14, 14]               0\n",
            "           Conv2d-40          [-1, 512, 14, 14]       2,359,808\n",
            "      BatchNorm2d-41          [-1, 512, 14, 14]           1,024\n",
            "             ReLU-42          [-1, 512, 14, 14]               0\n",
            "        MaxPool2d-43            [-1, 512, 7, 7]               0\n",
            "           Linear-44                 [-1, 4096]     102,764,544\n",
            "             ReLU-45                 [-1, 4096]               0\n",
            "           Linear-46                 [-1, 1000]       4,097,000\n",
            "             ReLU-47                 [-1, 1000]               0\n",
            "           Linear-48                    [-1, 6]           6,006\n",
            "================================================================\n",
            "Total params: 121,590,686\n",
            "Trainable params: 121,590,686\n",
            "Non-trainable params: 0\n",
            "----------------------------------------------------------------\n",
            "Input size (MB): 0.57\n",
            "Forward/backward pass size (MB): 309.58\n",
            "Params size (MB): 463.83\n",
            "Estimated Total Size (MB): 773.99\n",
            "----------------------------------------------------------------\n"
          ]
        }
      ],
      "source": [
        "device = torch.device(\"cuda:0\" if torch.cuda.is_available() else \"cpu\") # Use GPU if it's available # colab 런타임 유형 변경에서 GPU 선택할 것\n",
        "net = VGG16().to(device)\n",
        "# print(net)\n",
        "summary(net,(3,224,224),device=device.type)"
      ]
    },
    {
      "cell_type": "code",
      "execution_count": null,
      "metadata": {
        "colab": {
          "base_uri": "https://localhost:8080/"
        },
        "id": "polufbyLuvaP",
        "outputId": "e09898d6-6140-4111-dc8b-efdd32d6c592"
      },
      "outputs": [
        {
          "data": {
            "text/plain": [
              "<generator object Module.parameters at 0x7f232363dba0>"
            ]
          },
          "execution_count": 19,
          "metadata": {},
          "output_type": "execute_result"
        }
      ],
      "source": [
        "net.parameters()"
      ]
    },
    {
      "cell_type": "markdown",
      "metadata": {
        "id": "LUcf9NGKntFl"
      },
      "source": [
        "##Load Network weight\n",
        "\n",
        "\n"
      ]
    },
    {
      "cell_type": "code",
      "execution_count": null,
      "metadata": {
        "colab": {
          "base_uri": "https://localhost:8080/",
          "height": 368
        },
        "id": "FEUiosTKnvkZ",
        "outputId": "31bd9da0-8ef5-4196-cb61-c0a96eb926d4"
      },
      "outputs": [
        {
          "ename": "RuntimeError",
          "evalue": "ignored",
          "output_type": "error",
          "traceback": [
            "\u001b[0;31m---------------------------------------------------------------------------\u001b[0m",
            "\u001b[0;31mRuntimeError\u001b[0m                              Traceback (most recent call last)",
            "\u001b[0;32m<ipython-input-32-47a7467f0089>\u001b[0m in \u001b[0;36m<module>\u001b[0;34m\u001b[0m\n\u001b[1;32m      3\u001b[0m \u001b[0mdevice\u001b[0m \u001b[0;34m=\u001b[0m \u001b[0mtorch\u001b[0m\u001b[0;34m.\u001b[0m\u001b[0mdevice\u001b[0m\u001b[0;34m(\u001b[0m\u001b[0;34m\"cuda:0\"\u001b[0m \u001b[0;32mif\u001b[0m \u001b[0mtorch\u001b[0m\u001b[0;34m.\u001b[0m\u001b[0mcuda\u001b[0m\u001b[0;34m.\u001b[0m\u001b[0mis_available\u001b[0m\u001b[0;34m(\u001b[0m\u001b[0;34m)\u001b[0m \u001b[0;32melse\u001b[0m \u001b[0;34m\"cpu\"\u001b[0m\u001b[0;34m)\u001b[0m \u001b[0;31m# Use GPU if it's available # colab 런타임 유형 변경에서 GPU 선택할 것\u001b[0m\u001b[0;34m\u001b[0m\u001b[0;34m\u001b[0m\u001b[0m\n\u001b[1;32m      4\u001b[0m \u001b[0mnet\u001b[0m \u001b[0;34m=\u001b[0m \u001b[0mnet\u001b[0m\u001b[0;34m.\u001b[0m\u001b[0mto\u001b[0m\u001b[0;34m(\u001b[0m\u001b[0mdevice\u001b[0m\u001b[0;34m)\u001b[0m \u001b[0;31m# send the network to the device\u001b[0m\u001b[0;34m\u001b[0m\u001b[0;34m\u001b[0m\u001b[0m\n\u001b[0;32m----> 5\u001b[0;31m \u001b[0mnet\u001b[0m\u001b[0;34m.\u001b[0m\u001b[0mload_state_dict\u001b[0m\u001b[0;34m(\u001b[0m\u001b[0mtorch\u001b[0m\u001b[0;34m.\u001b[0m\u001b[0mload\u001b[0m\u001b[0;34m(\u001b[0m\u001b[0mPATH\u001b[0m\u001b[0;34m)\u001b[0m\u001b[0;34m)\u001b[0m\u001b[0;34m\u001b[0m\u001b[0;34m\u001b[0m\u001b[0m\n\u001b[0m",
            "\u001b[0;32m/usr/local/lib/python3.8/dist-packages/torch/nn/modules/module.py\u001b[0m in \u001b[0;36mload_state_dict\u001b[0;34m(self, state_dict, strict)\u001b[0m\n\u001b[1;32m   1602\u001b[0m \u001b[0;34m\u001b[0m\u001b[0m\n\u001b[1;32m   1603\u001b[0m         \u001b[0;32mif\u001b[0m \u001b[0mlen\u001b[0m\u001b[0;34m(\u001b[0m\u001b[0merror_msgs\u001b[0m\u001b[0;34m)\u001b[0m \u001b[0;34m>\u001b[0m \u001b[0;36m0\u001b[0m\u001b[0;34m:\u001b[0m\u001b[0;34m\u001b[0m\u001b[0;34m\u001b[0m\u001b[0m\n\u001b[0;32m-> 1604\u001b[0;31m             raise RuntimeError('Error(s) in loading state_dict for {}:\\n\\t{}'.format(\n\u001b[0m\u001b[1;32m   1605\u001b[0m                                self.__class__.__name__, \"\\n\\t\".join(error_msgs)))\n\u001b[1;32m   1606\u001b[0m         \u001b[0;32mreturn\u001b[0m \u001b[0m_IncompatibleKeys\u001b[0m\u001b[0;34m(\u001b[0m\u001b[0mmissing_keys\u001b[0m\u001b[0;34m,\u001b[0m \u001b[0munexpected_keys\u001b[0m\u001b[0;34m)\u001b[0m\u001b[0;34m\u001b[0m\u001b[0;34m\u001b[0m\u001b[0m\n",
            "\u001b[0;31mRuntimeError\u001b[0m: Error(s) in loading state_dict for VGG16:\n\tMissing key(s) in state_dict: \"classifi.3.weight\", \"classifi.3.bias\", \"classifi.6.weight\", \"classifi.6.bias\". \n\tUnexpected key(s) in state_dict: \"classifi.2.weight\", \"classifi.2.bias\", \"classifi.4.weight\", \"classifi.4.bias\". "
          ]
        }
      ],
      "source": [
        "PATH='/content/drive/MyDrive/VGG16_bn_aug_loss(2).pt'\n",
        "net = VGG16()\n",
        "device = torch.device(\"cuda:0\" if torch.cuda.is_available() else \"cpu\") # Use GPU if it's available # colab 런타임 유형 변경에서 GPU 선택할 것\n",
        "net = net.to(device) # send the network to the device\n",
        "net.load_state_dict(torch.load(PATH))\n"
      ]
    },
    {
      "cell_type": "markdown",
      "metadata": {
        "id": "MYjwxYMWIcoS"
      },
      "source": [
        "## Define a Loss function and optimizer"
      ]
    },
    {
      "cell_type": "code",
      "execution_count": 46,
      "metadata": {
        "id": "nJGFKXd4R56K"
      },
      "outputs": [],
      "source": [
        "criterion = nn.CrossEntropyLoss() # loss function, 변경 가능\n",
        "# optimizer = optim.SGD(net.parameters(), lr=0.01, momentum=0.9) # optimizer, 변경 가능\n",
        "optimizer = optim.AdamW(net.parameters(),lr=0.000001)\n",
        "# scheduler = optim.lr_scheduler.StepLR(optimizer,step_size=10,gamma=0.5)\n",
        "# scheduler=optim.lr_scheduler.ReduceLROnPlateau(optimizer,\"min\")"
      ]
    },
    {
      "cell_type": "markdown",
      "metadata": {
        "id": "T0hWm2qrYb-b"
      },
      "source": [
        "## Train the Network"
      ]
    },
    {
      "cell_type": "code",
      "execution_count": 47,
      "metadata": {
        "colab": {
          "base_uri": "https://localhost:8080/",
          "height": 619,
          "referenced_widgets": [
            "2aa4c5e1331149d3b8e8ab285bcd8184",
            "6a78d1e2c3ac40cf8aacdd8f6dd69e30",
            "5cb3330468b147fe9736e42a0e6fa4d8",
            "b51ce597a788403380dd05cbebef015c",
            "69000cc55ca84d2fb49d38b0d6342460",
            "aff0c43c86f340a8b144e0f0567abbd9",
            "f01f5868ce2b4989a7fd9648961ad76f",
            "2b3f5faa32734662b9949b531144c7a2",
            "86a8efad33434773aae42aeb3d3bbc6b",
            "745107e7e2f5426b9fb4e509c9bd02f5",
            "c78d0a75eb964a49b835cf07f8dbe06c",
            "01d28e19d8634635bd2fe7c6b5b0c01d",
            "486e5f3405b8464f8b98c590d2447e9f",
            "dc58485d2b9743838a9e2a3090299237",
            "2850ade6973a4e3786bef166fe4ee468",
            "70f0e1f292224bc18b071d4859d1b991",
            "581b9d13465c4852836ae252b1854713",
            "d005f56547a3406d9f5b80e9444b24e2",
            "301cc2cd655d44a6bc88dd4210b3b265",
            "0fdf40783d674c508ddd8ebeac06b158",
            "f835eed73fb4400f992c0239bbc8bbbd",
            "3b76f3c80b3b4e4180c1bcb2bea1c406",
            "9ad163876fcd425f9ba31a15128300af",
            "9f202d0124524dbba1c7b072e20a5b4d",
            "697362b77b194d0f978a3ddf55d1ce99",
            "218155b2100b433f99148047204f52bb",
            "2ba0ef01d5d0465d8d9ea452d311a01a",
            "c65b6aee11d343248a4e4bb2640196e8",
            "dd004d1d50764b69911d5d6a08143aed",
            "92c90bde05be497b9b2a2970a682cc82",
            "93fe744b03dd4a0bb782a0c0e72e532c",
            "eb6263e88f44487d8d384fc34fcebc65",
            "985f9af21d744a6f9e576391e038b723",
            "463b9e3acbf64fc39778ffa9832b5f97",
            "1454e1c7267243b99790a1827aa3d381",
            "48060fdbc3a34273899244965eab9bf9",
            "26ae189516854429b75679c8b9a4d0b5",
            "ab24a9d93c2e4b64b0dc0befee2a5b1a",
            "5ed26373b0304e3daf11ac6b28d58cda",
            "f50e161e8777464d9572a70ac278bd4a",
            "13ece0b45eb24a4c8a0560d97b79f9ee",
            "10a3c29042a54f46841f191dcc5ad0db",
            "bb9c93c6acab4f82a274363b89240edb",
            "2c70cb7b6ef947d59fbcd86753b83bbd",
            "3e3d8f58e2a24338a27af18fc40ea987",
            "fce36df90d2c43a3aa949c26a0b82c38",
            "b94432d29aee4515bd027839445ca62c",
            "7e65f414c1374af195c9999b14cc70b7",
            "895d93aca48847b8a469b6eaaf621469",
            "4915823012704a3cb33654ef60f51811",
            "bca08efc00d04934b1ca671947ede6bb",
            "e8907eac1d9b47b09b12803894d86893",
            "d501c62985b14c198056badd375c7307",
            "0bf189bc33214c62be07feccd8b80165",
            "ec2477647b264cc183298e0facb5e85c"
          ]
        },
        "id": "NbeNY3IJR7nQ",
        "outputId": "15f54007-24f5-44ea-8c86-6dc47af6559b"
      },
      "outputs": [
        {
          "output_type": "display_data",
          "data": {
            "text/plain": [
              "  0%|          | 0/77 [00:00<?, ?it/s]"
            ],
            "application/vnd.jupyter.widget-view+json": {
              "version_major": 2,
              "version_minor": 0,
              "model_id": "2aa4c5e1331149d3b8e8ab285bcd8184"
            }
          },
          "metadata": {}
        },
        {
          "output_type": "stream",
          "name": "stdout",
          "text": [
            "[1,    15] loss: 2.536\n",
            "[1,    30] loss: 3.706\n",
            "[1,    45] loss: 3.794\n",
            "[1,    60] loss: 2.521\n",
            "[1,    75] loss: 3.268\n"
          ]
        },
        {
          "output_type": "display_data",
          "data": {
            "text/plain": [
              "  0%|          | 0/77 [00:00<?, ?it/s]"
            ],
            "application/vnd.jupyter.widget-view+json": {
              "version_major": 2,
              "version_minor": 0,
              "model_id": "01d28e19d8634635bd2fe7c6b5b0c01d"
            }
          },
          "metadata": {}
        },
        {
          "output_type": "stream",
          "name": "stdout",
          "text": [
            "[2,    15] loss: 3.499\n",
            "[2,    30] loss: 4.567\n",
            "[2,    45] loss: 3.215\n",
            "[2,    60] loss: 4.004\n",
            "[2,    75] loss: 2.884\n"
          ]
        },
        {
          "output_type": "display_data",
          "data": {
            "text/plain": [
              "  0%|          | 0/77 [00:00<?, ?it/s]"
            ],
            "application/vnd.jupyter.widget-view+json": {
              "version_major": 2,
              "version_minor": 0,
              "model_id": "9ad163876fcd425f9ba31a15128300af"
            }
          },
          "metadata": {}
        },
        {
          "output_type": "stream",
          "name": "stdout",
          "text": [
            "[3,    15] loss: 3.128\n",
            "[3,    30] loss: 3.522\n",
            "[3,    45] loss: 3.221\n",
            "[3,    60] loss: 2.564\n",
            "[3,    75] loss: 3.352\n"
          ]
        },
        {
          "output_type": "display_data",
          "data": {
            "text/plain": [
              "  0%|          | 0/77 [00:00<?, ?it/s]"
            ],
            "application/vnd.jupyter.widget-view+json": {
              "version_major": 2,
              "version_minor": 0,
              "model_id": "463b9e3acbf64fc39778ffa9832b5f97"
            }
          },
          "metadata": {}
        },
        {
          "output_type": "stream",
          "name": "stdout",
          "text": [
            "[4,    15] loss: 3.477\n",
            "[4,    30] loss: 3.417\n",
            "[4,    45] loss: 2.847\n",
            "[4,    60] loss: 2.813\n",
            "[4,    75] loss: 3.640\n"
          ]
        },
        {
          "output_type": "display_data",
          "data": {
            "text/plain": [
              "  0%|          | 0/77 [00:00<?, ?it/s]"
            ],
            "application/vnd.jupyter.widget-view+json": {
              "version_major": 2,
              "version_minor": 0,
              "model_id": "3e3d8f58e2a24338a27af18fc40ea987"
            }
          },
          "metadata": {}
        },
        {
          "output_type": "stream",
          "name": "stdout",
          "text": [
            "[5,    15] loss: 4.297\n",
            "[5,    30] loss: 4.501\n",
            "[5,    45] loss: 2.573\n",
            "[5,    60] loss: 2.510\n",
            "[5,    75] loss: 3.048\n",
            "Finished Training\n"
          ]
        }
      ],
      "source": [
        "net.train()\n",
        "for epoch in range(5):  # loop over the dataset multiple times\n",
        "\n",
        "    running_loss = 0.0\n",
        "    for i, data in enumerate(tqdm(train_loader, 0)):\n",
        "        # get the inputs; data is a list of [inputs, labels]\n",
        "        inputs, labels, paths = data\n",
        "        inputs = inputs.to(device)\n",
        "        labels = labels.to(device)\n",
        "        # zero the parameter gradients\n",
        "        optimizer.zero_grad()\n",
        "\n",
        "        # forward + backward + optimize\n",
        "        outputs = net(inputs)\n",
        "        loss = criterion(outputs, labels)\n",
        "        loss.backward()\n",
        "        optimizer.step()\n",
        "        # scheduler.step(loss)\n",
        "        # print statistics\n",
        "        running_loss += loss.item()\n",
        "        if i % 15 == 14:    # print every 2000 mini-batches\n",
        "            print(f'[{epoch + 1}, {i + 1:5d}] loss: {running_loss:.3f}')\n",
        "            running_loss = 0.0\n",
        "\n",
        "print('Finished Training') # epoch이 50일 때, training acc 46% 달성"
      ]
    },
    {
      "cell_type": "markdown",
      "metadata": {
        "id": "-8ICyzY62LE9"
      },
      "source": [
        "## Calculate Training accuracy"
      ]
    },
    {
      "cell_type": "code",
      "execution_count": 48,
      "metadata": {
        "id": "PoWGzsS923oR"
      },
      "outputs": [],
      "source": [
        "train_test_loader = torch.utils.data.DataLoader(train_data, batch_size=1, shuffle=False) # make train_test loader"
      ]
    },
    {
      "cell_type": "code",
      "execution_count": 49,
      "metadata": {
        "colab": {
          "base_uri": "https://localhost:8080/",
          "height": 83,
          "referenced_widgets": [
            "52964c41b64046908a034a0fffe242ff",
            "fdfa797013034b1ebe946aff4d6c6983",
            "fb6cbba78b7746d59734a52213010525",
            "7fe17922fd2147df89a03de8f6290d0a",
            "080bdd2f67e341e589e7918c43a6feee",
            "d854fc9175af4a7fabe61fe2e3b041fb",
            "db88c5ffeb964d30a5884468e5ff000c",
            "401799983d634914b1482565d8738200",
            "2d1b5ab3fb3146d099d6f0229a0f3e5a",
            "829540b54b7649b18e7fd2e74a06d397",
            "560b1a0d7977483183ced2b1f99be867"
          ]
        },
        "id": "3ebdFbso2PMB",
        "outputId": "80029557-10c5-40a0-f566-1bf434323784"
      },
      "outputs": [
        {
          "output_type": "display_data",
          "data": {
            "text/plain": [
              "  0%|          | 0/1229 [00:00<?, ?it/s]"
            ],
            "application/vnd.jupyter.widget-view+json": {
              "version_major": 2,
              "version_minor": 0,
              "model_id": "52964c41b64046908a034a0fffe242ff"
            }
          },
          "metadata": {}
        },
        {
          "output_type": "stream",
          "name": "stdout",
          "text": [
            "Accuracy of the network on the 1229 test images: 97 %\n",
            "t:1196 f:33\n"
          ]
        }
      ],
      "source": [
        "correct = 0\n",
        "total = 0\n",
        "\n",
        "t=0\n",
        "f=0\n",
        "image_id = []\n",
        "predicted_label = []\n",
        "net.eval()\n",
        "with torch.no_grad(): # since we're not training, we don't need to calculate the gradients for our outputs\n",
        "    for i, data in enumerate(tqdm(train_test_loader,0)):\n",
        "        images, labels, paths = data\n",
        "        images = images.to(device)\n",
        "        labels = labels.to(device)\n",
        "        # calculate outputs by running images through the network\n",
        "        outputs = net(images)\n",
        "        # the class with the highest energy is what we choose as prediction\n",
        "        _, predicted = torch.max(outputs.data, 1)\n",
        "        values,indexs = torch.topk(outputs.data, 1)\n",
        "        if labels in indexs:\n",
        "          t+=1\n",
        "        else:\n",
        "          f+=1\n",
        "        image_id.append(paths)\n",
        "        predicted_label.append(predicted.item())\n",
        "\n",
        "        total += labels.size(0)\n",
        "        correct += (predicted == labels).sum().item()\n",
        "\n",
        "        # print('path:', paths, 'predicted_label:', predicted)\n",
        "print(f'Accuracy of the network on the {len(train_test_loader.dataset)} test images: {100 * correct // total} %')\n",
        "print(f't:{t} f:{f}' )"
      ]
    },
    {
      "cell_type": "markdown",
      "metadata": {
        "id": "Yot8z0mVYrxs"
      },
      "source": [
        "## Save the Network"
      ]
    },
    {
      "cell_type": "code",
      "execution_count": null,
      "metadata": {
        "id": "ZeKXaNHDzOUB"
      },
      "outputs": [],
      "source": [
        "# # save the trained model\n",
        "# PATH = './net_pretrained.pth'\n",
        "# torch.save(net.state_dict(), PATH)"
      ]
    },
    {
      "cell_type": "code",
      "execution_count": null,
      "metadata": {
        "id": "kbWP8eqlIRxv"
      },
      "outputs": [],
      "source": [
        "PATH='/content/drive/MyDrive/VGG16_bn_aug_loss(2).pt'\n",
        "torch.save(net.state_dict(), PATH)\n"
      ]
    },
    {
      "cell_type": "markdown",
      "metadata": {
        "id": "EkWLaW3mYxBB"
      },
      "source": [
        "## Testing & Making a Submission File"
      ]
    },
    {
      "cell_type": "code",
      "execution_count": null,
      "metadata": {
        "id": "VG4cTucbkqMm"
      },
      "outputs": [],
      "source": [
        "from PIL import Image\n",
        "import torch\n",
        "from torch.utils.data import Dataset\n",
        "import os\n",
        "\n",
        "class testDataset(Dataset):\n",
        "    def __init__(self, data_dir, transform):\n",
        "        # path to images\n",
        "        path2data = os.path.join(data_dir)\n",
        "\n",
        "        # get a list of images\n",
        "        filenames = os.listdir(path2data)\n",
        "\n",
        "        # get the full path to images\n",
        "        self.full_filenames = [os.path.join(path2data, f) for f in filenames]\n",
        "        \n",
        "        # set transformations\n",
        "        self.transform = transform\n",
        "\n",
        "    def __len__(self):\n",
        "        # return size of dataset\n",
        "        return len(self.full_filenames)\n",
        "\n",
        "    def __getitem__(self, idx):\n",
        "        # open image, apply transforms and return with label\n",
        "        image = Image.open(self.full_filenames[idx])\n",
        "        image = self.transform(image)\n",
        "        image_name = self.full_filenames[idx]\n",
        "        return image, image_name"
      ]
    },
    {
      "cell_type": "code",
      "execution_count": null,
      "metadata": {
        "id": "MrgfxBu_kyH3"
      },
      "outputs": [],
      "source": [
        "test_data = testDataset('coins_images/TEST/',image_transforms['test'])\n",
        "test_loader = torch.utils.data.DataLoader(test_data, batch_size=1, shuffle=False) # ALWAYS SET SHUFFLE FALSE"
      ]
    },
    {
      "cell_type": "code",
      "execution_count": null,
      "metadata": {
        "colab": {
          "base_uri": "https://localhost:8080/",
          "height": 66,
          "referenced_widgets": [
            "444a24c2621e4785862acd5bc6b53133",
            "bd6520506e0543588277ac548fb33d6c",
            "5dea8f47ffcf47e98ed70f8acd4a6851",
            "868b230bc83d48fba18390c86803941f",
            "e98e62eb33be4ed89628f2586069cc14",
            "4a0dbe6f6850412f8cd61f122f53b316",
            "422bb1abbf82411788c704711bde3b05",
            "e8d4f65f4c4342239a0dc05428487f4a",
            "a8de4512ee724bf5a6e475b123568edd",
            "04208f33a4b7443a94e6a2ed6e112eb4",
            "bf7cce71e4c546d49c46c50a69a175c0"
          ]
        },
        "id": "gGa0cnK60AN-",
        "outputId": "72f4564a-839e-430f-8d6a-bb77e079ce14"
      },
      "outputs": [
        {
          "data": {
            "application/vnd.jupyter.widget-view+json": {
              "model_id": "444a24c2621e4785862acd5bc6b53133",
              "version_major": 2,
              "version_minor": 0
            },
            "text/plain": [
              "  0%|          | 0/120 [00:00<?, ?it/s]"
            ]
          },
          "metadata": {},
          "output_type": "display_data"
        },
        {
          "name": "stdout",
          "output_type": "stream",
          "text": [
            "Accuracy of the network on the 120 test images: 21 %\n"
          ]
        }
      ],
      "source": [
        "total=0\n",
        "correct=0\n",
        "image_id = []\n",
        "predicted_label = []\n",
        "with torch.no_grad(): # since we're not training, we don't need to calculate the gradients for our outputs\n",
        "    for i, data in enumerate(tqdm(test_loader,0)):\n",
        "        images, paths = data\n",
        "        images = images.to(device)\n",
        "        labels = labels.to(device)\n",
        "\n",
        "        # calculate outputs by running images through the network\n",
        "        outputs = net(images)\n",
        "        # the class with the highest energy is what we choose as prediction\n",
        "        _, predicted = torch.max(outputs.data, 1)\n",
        "        path = os.path.basename(paths[0])\n",
        "        image_id.append(path)\n",
        "        predicted_label.append(predicted.item())\n",
        "\n",
        "        total += labels.size(0)\n",
        "        correct += (predicted == labels).sum().item()\n",
        "\n",
        "        # print('path:', paths, 'predicted_label:', predicted)\n",
        "print(f'Accuracy of the network on the {len(test_loader.dataset)} test images: {100 * correct // total} %')"
      ]
    },
    {
      "cell_type": "code",
      "execution_count": null,
      "metadata": {
        "id": "P1PAon1rm4Gi"
      },
      "outputs": [],
      "source": [
        "predicted_df = pd.DataFrame({'image_id': image_id, 'predicted_label': predicted_label})"
      ]
    },
    {
      "cell_type": "code",
      "execution_count": null,
      "metadata": {
        "id": "KvbzSECu9ReF"
      },
      "outputs": [],
      "source": [
        "predicted_df['predicted_label'] = predicted_df.predicted_label.astype(str)"
      ]
    },
    {
      "cell_type": "code",
      "execution_count": null,
      "metadata": {
        "id": "pzlPM5ZusMiS"
      },
      "outputs": [],
      "source": [
        "predicted_df.to_csv('prediction_result.csv', index=False)"
      ]
    },
    {
      "cell_type": "markdown",
      "metadata": {
        "id": "62al4c6zpelS"
      },
      "source": [
        "##Efficient Net\n"
      ]
    },
    {
      "cell_type": "code",
      "execution_count": null,
      "metadata": {
        "id": "5m4-84Ai5AVq"
      },
      "outputs": [],
      "source": [
        "# #@title\n",
        "# #Swish activation function\n",
        "# class Swish(nn.Module):\n",
        "#   def __init__(self):\n",
        "#     super().__init__()\n",
        "#     self.sigmoid = nn.Sigmoid()\n",
        "#   def forward(self, x):\n",
        "#         return x * self.sigmoid(x)\n",
        "# #check\n",
        "# if __name__ == '__main__':\n",
        "#   x = torch.randn(3,3,224,224)\n",
        "#   model = Swish()\n",
        "#   output = model(x)\n",
        "#   print('output size:',output.size())"
      ]
    },
    {
      "cell_type": "code",
      "execution_count": null,
      "metadata": {
        "id": "Q_0EH9OA6Bc2"
      },
      "outputs": [],
      "source": [
        "# #@title\n",
        "# # SE Block\n",
        "# class SEBlock(nn.Module):\n",
        "#     def __init__(self, in_channels, r=4):\n",
        "#         super().__init__()\n",
        "\n",
        "#         self.squeeze = nn.AdaptiveAvgPool2d((1,1))\n",
        "#         self.excitation = nn.Sequential(\n",
        "#             nn.Linear(in_channels, in_channels * r),\n",
        "#             Swish(),\n",
        "#             nn.Linear(in_channels * r, in_channels),\n",
        "#             nn.Sigmoid()\n",
        "#         )\n",
        "\n",
        "#     def forward(self, x):\n",
        "#         x = self.squeeze(x)\n",
        "#         x = x.view(x.size(0), -1)\n",
        "#         x = self.excitation(x)\n",
        "#         x = x.view(x.size(0), x.size(1), 1, 1)\n",
        "#         return x\n",
        "\n",
        "# # check\n",
        "# if __name__ == '__main__':\n",
        "#     x = torch.randn(3, 56, 17, 17)\n",
        "#     model = SEBlock(x.size(1))\n",
        "#     output = model(x)\n",
        "#     print('output size:', output.size())"
      ]
    },
    {
      "cell_type": "code",
      "execution_count": null,
      "metadata": {
        "id": "AA8HQZ727axc"
      },
      "outputs": [],
      "source": [
        "# #@title\n",
        "# class MBConv(nn.Module):\n",
        "#     expand = 6\n",
        "#     def __init__(self, in_channels, out_channels, kernel_size, stride=1, se_scale=4, p=0.5):\n",
        "#         super().__init__()\n",
        "#         # first MBConv is not using stochastic depth\n",
        "#         self.p = torch.tensor(p).float() if (in_channels == out_channels) else torch.tensor(1).float()\n",
        "\n",
        "#         self.residual = nn.Sequential(\n",
        "#             nn.Conv2d(in_channels, in_channels * MBConv.expand, 1, stride=stride, padding=0, bias=False),\n",
        "#             nn.BatchNorm2d(in_channels * MBConv.expand, momentum=0.99, eps=1e-3),\n",
        "#             Swish(),\n",
        "#             nn.Conv2d(in_channels * MBConv.expand, in_channels * MBConv.expand, kernel_size=kernel_size,\n",
        "#                       stride=1, padding=kernel_size//2, bias=False, groups=in_channels*MBConv.expand),\n",
        "#             nn.BatchNorm2d(in_channels * MBConv.expand, momentum=0.99, eps=1e-3),\n",
        "#             Swish()\n",
        "#         )\n",
        "\n",
        "#         self.se = SEBlock(in_channels * MBConv.expand, se_scale)\n",
        "\n",
        "#         self.project = nn.Sequential(\n",
        "#             nn.Conv2d(in_channels*MBConv.expand, out_channels, kernel_size=1, stride=1, padding=0, bias=False),\n",
        "#             nn.BatchNorm2d(out_channels, momentum=0.99, eps=1e-3)\n",
        "#         )\n",
        "\n",
        "#         self.shortcut = (stride == 1) and (in_channels == out_channels)\n",
        "\n",
        "#     def forward(self, x):\n",
        "#         # stochastic depth\n",
        "#         if self.training:\n",
        "#             if not torch.bernoulli(self.p):\n",
        "#                 return x\n",
        "\n",
        "#         x_shortcut = x\n",
        "#         x_residual = self.residual(x)\n",
        "#         x_se = self.se(x_residual)\n",
        "\n",
        "#         x = x_se * x_residual\n",
        "#         x = self.project(x)\n",
        "\n",
        "#         if self.shortcut:\n",
        "#             x= x_shortcut + x\n",
        "\n",
        "#         return x\n",
        "\n",
        "# # check\n",
        "# if __name__ == '__main__':\n",
        "#     x = torch.randn(3, 16, 24, 24)\n",
        "#     model = MBConv(x.size(1), x.size(1), 3, stride=1, p=1)\n",
        "#     model.train()\n",
        "#     output = model(x)\n",
        "#     x = (output == x)\n",
        "#     print('output size:', output.size(), 'Stochastic depth:', x[1,0,0,0])"
      ]
    },
    {
      "cell_type": "code",
      "execution_count": null,
      "metadata": {
        "id": "V9OF1hKj7e6o"
      },
      "outputs": [],
      "source": [
        "# #@title\n",
        "# class SepConv(nn.Module):\n",
        "#     expand = 1\n",
        "#     def __init__(self, in_channels, out_channels, kernel_size, stride=1, se_scale=4, p=0.5):\n",
        "#         super().__init__()\n",
        "#         # first SepConv is not using stochastic depth\n",
        "#         self.p = torch.tensor(p).float() if (in_channels == out_channels) else torch.tensor(1).float()\n",
        "\n",
        "#         self.residual = nn.Sequential(\n",
        "#             nn.Conv2d(in_channels * SepConv.expand, in_channels * SepConv.expand, kernel_size=kernel_size,\n",
        "#                       stride=1, padding=kernel_size//2, bias=False, groups=in_channels*SepConv.expand),\n",
        "#             nn.BatchNorm2d(in_channels * SepConv.expand, momentum=0.99, eps=1e-3),\n",
        "#             Swish()\n",
        "#         )\n",
        "\n",
        "#         self.se = SEBlock(in_channels * SepConv.expand, se_scale)\n",
        "\n",
        "#         self.project = nn.Sequential(\n",
        "#             nn.Conv2d(in_channels*SepConv.expand, out_channels, kernel_size=1, stride=1, padding=0, bias=False),\n",
        "#             nn.BatchNorm2d(out_channels, momentum=0.99, eps=1e-3)\n",
        "#         )\n",
        "\n",
        "#         self.shortcut = (stride == 1) and (in_channels == out_channels)\n",
        "\n",
        "#     def forward(self, x):\n",
        "#         # stochastic depth\n",
        "#         if self.training:\n",
        "#             if not torch.bernoulli(self.p):\n",
        "#                 return x\n",
        "\n",
        "#         x_shortcut = x\n",
        "#         x_residual = self.residual(x)\n",
        "#         x_se = self.se(x_residual)\n",
        "\n",
        "#         x = x_se * x_residual\n",
        "#         x = self.project(x)\n",
        "\n",
        "#         if self.shortcut:\n",
        "#             x= x_shortcut + x\n",
        "\n",
        "#         return x\n",
        "\n",
        "# # check\n",
        "# if __name__ == '__main__':\n",
        "#     x = torch.randn(3, 16, 24, 24)\n",
        "#     model = SepConv(x.size(1), x.size(1), 3, stride=1, p=1)\n",
        "#     model.train()\n",
        "#     output = model(x)\n",
        "#     # stochastic depth check\n",
        "#     x = (output == x)\n",
        "#     print('output size:', output.size(), 'Stochastic depth:', x[1,0,0,0])"
      ]
    },
    {
      "cell_type": "code",
      "execution_count": null,
      "metadata": {
        "id": "SmXChuPD7j5y"
      },
      "outputs": [],
      "source": [
        "# #@title\n",
        "# class EfficientNet(nn.Module):\n",
        "#     def __init__(self, num_classes=10, width_coef=1., depth_coef=1., scale=1., dropout=0.2, se_scale=4, stochastic_depth=False, p=0.5):\n",
        "#         super().__init__()\n",
        "#         channels = [32, 16, 24, 40, 80, 112, 192, 320, 1280]\n",
        "#         repeats = [1, 2, 2, 3, 3, 4, 1]\n",
        "#         strides = [1, 2, 2, 2, 1, 2, 1]\n",
        "#         kernel_size = [3, 3, 5, 3, 5, 5, 3]\n",
        "#         depth = depth_coef\n",
        "#         width = width_coef\n",
        "\n",
        "#         channels = [int(x*width) for x in channels]\n",
        "#         repeats = [int(x*depth) for x in repeats]\n",
        "\n",
        "#         # stochastic depth\n",
        "#         if stochastic_depth:\n",
        "#             self.p = p\n",
        "#             self.step = (1 - 0.5) / (sum(repeats) - 1)\n",
        "#         else:\n",
        "#             self.p = 1\n",
        "#             self.step = 0\n",
        "\n",
        "\n",
        "#         # efficient net\n",
        "#         self.upsample = nn.Upsample(scale_factor=scale, mode='bilinear', align_corners=False)\n",
        "\n",
        "#         self.stage1 = nn.Sequential(\n",
        "#             nn.Conv2d(3, channels[0],3, stride=2, padding=1, bias=False),\n",
        "#             nn.BatchNorm2d(channels[0], momentum=0.99, eps=1e-3)\n",
        "#         )\n",
        "\n",
        "#         self.stage2 = self._make_Block(SepConv, repeats[0], channels[0], channels[1], kernel_size[0], strides[0], se_scale)\n",
        "\n",
        "#         self.stage3 = self._make_Block(MBConv, repeats[1], channels[1], channels[2], kernel_size[1], strides[1], se_scale)\n",
        "\n",
        "#         self.stage4 = self._make_Block(MBConv, repeats[2], channels[2], channels[3], kernel_size[2], strides[2], se_scale)\n",
        "\n",
        "#         self.stage5 = self._make_Block(MBConv, repeats[3], channels[3], channels[4], kernel_size[3], strides[3], se_scale)\n",
        "\n",
        "#         self.stage6 = self._make_Block(MBConv, repeats[4], channels[4], channels[5], kernel_size[4], strides[4], se_scale)\n",
        "\n",
        "#         self.stage7 = self._make_Block(MBConv, repeats[5], channels[5], channels[6], kernel_size[5], strides[5], se_scale)\n",
        "\n",
        "#         self.stage8 = self._make_Block(MBConv, repeats[6], channels[6], channels[7], kernel_size[6], strides[6], se_scale)\n",
        "\n",
        "#         self.stage9 = nn.Sequential(\n",
        "#             nn.Conv2d(channels[7], channels[8], 1, stride=1, bias=False),\n",
        "#             nn.BatchNorm2d(channels[8], momentum=0.99, eps=1e-3),\n",
        "#             Swish()\n",
        "#         ) \n",
        "\n",
        "#         self.avgpool = nn.AdaptiveAvgPool2d((1,1))\n",
        "#         self.dropout = nn.Dropout(p=dropout)\n",
        "#         self.linear = nn.Linear(channels[8], num_classes)\n",
        "\n",
        "#     def forward(self, x):\n",
        "#         x = self.upsample(x)\n",
        "#         x = self.stage1(x)\n",
        "#         x = self.stage2(x)\n",
        "#         x = self.stage3(x)\n",
        "#         x = self.stage4(x)\n",
        "#         x = self.stage5(x)\n",
        "#         x = self.stage6(x)\n",
        "#         x = self.stage7(x)\n",
        "#         x = self.stage8(x)\n",
        "#         x = self.stage9(x)\n",
        "#         x = self.avgpool(x)\n",
        "#         x = x.view(x.size(0), -1)\n",
        "#         x = self.dropout(x)\n",
        "#         x = self.linear(x)\n",
        "#         return x\n",
        "\n",
        "\n",
        "#     def _make_Block(self, block, repeats, in_channels, out_channels, kernel_size, stride, se_scale):\n",
        "#         strides = [stride] + [1] * (repeats - 1)\n",
        "#         layers = []\n",
        "#         for stride in strides:\n",
        "#             layers.append(block(in_channels, out_channels, kernel_size, stride, se_scale, self.p))\n",
        "#             in_channels = out_channels\n",
        "#             self.p -= self.step\n",
        "\n",
        "#         return nn.Sequential(*layers)\n"
      ]
    },
    {
      "cell_type": "code",
      "execution_count": null,
      "metadata": {
        "id": "Hsy89Jea7mif"
      },
      "outputs": [],
      "source": [
        "# #@title\n",
        "# def efficientnet_b0(num_classes=6):\n",
        "#     return EfficientNet(num_classes=num_classes, width_coef=1.0, depth_coef=1.0, scale=1.0,dropout=0.2, se_scale=4)"
      ]
    }
  ],
  "metadata": {
    "accelerator": "GPU",
    "colab": {
      "collapsed_sections": [
        "62al4c6zpelS"
      ],
      "machine_shape": "hm",
      "provenance": [],
      "include_colab_link": true
    },
    "gpuClass": "standard",
    "kernelspec": {
      "display_name": "Python 3",
      "name": "python3"
    },
    "language_info": {
      "name": "python"
    },
    "widgets": {
      "application/vnd.jupyter.widget-state+json": {
        "04208f33a4b7443a94e6a2ed6e112eb4": {
          "model_module": "@jupyter-widgets/base",
          "model_module_version": "1.2.0",
          "model_name": "LayoutModel",
          "state": {
            "_model_module": "@jupyter-widgets/base",
            "_model_module_version": "1.2.0",
            "_model_name": "LayoutModel",
            "_view_count": null,
            "_view_module": "@jupyter-widgets/base",
            "_view_module_version": "1.2.0",
            "_view_name": "LayoutView",
            "align_content": null,
            "align_items": null,
            "align_self": null,
            "border": null,
            "bottom": null,
            "display": null,
            "flex": null,
            "flex_flow": null,
            "grid_area": null,
            "grid_auto_columns": null,
            "grid_auto_flow": null,
            "grid_auto_rows": null,
            "grid_column": null,
            "grid_gap": null,
            "grid_row": null,
            "grid_template_areas": null,
            "grid_template_columns": null,
            "grid_template_rows": null,
            "height": null,
            "justify_content": null,
            "justify_items": null,
            "left": null,
            "margin": null,
            "max_height": null,
            "max_width": null,
            "min_height": null,
            "min_width": null,
            "object_fit": null,
            "object_position": null,
            "order": null,
            "overflow": null,
            "overflow_x": null,
            "overflow_y": null,
            "padding": null,
            "right": null,
            "top": null,
            "visibility": null,
            "width": null
          }
        },
        "422bb1abbf82411788c704711bde3b05": {
          "model_module": "@jupyter-widgets/controls",
          "model_module_version": "1.5.0",
          "model_name": "DescriptionStyleModel",
          "state": {
            "_model_module": "@jupyter-widgets/controls",
            "_model_module_version": "1.5.0",
            "_model_name": "DescriptionStyleModel",
            "_view_count": null,
            "_view_module": "@jupyter-widgets/base",
            "_view_module_version": "1.2.0",
            "_view_name": "StyleView",
            "description_width": ""
          }
        },
        "444a24c2621e4785862acd5bc6b53133": {
          "model_module": "@jupyter-widgets/controls",
          "model_module_version": "1.5.0",
          "model_name": "HBoxModel",
          "state": {
            "_dom_classes": [],
            "_model_module": "@jupyter-widgets/controls",
            "_model_module_version": "1.5.0",
            "_model_name": "HBoxModel",
            "_view_count": null,
            "_view_module": "@jupyter-widgets/controls",
            "_view_module_version": "1.5.0",
            "_view_name": "HBoxView",
            "box_style": "",
            "children": [
              "IPY_MODEL_bd6520506e0543588277ac548fb33d6c",
              "IPY_MODEL_5dea8f47ffcf47e98ed70f8acd4a6851",
              "IPY_MODEL_868b230bc83d48fba18390c86803941f"
            ],
            "layout": "IPY_MODEL_e98e62eb33be4ed89628f2586069cc14"
          }
        },
        "4a0dbe6f6850412f8cd61f122f53b316": {
          "model_module": "@jupyter-widgets/base",
          "model_module_version": "1.2.0",
          "model_name": "LayoutModel",
          "state": {
            "_model_module": "@jupyter-widgets/base",
            "_model_module_version": "1.2.0",
            "_model_name": "LayoutModel",
            "_view_count": null,
            "_view_module": "@jupyter-widgets/base",
            "_view_module_version": "1.2.0",
            "_view_name": "LayoutView",
            "align_content": null,
            "align_items": null,
            "align_self": null,
            "border": null,
            "bottom": null,
            "display": null,
            "flex": null,
            "flex_flow": null,
            "grid_area": null,
            "grid_auto_columns": null,
            "grid_auto_flow": null,
            "grid_auto_rows": null,
            "grid_column": null,
            "grid_gap": null,
            "grid_row": null,
            "grid_template_areas": null,
            "grid_template_columns": null,
            "grid_template_rows": null,
            "height": null,
            "justify_content": null,
            "justify_items": null,
            "left": null,
            "margin": null,
            "max_height": null,
            "max_width": null,
            "min_height": null,
            "min_width": null,
            "object_fit": null,
            "object_position": null,
            "order": null,
            "overflow": null,
            "overflow_x": null,
            "overflow_y": null,
            "padding": null,
            "right": null,
            "top": null,
            "visibility": null,
            "width": null
          }
        },
        "5dea8f47ffcf47e98ed70f8acd4a6851": {
          "model_module": "@jupyter-widgets/controls",
          "model_module_version": "1.5.0",
          "model_name": "FloatProgressModel",
          "state": {
            "_dom_classes": [],
            "_model_module": "@jupyter-widgets/controls",
            "_model_module_version": "1.5.0",
            "_model_name": "FloatProgressModel",
            "_view_count": null,
            "_view_module": "@jupyter-widgets/controls",
            "_view_module_version": "1.5.0",
            "_view_name": "ProgressView",
            "bar_style": "success",
            "description": "",
            "description_tooltip": null,
            "layout": "IPY_MODEL_e8d4f65f4c4342239a0dc05428487f4a",
            "max": 120,
            "min": 0,
            "orientation": "horizontal",
            "style": "IPY_MODEL_a8de4512ee724bf5a6e475b123568edd",
            "value": 120
          }
        },
        "868b230bc83d48fba18390c86803941f": {
          "model_module": "@jupyter-widgets/controls",
          "model_module_version": "1.5.0",
          "model_name": "HTMLModel",
          "state": {
            "_dom_classes": [],
            "_model_module": "@jupyter-widgets/controls",
            "_model_module_version": "1.5.0",
            "_model_name": "HTMLModel",
            "_view_count": null,
            "_view_module": "@jupyter-widgets/controls",
            "_view_module_version": "1.5.0",
            "_view_name": "HTMLView",
            "description": "",
            "description_tooltip": null,
            "layout": "IPY_MODEL_04208f33a4b7443a94e6a2ed6e112eb4",
            "placeholder": "​",
            "style": "IPY_MODEL_bf7cce71e4c546d49c46c50a69a175c0",
            "value": " 120/120 [00:18&lt;00:00, 19.94it/s]"
          }
        },
        "a8de4512ee724bf5a6e475b123568edd": {
          "model_module": "@jupyter-widgets/controls",
          "model_module_version": "1.5.0",
          "model_name": "ProgressStyleModel",
          "state": {
            "_model_module": "@jupyter-widgets/controls",
            "_model_module_version": "1.5.0",
            "_model_name": "ProgressStyleModel",
            "_view_count": null,
            "_view_module": "@jupyter-widgets/base",
            "_view_module_version": "1.2.0",
            "_view_name": "StyleView",
            "bar_color": null,
            "description_width": ""
          }
        },
        "bd6520506e0543588277ac548fb33d6c": {
          "model_module": "@jupyter-widgets/controls",
          "model_module_version": "1.5.0",
          "model_name": "HTMLModel",
          "state": {
            "_dom_classes": [],
            "_model_module": "@jupyter-widgets/controls",
            "_model_module_version": "1.5.0",
            "_model_name": "HTMLModel",
            "_view_count": null,
            "_view_module": "@jupyter-widgets/controls",
            "_view_module_version": "1.5.0",
            "_view_name": "HTMLView",
            "description": "",
            "description_tooltip": null,
            "layout": "IPY_MODEL_4a0dbe6f6850412f8cd61f122f53b316",
            "placeholder": "​",
            "style": "IPY_MODEL_422bb1abbf82411788c704711bde3b05",
            "value": "100%"
          }
        },
        "bf7cce71e4c546d49c46c50a69a175c0": {
          "model_module": "@jupyter-widgets/controls",
          "model_module_version": "1.5.0",
          "model_name": "DescriptionStyleModel",
          "state": {
            "_model_module": "@jupyter-widgets/controls",
            "_model_module_version": "1.5.0",
            "_model_name": "DescriptionStyleModel",
            "_view_count": null,
            "_view_module": "@jupyter-widgets/base",
            "_view_module_version": "1.2.0",
            "_view_name": "StyleView",
            "description_width": ""
          }
        },
        "e8d4f65f4c4342239a0dc05428487f4a": {
          "model_module": "@jupyter-widgets/base",
          "model_module_version": "1.2.0",
          "model_name": "LayoutModel",
          "state": {
            "_model_module": "@jupyter-widgets/base",
            "_model_module_version": "1.2.0",
            "_model_name": "LayoutModel",
            "_view_count": null,
            "_view_module": "@jupyter-widgets/base",
            "_view_module_version": "1.2.0",
            "_view_name": "LayoutView",
            "align_content": null,
            "align_items": null,
            "align_self": null,
            "border": null,
            "bottom": null,
            "display": null,
            "flex": null,
            "flex_flow": null,
            "grid_area": null,
            "grid_auto_columns": null,
            "grid_auto_flow": null,
            "grid_auto_rows": null,
            "grid_column": null,
            "grid_gap": null,
            "grid_row": null,
            "grid_template_areas": null,
            "grid_template_columns": null,
            "grid_template_rows": null,
            "height": null,
            "justify_content": null,
            "justify_items": null,
            "left": null,
            "margin": null,
            "max_height": null,
            "max_width": null,
            "min_height": null,
            "min_width": null,
            "object_fit": null,
            "object_position": null,
            "order": null,
            "overflow": null,
            "overflow_x": null,
            "overflow_y": null,
            "padding": null,
            "right": null,
            "top": null,
            "visibility": null,
            "width": null
          }
        },
        "e98e62eb33be4ed89628f2586069cc14": {
          "model_module": "@jupyter-widgets/base",
          "model_module_version": "1.2.0",
          "model_name": "LayoutModel",
          "state": {
            "_model_module": "@jupyter-widgets/base",
            "_model_module_version": "1.2.0",
            "_model_name": "LayoutModel",
            "_view_count": null,
            "_view_module": "@jupyter-widgets/base",
            "_view_module_version": "1.2.0",
            "_view_name": "LayoutView",
            "align_content": null,
            "align_items": null,
            "align_self": null,
            "border": null,
            "bottom": null,
            "display": null,
            "flex": null,
            "flex_flow": null,
            "grid_area": null,
            "grid_auto_columns": null,
            "grid_auto_flow": null,
            "grid_auto_rows": null,
            "grid_column": null,
            "grid_gap": null,
            "grid_row": null,
            "grid_template_areas": null,
            "grid_template_columns": null,
            "grid_template_rows": null,
            "height": null,
            "justify_content": null,
            "justify_items": null,
            "left": null,
            "margin": null,
            "max_height": null,
            "max_width": null,
            "min_height": null,
            "min_width": null,
            "object_fit": null,
            "object_position": null,
            "order": null,
            "overflow": null,
            "overflow_x": null,
            "overflow_y": null,
            "padding": null,
            "right": null,
            "top": null,
            "visibility": null,
            "width": null
          }
        },
        "2aa4c5e1331149d3b8e8ab285bcd8184": {
          "model_module": "@jupyter-widgets/controls",
          "model_name": "HBoxModel",
          "model_module_version": "1.5.0",
          "state": {
            "_dom_classes": [],
            "_model_module": "@jupyter-widgets/controls",
            "_model_module_version": "1.5.0",
            "_model_name": "HBoxModel",
            "_view_count": null,
            "_view_module": "@jupyter-widgets/controls",
            "_view_module_version": "1.5.0",
            "_view_name": "HBoxView",
            "box_style": "",
            "children": [
              "IPY_MODEL_6a78d1e2c3ac40cf8aacdd8f6dd69e30",
              "IPY_MODEL_5cb3330468b147fe9736e42a0e6fa4d8",
              "IPY_MODEL_b51ce597a788403380dd05cbebef015c"
            ],
            "layout": "IPY_MODEL_69000cc55ca84d2fb49d38b0d6342460"
          }
        },
        "6a78d1e2c3ac40cf8aacdd8f6dd69e30": {
          "model_module": "@jupyter-widgets/controls",
          "model_name": "HTMLModel",
          "model_module_version": "1.5.0",
          "state": {
            "_dom_classes": [],
            "_model_module": "@jupyter-widgets/controls",
            "_model_module_version": "1.5.0",
            "_model_name": "HTMLModel",
            "_view_count": null,
            "_view_module": "@jupyter-widgets/controls",
            "_view_module_version": "1.5.0",
            "_view_name": "HTMLView",
            "description": "",
            "description_tooltip": null,
            "layout": "IPY_MODEL_aff0c43c86f340a8b144e0f0567abbd9",
            "placeholder": "​",
            "style": "IPY_MODEL_f01f5868ce2b4989a7fd9648961ad76f",
            "value": "100%"
          }
        },
        "5cb3330468b147fe9736e42a0e6fa4d8": {
          "model_module": "@jupyter-widgets/controls",
          "model_name": "FloatProgressModel",
          "model_module_version": "1.5.0",
          "state": {
            "_dom_classes": [],
            "_model_module": "@jupyter-widgets/controls",
            "_model_module_version": "1.5.0",
            "_model_name": "FloatProgressModel",
            "_view_count": null,
            "_view_module": "@jupyter-widgets/controls",
            "_view_module_version": "1.5.0",
            "_view_name": "ProgressView",
            "bar_style": "success",
            "description": "",
            "description_tooltip": null,
            "layout": "IPY_MODEL_2b3f5faa32734662b9949b531144c7a2",
            "max": 77,
            "min": 0,
            "orientation": "horizontal",
            "style": "IPY_MODEL_86a8efad33434773aae42aeb3d3bbc6b",
            "value": 77
          }
        },
        "b51ce597a788403380dd05cbebef015c": {
          "model_module": "@jupyter-widgets/controls",
          "model_name": "HTMLModel",
          "model_module_version": "1.5.0",
          "state": {
            "_dom_classes": [],
            "_model_module": "@jupyter-widgets/controls",
            "_model_module_version": "1.5.0",
            "_model_name": "HTMLModel",
            "_view_count": null,
            "_view_module": "@jupyter-widgets/controls",
            "_view_module_version": "1.5.0",
            "_view_name": "HTMLView",
            "description": "",
            "description_tooltip": null,
            "layout": "IPY_MODEL_745107e7e2f5426b9fb4e509c9bd02f5",
            "placeholder": "​",
            "style": "IPY_MODEL_c78d0a75eb964a49b835cf07f8dbe06c",
            "value": " 77/77 [00:37&lt;00:00,  2.29it/s]"
          }
        },
        "69000cc55ca84d2fb49d38b0d6342460": {
          "model_module": "@jupyter-widgets/base",
          "model_name": "LayoutModel",
          "model_module_version": "1.2.0",
          "state": {
            "_model_module": "@jupyter-widgets/base",
            "_model_module_version": "1.2.0",
            "_model_name": "LayoutModel",
            "_view_count": null,
            "_view_module": "@jupyter-widgets/base",
            "_view_module_version": "1.2.0",
            "_view_name": "LayoutView",
            "align_content": null,
            "align_items": null,
            "align_self": null,
            "border": null,
            "bottom": null,
            "display": null,
            "flex": null,
            "flex_flow": null,
            "grid_area": null,
            "grid_auto_columns": null,
            "grid_auto_flow": null,
            "grid_auto_rows": null,
            "grid_column": null,
            "grid_gap": null,
            "grid_row": null,
            "grid_template_areas": null,
            "grid_template_columns": null,
            "grid_template_rows": null,
            "height": null,
            "justify_content": null,
            "justify_items": null,
            "left": null,
            "margin": null,
            "max_height": null,
            "max_width": null,
            "min_height": null,
            "min_width": null,
            "object_fit": null,
            "object_position": null,
            "order": null,
            "overflow": null,
            "overflow_x": null,
            "overflow_y": null,
            "padding": null,
            "right": null,
            "top": null,
            "visibility": null,
            "width": null
          }
        },
        "aff0c43c86f340a8b144e0f0567abbd9": {
          "model_module": "@jupyter-widgets/base",
          "model_name": "LayoutModel",
          "model_module_version": "1.2.0",
          "state": {
            "_model_module": "@jupyter-widgets/base",
            "_model_module_version": "1.2.0",
            "_model_name": "LayoutModel",
            "_view_count": null,
            "_view_module": "@jupyter-widgets/base",
            "_view_module_version": "1.2.0",
            "_view_name": "LayoutView",
            "align_content": null,
            "align_items": null,
            "align_self": null,
            "border": null,
            "bottom": null,
            "display": null,
            "flex": null,
            "flex_flow": null,
            "grid_area": null,
            "grid_auto_columns": null,
            "grid_auto_flow": null,
            "grid_auto_rows": null,
            "grid_column": null,
            "grid_gap": null,
            "grid_row": null,
            "grid_template_areas": null,
            "grid_template_columns": null,
            "grid_template_rows": null,
            "height": null,
            "justify_content": null,
            "justify_items": null,
            "left": null,
            "margin": null,
            "max_height": null,
            "max_width": null,
            "min_height": null,
            "min_width": null,
            "object_fit": null,
            "object_position": null,
            "order": null,
            "overflow": null,
            "overflow_x": null,
            "overflow_y": null,
            "padding": null,
            "right": null,
            "top": null,
            "visibility": null,
            "width": null
          }
        },
        "f01f5868ce2b4989a7fd9648961ad76f": {
          "model_module": "@jupyter-widgets/controls",
          "model_name": "DescriptionStyleModel",
          "model_module_version": "1.5.0",
          "state": {
            "_model_module": "@jupyter-widgets/controls",
            "_model_module_version": "1.5.0",
            "_model_name": "DescriptionStyleModel",
            "_view_count": null,
            "_view_module": "@jupyter-widgets/base",
            "_view_module_version": "1.2.0",
            "_view_name": "StyleView",
            "description_width": ""
          }
        },
        "2b3f5faa32734662b9949b531144c7a2": {
          "model_module": "@jupyter-widgets/base",
          "model_name": "LayoutModel",
          "model_module_version": "1.2.0",
          "state": {
            "_model_module": "@jupyter-widgets/base",
            "_model_module_version": "1.2.0",
            "_model_name": "LayoutModel",
            "_view_count": null,
            "_view_module": "@jupyter-widgets/base",
            "_view_module_version": "1.2.0",
            "_view_name": "LayoutView",
            "align_content": null,
            "align_items": null,
            "align_self": null,
            "border": null,
            "bottom": null,
            "display": null,
            "flex": null,
            "flex_flow": null,
            "grid_area": null,
            "grid_auto_columns": null,
            "grid_auto_flow": null,
            "grid_auto_rows": null,
            "grid_column": null,
            "grid_gap": null,
            "grid_row": null,
            "grid_template_areas": null,
            "grid_template_columns": null,
            "grid_template_rows": null,
            "height": null,
            "justify_content": null,
            "justify_items": null,
            "left": null,
            "margin": null,
            "max_height": null,
            "max_width": null,
            "min_height": null,
            "min_width": null,
            "object_fit": null,
            "object_position": null,
            "order": null,
            "overflow": null,
            "overflow_x": null,
            "overflow_y": null,
            "padding": null,
            "right": null,
            "top": null,
            "visibility": null,
            "width": null
          }
        },
        "86a8efad33434773aae42aeb3d3bbc6b": {
          "model_module": "@jupyter-widgets/controls",
          "model_name": "ProgressStyleModel",
          "model_module_version": "1.5.0",
          "state": {
            "_model_module": "@jupyter-widgets/controls",
            "_model_module_version": "1.5.0",
            "_model_name": "ProgressStyleModel",
            "_view_count": null,
            "_view_module": "@jupyter-widgets/base",
            "_view_module_version": "1.2.0",
            "_view_name": "StyleView",
            "bar_color": null,
            "description_width": ""
          }
        },
        "745107e7e2f5426b9fb4e509c9bd02f5": {
          "model_module": "@jupyter-widgets/base",
          "model_name": "LayoutModel",
          "model_module_version": "1.2.0",
          "state": {
            "_model_module": "@jupyter-widgets/base",
            "_model_module_version": "1.2.0",
            "_model_name": "LayoutModel",
            "_view_count": null,
            "_view_module": "@jupyter-widgets/base",
            "_view_module_version": "1.2.0",
            "_view_name": "LayoutView",
            "align_content": null,
            "align_items": null,
            "align_self": null,
            "border": null,
            "bottom": null,
            "display": null,
            "flex": null,
            "flex_flow": null,
            "grid_area": null,
            "grid_auto_columns": null,
            "grid_auto_flow": null,
            "grid_auto_rows": null,
            "grid_column": null,
            "grid_gap": null,
            "grid_row": null,
            "grid_template_areas": null,
            "grid_template_columns": null,
            "grid_template_rows": null,
            "height": null,
            "justify_content": null,
            "justify_items": null,
            "left": null,
            "margin": null,
            "max_height": null,
            "max_width": null,
            "min_height": null,
            "min_width": null,
            "object_fit": null,
            "object_position": null,
            "order": null,
            "overflow": null,
            "overflow_x": null,
            "overflow_y": null,
            "padding": null,
            "right": null,
            "top": null,
            "visibility": null,
            "width": null
          }
        },
        "c78d0a75eb964a49b835cf07f8dbe06c": {
          "model_module": "@jupyter-widgets/controls",
          "model_name": "DescriptionStyleModel",
          "model_module_version": "1.5.0",
          "state": {
            "_model_module": "@jupyter-widgets/controls",
            "_model_module_version": "1.5.0",
            "_model_name": "DescriptionStyleModel",
            "_view_count": null,
            "_view_module": "@jupyter-widgets/base",
            "_view_module_version": "1.2.0",
            "_view_name": "StyleView",
            "description_width": ""
          }
        },
        "01d28e19d8634635bd2fe7c6b5b0c01d": {
          "model_module": "@jupyter-widgets/controls",
          "model_name": "HBoxModel",
          "model_module_version": "1.5.0",
          "state": {
            "_dom_classes": [],
            "_model_module": "@jupyter-widgets/controls",
            "_model_module_version": "1.5.0",
            "_model_name": "HBoxModel",
            "_view_count": null,
            "_view_module": "@jupyter-widgets/controls",
            "_view_module_version": "1.5.0",
            "_view_name": "HBoxView",
            "box_style": "",
            "children": [
              "IPY_MODEL_486e5f3405b8464f8b98c590d2447e9f",
              "IPY_MODEL_dc58485d2b9743838a9e2a3090299237",
              "IPY_MODEL_2850ade6973a4e3786bef166fe4ee468"
            ],
            "layout": "IPY_MODEL_70f0e1f292224bc18b071d4859d1b991"
          }
        },
        "486e5f3405b8464f8b98c590d2447e9f": {
          "model_module": "@jupyter-widgets/controls",
          "model_name": "HTMLModel",
          "model_module_version": "1.5.0",
          "state": {
            "_dom_classes": [],
            "_model_module": "@jupyter-widgets/controls",
            "_model_module_version": "1.5.0",
            "_model_name": "HTMLModel",
            "_view_count": null,
            "_view_module": "@jupyter-widgets/controls",
            "_view_module_version": "1.5.0",
            "_view_name": "HTMLView",
            "description": "",
            "description_tooltip": null,
            "layout": "IPY_MODEL_581b9d13465c4852836ae252b1854713",
            "placeholder": "​",
            "style": "IPY_MODEL_d005f56547a3406d9f5b80e9444b24e2",
            "value": "100%"
          }
        },
        "dc58485d2b9743838a9e2a3090299237": {
          "model_module": "@jupyter-widgets/controls",
          "model_name": "FloatProgressModel",
          "model_module_version": "1.5.0",
          "state": {
            "_dom_classes": [],
            "_model_module": "@jupyter-widgets/controls",
            "_model_module_version": "1.5.0",
            "_model_name": "FloatProgressModel",
            "_view_count": null,
            "_view_module": "@jupyter-widgets/controls",
            "_view_module_version": "1.5.0",
            "_view_name": "ProgressView",
            "bar_style": "success",
            "description": "",
            "description_tooltip": null,
            "layout": "IPY_MODEL_301cc2cd655d44a6bc88dd4210b3b265",
            "max": 77,
            "min": 0,
            "orientation": "horizontal",
            "style": "IPY_MODEL_0fdf40783d674c508ddd8ebeac06b158",
            "value": 77
          }
        },
        "2850ade6973a4e3786bef166fe4ee468": {
          "model_module": "@jupyter-widgets/controls",
          "model_name": "HTMLModel",
          "model_module_version": "1.5.0",
          "state": {
            "_dom_classes": [],
            "_model_module": "@jupyter-widgets/controls",
            "_model_module_version": "1.5.0",
            "_model_name": "HTMLModel",
            "_view_count": null,
            "_view_module": "@jupyter-widgets/controls",
            "_view_module_version": "1.5.0",
            "_view_name": "HTMLView",
            "description": "",
            "description_tooltip": null,
            "layout": "IPY_MODEL_f835eed73fb4400f992c0239bbc8bbbd",
            "placeholder": "​",
            "style": "IPY_MODEL_3b76f3c80b3b4e4180c1bcb2bea1c406",
            "value": " 77/77 [00:36&lt;00:00,  2.14it/s]"
          }
        },
        "70f0e1f292224bc18b071d4859d1b991": {
          "model_module": "@jupyter-widgets/base",
          "model_name": "LayoutModel",
          "model_module_version": "1.2.0",
          "state": {
            "_model_module": "@jupyter-widgets/base",
            "_model_module_version": "1.2.0",
            "_model_name": "LayoutModel",
            "_view_count": null,
            "_view_module": "@jupyter-widgets/base",
            "_view_module_version": "1.2.0",
            "_view_name": "LayoutView",
            "align_content": null,
            "align_items": null,
            "align_self": null,
            "border": null,
            "bottom": null,
            "display": null,
            "flex": null,
            "flex_flow": null,
            "grid_area": null,
            "grid_auto_columns": null,
            "grid_auto_flow": null,
            "grid_auto_rows": null,
            "grid_column": null,
            "grid_gap": null,
            "grid_row": null,
            "grid_template_areas": null,
            "grid_template_columns": null,
            "grid_template_rows": null,
            "height": null,
            "justify_content": null,
            "justify_items": null,
            "left": null,
            "margin": null,
            "max_height": null,
            "max_width": null,
            "min_height": null,
            "min_width": null,
            "object_fit": null,
            "object_position": null,
            "order": null,
            "overflow": null,
            "overflow_x": null,
            "overflow_y": null,
            "padding": null,
            "right": null,
            "top": null,
            "visibility": null,
            "width": null
          }
        },
        "581b9d13465c4852836ae252b1854713": {
          "model_module": "@jupyter-widgets/base",
          "model_name": "LayoutModel",
          "model_module_version": "1.2.0",
          "state": {
            "_model_module": "@jupyter-widgets/base",
            "_model_module_version": "1.2.0",
            "_model_name": "LayoutModel",
            "_view_count": null,
            "_view_module": "@jupyter-widgets/base",
            "_view_module_version": "1.2.0",
            "_view_name": "LayoutView",
            "align_content": null,
            "align_items": null,
            "align_self": null,
            "border": null,
            "bottom": null,
            "display": null,
            "flex": null,
            "flex_flow": null,
            "grid_area": null,
            "grid_auto_columns": null,
            "grid_auto_flow": null,
            "grid_auto_rows": null,
            "grid_column": null,
            "grid_gap": null,
            "grid_row": null,
            "grid_template_areas": null,
            "grid_template_columns": null,
            "grid_template_rows": null,
            "height": null,
            "justify_content": null,
            "justify_items": null,
            "left": null,
            "margin": null,
            "max_height": null,
            "max_width": null,
            "min_height": null,
            "min_width": null,
            "object_fit": null,
            "object_position": null,
            "order": null,
            "overflow": null,
            "overflow_x": null,
            "overflow_y": null,
            "padding": null,
            "right": null,
            "top": null,
            "visibility": null,
            "width": null
          }
        },
        "d005f56547a3406d9f5b80e9444b24e2": {
          "model_module": "@jupyter-widgets/controls",
          "model_name": "DescriptionStyleModel",
          "model_module_version": "1.5.0",
          "state": {
            "_model_module": "@jupyter-widgets/controls",
            "_model_module_version": "1.5.0",
            "_model_name": "DescriptionStyleModel",
            "_view_count": null,
            "_view_module": "@jupyter-widgets/base",
            "_view_module_version": "1.2.0",
            "_view_name": "StyleView",
            "description_width": ""
          }
        },
        "301cc2cd655d44a6bc88dd4210b3b265": {
          "model_module": "@jupyter-widgets/base",
          "model_name": "LayoutModel",
          "model_module_version": "1.2.0",
          "state": {
            "_model_module": "@jupyter-widgets/base",
            "_model_module_version": "1.2.0",
            "_model_name": "LayoutModel",
            "_view_count": null,
            "_view_module": "@jupyter-widgets/base",
            "_view_module_version": "1.2.0",
            "_view_name": "LayoutView",
            "align_content": null,
            "align_items": null,
            "align_self": null,
            "border": null,
            "bottom": null,
            "display": null,
            "flex": null,
            "flex_flow": null,
            "grid_area": null,
            "grid_auto_columns": null,
            "grid_auto_flow": null,
            "grid_auto_rows": null,
            "grid_column": null,
            "grid_gap": null,
            "grid_row": null,
            "grid_template_areas": null,
            "grid_template_columns": null,
            "grid_template_rows": null,
            "height": null,
            "justify_content": null,
            "justify_items": null,
            "left": null,
            "margin": null,
            "max_height": null,
            "max_width": null,
            "min_height": null,
            "min_width": null,
            "object_fit": null,
            "object_position": null,
            "order": null,
            "overflow": null,
            "overflow_x": null,
            "overflow_y": null,
            "padding": null,
            "right": null,
            "top": null,
            "visibility": null,
            "width": null
          }
        },
        "0fdf40783d674c508ddd8ebeac06b158": {
          "model_module": "@jupyter-widgets/controls",
          "model_name": "ProgressStyleModel",
          "model_module_version": "1.5.0",
          "state": {
            "_model_module": "@jupyter-widgets/controls",
            "_model_module_version": "1.5.0",
            "_model_name": "ProgressStyleModel",
            "_view_count": null,
            "_view_module": "@jupyter-widgets/base",
            "_view_module_version": "1.2.0",
            "_view_name": "StyleView",
            "bar_color": null,
            "description_width": ""
          }
        },
        "f835eed73fb4400f992c0239bbc8bbbd": {
          "model_module": "@jupyter-widgets/base",
          "model_name": "LayoutModel",
          "model_module_version": "1.2.0",
          "state": {
            "_model_module": "@jupyter-widgets/base",
            "_model_module_version": "1.2.0",
            "_model_name": "LayoutModel",
            "_view_count": null,
            "_view_module": "@jupyter-widgets/base",
            "_view_module_version": "1.2.0",
            "_view_name": "LayoutView",
            "align_content": null,
            "align_items": null,
            "align_self": null,
            "border": null,
            "bottom": null,
            "display": null,
            "flex": null,
            "flex_flow": null,
            "grid_area": null,
            "grid_auto_columns": null,
            "grid_auto_flow": null,
            "grid_auto_rows": null,
            "grid_column": null,
            "grid_gap": null,
            "grid_row": null,
            "grid_template_areas": null,
            "grid_template_columns": null,
            "grid_template_rows": null,
            "height": null,
            "justify_content": null,
            "justify_items": null,
            "left": null,
            "margin": null,
            "max_height": null,
            "max_width": null,
            "min_height": null,
            "min_width": null,
            "object_fit": null,
            "object_position": null,
            "order": null,
            "overflow": null,
            "overflow_x": null,
            "overflow_y": null,
            "padding": null,
            "right": null,
            "top": null,
            "visibility": null,
            "width": null
          }
        },
        "3b76f3c80b3b4e4180c1bcb2bea1c406": {
          "model_module": "@jupyter-widgets/controls",
          "model_name": "DescriptionStyleModel",
          "model_module_version": "1.5.0",
          "state": {
            "_model_module": "@jupyter-widgets/controls",
            "_model_module_version": "1.5.0",
            "_model_name": "DescriptionStyleModel",
            "_view_count": null,
            "_view_module": "@jupyter-widgets/base",
            "_view_module_version": "1.2.0",
            "_view_name": "StyleView",
            "description_width": ""
          }
        },
        "9ad163876fcd425f9ba31a15128300af": {
          "model_module": "@jupyter-widgets/controls",
          "model_name": "HBoxModel",
          "model_module_version": "1.5.0",
          "state": {
            "_dom_classes": [],
            "_model_module": "@jupyter-widgets/controls",
            "_model_module_version": "1.5.0",
            "_model_name": "HBoxModel",
            "_view_count": null,
            "_view_module": "@jupyter-widgets/controls",
            "_view_module_version": "1.5.0",
            "_view_name": "HBoxView",
            "box_style": "",
            "children": [
              "IPY_MODEL_9f202d0124524dbba1c7b072e20a5b4d",
              "IPY_MODEL_697362b77b194d0f978a3ddf55d1ce99",
              "IPY_MODEL_218155b2100b433f99148047204f52bb"
            ],
            "layout": "IPY_MODEL_2ba0ef01d5d0465d8d9ea452d311a01a"
          }
        },
        "9f202d0124524dbba1c7b072e20a5b4d": {
          "model_module": "@jupyter-widgets/controls",
          "model_name": "HTMLModel",
          "model_module_version": "1.5.0",
          "state": {
            "_dom_classes": [],
            "_model_module": "@jupyter-widgets/controls",
            "_model_module_version": "1.5.0",
            "_model_name": "HTMLModel",
            "_view_count": null,
            "_view_module": "@jupyter-widgets/controls",
            "_view_module_version": "1.5.0",
            "_view_name": "HTMLView",
            "description": "",
            "description_tooltip": null,
            "layout": "IPY_MODEL_c65b6aee11d343248a4e4bb2640196e8",
            "placeholder": "​",
            "style": "IPY_MODEL_dd004d1d50764b69911d5d6a08143aed",
            "value": "100%"
          }
        },
        "697362b77b194d0f978a3ddf55d1ce99": {
          "model_module": "@jupyter-widgets/controls",
          "model_name": "FloatProgressModel",
          "model_module_version": "1.5.0",
          "state": {
            "_dom_classes": [],
            "_model_module": "@jupyter-widgets/controls",
            "_model_module_version": "1.5.0",
            "_model_name": "FloatProgressModel",
            "_view_count": null,
            "_view_module": "@jupyter-widgets/controls",
            "_view_module_version": "1.5.0",
            "_view_name": "ProgressView",
            "bar_style": "success",
            "description": "",
            "description_tooltip": null,
            "layout": "IPY_MODEL_92c90bde05be497b9b2a2970a682cc82",
            "max": 77,
            "min": 0,
            "orientation": "horizontal",
            "style": "IPY_MODEL_93fe744b03dd4a0bb782a0c0e72e532c",
            "value": 77
          }
        },
        "218155b2100b433f99148047204f52bb": {
          "model_module": "@jupyter-widgets/controls",
          "model_name": "HTMLModel",
          "model_module_version": "1.5.0",
          "state": {
            "_dom_classes": [],
            "_model_module": "@jupyter-widgets/controls",
            "_model_module_version": "1.5.0",
            "_model_name": "HTMLModel",
            "_view_count": null,
            "_view_module": "@jupyter-widgets/controls",
            "_view_module_version": "1.5.0",
            "_view_name": "HTMLView",
            "description": "",
            "description_tooltip": null,
            "layout": "IPY_MODEL_eb6263e88f44487d8d384fc34fcebc65",
            "placeholder": "​",
            "style": "IPY_MODEL_985f9af21d744a6f9e576391e038b723",
            "value": " 77/77 [00:36&lt;00:00,  2.13it/s]"
          }
        },
        "2ba0ef01d5d0465d8d9ea452d311a01a": {
          "model_module": "@jupyter-widgets/base",
          "model_name": "LayoutModel",
          "model_module_version": "1.2.0",
          "state": {
            "_model_module": "@jupyter-widgets/base",
            "_model_module_version": "1.2.0",
            "_model_name": "LayoutModel",
            "_view_count": null,
            "_view_module": "@jupyter-widgets/base",
            "_view_module_version": "1.2.0",
            "_view_name": "LayoutView",
            "align_content": null,
            "align_items": null,
            "align_self": null,
            "border": null,
            "bottom": null,
            "display": null,
            "flex": null,
            "flex_flow": null,
            "grid_area": null,
            "grid_auto_columns": null,
            "grid_auto_flow": null,
            "grid_auto_rows": null,
            "grid_column": null,
            "grid_gap": null,
            "grid_row": null,
            "grid_template_areas": null,
            "grid_template_columns": null,
            "grid_template_rows": null,
            "height": null,
            "justify_content": null,
            "justify_items": null,
            "left": null,
            "margin": null,
            "max_height": null,
            "max_width": null,
            "min_height": null,
            "min_width": null,
            "object_fit": null,
            "object_position": null,
            "order": null,
            "overflow": null,
            "overflow_x": null,
            "overflow_y": null,
            "padding": null,
            "right": null,
            "top": null,
            "visibility": null,
            "width": null
          }
        },
        "c65b6aee11d343248a4e4bb2640196e8": {
          "model_module": "@jupyter-widgets/base",
          "model_name": "LayoutModel",
          "model_module_version": "1.2.0",
          "state": {
            "_model_module": "@jupyter-widgets/base",
            "_model_module_version": "1.2.0",
            "_model_name": "LayoutModel",
            "_view_count": null,
            "_view_module": "@jupyter-widgets/base",
            "_view_module_version": "1.2.0",
            "_view_name": "LayoutView",
            "align_content": null,
            "align_items": null,
            "align_self": null,
            "border": null,
            "bottom": null,
            "display": null,
            "flex": null,
            "flex_flow": null,
            "grid_area": null,
            "grid_auto_columns": null,
            "grid_auto_flow": null,
            "grid_auto_rows": null,
            "grid_column": null,
            "grid_gap": null,
            "grid_row": null,
            "grid_template_areas": null,
            "grid_template_columns": null,
            "grid_template_rows": null,
            "height": null,
            "justify_content": null,
            "justify_items": null,
            "left": null,
            "margin": null,
            "max_height": null,
            "max_width": null,
            "min_height": null,
            "min_width": null,
            "object_fit": null,
            "object_position": null,
            "order": null,
            "overflow": null,
            "overflow_x": null,
            "overflow_y": null,
            "padding": null,
            "right": null,
            "top": null,
            "visibility": null,
            "width": null
          }
        },
        "dd004d1d50764b69911d5d6a08143aed": {
          "model_module": "@jupyter-widgets/controls",
          "model_name": "DescriptionStyleModel",
          "model_module_version": "1.5.0",
          "state": {
            "_model_module": "@jupyter-widgets/controls",
            "_model_module_version": "1.5.0",
            "_model_name": "DescriptionStyleModel",
            "_view_count": null,
            "_view_module": "@jupyter-widgets/base",
            "_view_module_version": "1.2.0",
            "_view_name": "StyleView",
            "description_width": ""
          }
        },
        "92c90bde05be497b9b2a2970a682cc82": {
          "model_module": "@jupyter-widgets/base",
          "model_name": "LayoutModel",
          "model_module_version": "1.2.0",
          "state": {
            "_model_module": "@jupyter-widgets/base",
            "_model_module_version": "1.2.0",
            "_model_name": "LayoutModel",
            "_view_count": null,
            "_view_module": "@jupyter-widgets/base",
            "_view_module_version": "1.2.0",
            "_view_name": "LayoutView",
            "align_content": null,
            "align_items": null,
            "align_self": null,
            "border": null,
            "bottom": null,
            "display": null,
            "flex": null,
            "flex_flow": null,
            "grid_area": null,
            "grid_auto_columns": null,
            "grid_auto_flow": null,
            "grid_auto_rows": null,
            "grid_column": null,
            "grid_gap": null,
            "grid_row": null,
            "grid_template_areas": null,
            "grid_template_columns": null,
            "grid_template_rows": null,
            "height": null,
            "justify_content": null,
            "justify_items": null,
            "left": null,
            "margin": null,
            "max_height": null,
            "max_width": null,
            "min_height": null,
            "min_width": null,
            "object_fit": null,
            "object_position": null,
            "order": null,
            "overflow": null,
            "overflow_x": null,
            "overflow_y": null,
            "padding": null,
            "right": null,
            "top": null,
            "visibility": null,
            "width": null
          }
        },
        "93fe744b03dd4a0bb782a0c0e72e532c": {
          "model_module": "@jupyter-widgets/controls",
          "model_name": "ProgressStyleModel",
          "model_module_version": "1.5.0",
          "state": {
            "_model_module": "@jupyter-widgets/controls",
            "_model_module_version": "1.5.0",
            "_model_name": "ProgressStyleModel",
            "_view_count": null,
            "_view_module": "@jupyter-widgets/base",
            "_view_module_version": "1.2.0",
            "_view_name": "StyleView",
            "bar_color": null,
            "description_width": ""
          }
        },
        "eb6263e88f44487d8d384fc34fcebc65": {
          "model_module": "@jupyter-widgets/base",
          "model_name": "LayoutModel",
          "model_module_version": "1.2.0",
          "state": {
            "_model_module": "@jupyter-widgets/base",
            "_model_module_version": "1.2.0",
            "_model_name": "LayoutModel",
            "_view_count": null,
            "_view_module": "@jupyter-widgets/base",
            "_view_module_version": "1.2.0",
            "_view_name": "LayoutView",
            "align_content": null,
            "align_items": null,
            "align_self": null,
            "border": null,
            "bottom": null,
            "display": null,
            "flex": null,
            "flex_flow": null,
            "grid_area": null,
            "grid_auto_columns": null,
            "grid_auto_flow": null,
            "grid_auto_rows": null,
            "grid_column": null,
            "grid_gap": null,
            "grid_row": null,
            "grid_template_areas": null,
            "grid_template_columns": null,
            "grid_template_rows": null,
            "height": null,
            "justify_content": null,
            "justify_items": null,
            "left": null,
            "margin": null,
            "max_height": null,
            "max_width": null,
            "min_height": null,
            "min_width": null,
            "object_fit": null,
            "object_position": null,
            "order": null,
            "overflow": null,
            "overflow_x": null,
            "overflow_y": null,
            "padding": null,
            "right": null,
            "top": null,
            "visibility": null,
            "width": null
          }
        },
        "985f9af21d744a6f9e576391e038b723": {
          "model_module": "@jupyter-widgets/controls",
          "model_name": "DescriptionStyleModel",
          "model_module_version": "1.5.0",
          "state": {
            "_model_module": "@jupyter-widgets/controls",
            "_model_module_version": "1.5.0",
            "_model_name": "DescriptionStyleModel",
            "_view_count": null,
            "_view_module": "@jupyter-widgets/base",
            "_view_module_version": "1.2.0",
            "_view_name": "StyleView",
            "description_width": ""
          }
        },
        "463b9e3acbf64fc39778ffa9832b5f97": {
          "model_module": "@jupyter-widgets/controls",
          "model_name": "HBoxModel",
          "model_module_version": "1.5.0",
          "state": {
            "_dom_classes": [],
            "_model_module": "@jupyter-widgets/controls",
            "_model_module_version": "1.5.0",
            "_model_name": "HBoxModel",
            "_view_count": null,
            "_view_module": "@jupyter-widgets/controls",
            "_view_module_version": "1.5.0",
            "_view_name": "HBoxView",
            "box_style": "",
            "children": [
              "IPY_MODEL_1454e1c7267243b99790a1827aa3d381",
              "IPY_MODEL_48060fdbc3a34273899244965eab9bf9",
              "IPY_MODEL_26ae189516854429b75679c8b9a4d0b5"
            ],
            "layout": "IPY_MODEL_ab24a9d93c2e4b64b0dc0befee2a5b1a"
          }
        },
        "1454e1c7267243b99790a1827aa3d381": {
          "model_module": "@jupyter-widgets/controls",
          "model_name": "HTMLModel",
          "model_module_version": "1.5.0",
          "state": {
            "_dom_classes": [],
            "_model_module": "@jupyter-widgets/controls",
            "_model_module_version": "1.5.0",
            "_model_name": "HTMLModel",
            "_view_count": null,
            "_view_module": "@jupyter-widgets/controls",
            "_view_module_version": "1.5.0",
            "_view_name": "HTMLView",
            "description": "",
            "description_tooltip": null,
            "layout": "IPY_MODEL_5ed26373b0304e3daf11ac6b28d58cda",
            "placeholder": "​",
            "style": "IPY_MODEL_f50e161e8777464d9572a70ac278bd4a",
            "value": "100%"
          }
        },
        "48060fdbc3a34273899244965eab9bf9": {
          "model_module": "@jupyter-widgets/controls",
          "model_name": "FloatProgressModel",
          "model_module_version": "1.5.0",
          "state": {
            "_dom_classes": [],
            "_model_module": "@jupyter-widgets/controls",
            "_model_module_version": "1.5.0",
            "_model_name": "FloatProgressModel",
            "_view_count": null,
            "_view_module": "@jupyter-widgets/controls",
            "_view_module_version": "1.5.0",
            "_view_name": "ProgressView",
            "bar_style": "success",
            "description": "",
            "description_tooltip": null,
            "layout": "IPY_MODEL_13ece0b45eb24a4c8a0560d97b79f9ee",
            "max": 77,
            "min": 0,
            "orientation": "horizontal",
            "style": "IPY_MODEL_10a3c29042a54f46841f191dcc5ad0db",
            "value": 77
          }
        },
        "26ae189516854429b75679c8b9a4d0b5": {
          "model_module": "@jupyter-widgets/controls",
          "model_name": "HTMLModel",
          "model_module_version": "1.5.0",
          "state": {
            "_dom_classes": [],
            "_model_module": "@jupyter-widgets/controls",
            "_model_module_version": "1.5.0",
            "_model_name": "HTMLModel",
            "_view_count": null,
            "_view_module": "@jupyter-widgets/controls",
            "_view_module_version": "1.5.0",
            "_view_name": "HTMLView",
            "description": "",
            "description_tooltip": null,
            "layout": "IPY_MODEL_bb9c93c6acab4f82a274363b89240edb",
            "placeholder": "​",
            "style": "IPY_MODEL_2c70cb7b6ef947d59fbcd86753b83bbd",
            "value": " 77/77 [00:36&lt;00:00,  2.20it/s]"
          }
        },
        "ab24a9d93c2e4b64b0dc0befee2a5b1a": {
          "model_module": "@jupyter-widgets/base",
          "model_name": "LayoutModel",
          "model_module_version": "1.2.0",
          "state": {
            "_model_module": "@jupyter-widgets/base",
            "_model_module_version": "1.2.0",
            "_model_name": "LayoutModel",
            "_view_count": null,
            "_view_module": "@jupyter-widgets/base",
            "_view_module_version": "1.2.0",
            "_view_name": "LayoutView",
            "align_content": null,
            "align_items": null,
            "align_self": null,
            "border": null,
            "bottom": null,
            "display": null,
            "flex": null,
            "flex_flow": null,
            "grid_area": null,
            "grid_auto_columns": null,
            "grid_auto_flow": null,
            "grid_auto_rows": null,
            "grid_column": null,
            "grid_gap": null,
            "grid_row": null,
            "grid_template_areas": null,
            "grid_template_columns": null,
            "grid_template_rows": null,
            "height": null,
            "justify_content": null,
            "justify_items": null,
            "left": null,
            "margin": null,
            "max_height": null,
            "max_width": null,
            "min_height": null,
            "min_width": null,
            "object_fit": null,
            "object_position": null,
            "order": null,
            "overflow": null,
            "overflow_x": null,
            "overflow_y": null,
            "padding": null,
            "right": null,
            "top": null,
            "visibility": null,
            "width": null
          }
        },
        "5ed26373b0304e3daf11ac6b28d58cda": {
          "model_module": "@jupyter-widgets/base",
          "model_name": "LayoutModel",
          "model_module_version": "1.2.0",
          "state": {
            "_model_module": "@jupyter-widgets/base",
            "_model_module_version": "1.2.0",
            "_model_name": "LayoutModel",
            "_view_count": null,
            "_view_module": "@jupyter-widgets/base",
            "_view_module_version": "1.2.0",
            "_view_name": "LayoutView",
            "align_content": null,
            "align_items": null,
            "align_self": null,
            "border": null,
            "bottom": null,
            "display": null,
            "flex": null,
            "flex_flow": null,
            "grid_area": null,
            "grid_auto_columns": null,
            "grid_auto_flow": null,
            "grid_auto_rows": null,
            "grid_column": null,
            "grid_gap": null,
            "grid_row": null,
            "grid_template_areas": null,
            "grid_template_columns": null,
            "grid_template_rows": null,
            "height": null,
            "justify_content": null,
            "justify_items": null,
            "left": null,
            "margin": null,
            "max_height": null,
            "max_width": null,
            "min_height": null,
            "min_width": null,
            "object_fit": null,
            "object_position": null,
            "order": null,
            "overflow": null,
            "overflow_x": null,
            "overflow_y": null,
            "padding": null,
            "right": null,
            "top": null,
            "visibility": null,
            "width": null
          }
        },
        "f50e161e8777464d9572a70ac278bd4a": {
          "model_module": "@jupyter-widgets/controls",
          "model_name": "DescriptionStyleModel",
          "model_module_version": "1.5.0",
          "state": {
            "_model_module": "@jupyter-widgets/controls",
            "_model_module_version": "1.5.0",
            "_model_name": "DescriptionStyleModel",
            "_view_count": null,
            "_view_module": "@jupyter-widgets/base",
            "_view_module_version": "1.2.0",
            "_view_name": "StyleView",
            "description_width": ""
          }
        },
        "13ece0b45eb24a4c8a0560d97b79f9ee": {
          "model_module": "@jupyter-widgets/base",
          "model_name": "LayoutModel",
          "model_module_version": "1.2.0",
          "state": {
            "_model_module": "@jupyter-widgets/base",
            "_model_module_version": "1.2.0",
            "_model_name": "LayoutModel",
            "_view_count": null,
            "_view_module": "@jupyter-widgets/base",
            "_view_module_version": "1.2.0",
            "_view_name": "LayoutView",
            "align_content": null,
            "align_items": null,
            "align_self": null,
            "border": null,
            "bottom": null,
            "display": null,
            "flex": null,
            "flex_flow": null,
            "grid_area": null,
            "grid_auto_columns": null,
            "grid_auto_flow": null,
            "grid_auto_rows": null,
            "grid_column": null,
            "grid_gap": null,
            "grid_row": null,
            "grid_template_areas": null,
            "grid_template_columns": null,
            "grid_template_rows": null,
            "height": null,
            "justify_content": null,
            "justify_items": null,
            "left": null,
            "margin": null,
            "max_height": null,
            "max_width": null,
            "min_height": null,
            "min_width": null,
            "object_fit": null,
            "object_position": null,
            "order": null,
            "overflow": null,
            "overflow_x": null,
            "overflow_y": null,
            "padding": null,
            "right": null,
            "top": null,
            "visibility": null,
            "width": null
          }
        },
        "10a3c29042a54f46841f191dcc5ad0db": {
          "model_module": "@jupyter-widgets/controls",
          "model_name": "ProgressStyleModel",
          "model_module_version": "1.5.0",
          "state": {
            "_model_module": "@jupyter-widgets/controls",
            "_model_module_version": "1.5.0",
            "_model_name": "ProgressStyleModel",
            "_view_count": null,
            "_view_module": "@jupyter-widgets/base",
            "_view_module_version": "1.2.0",
            "_view_name": "StyleView",
            "bar_color": null,
            "description_width": ""
          }
        },
        "bb9c93c6acab4f82a274363b89240edb": {
          "model_module": "@jupyter-widgets/base",
          "model_name": "LayoutModel",
          "model_module_version": "1.2.0",
          "state": {
            "_model_module": "@jupyter-widgets/base",
            "_model_module_version": "1.2.0",
            "_model_name": "LayoutModel",
            "_view_count": null,
            "_view_module": "@jupyter-widgets/base",
            "_view_module_version": "1.2.0",
            "_view_name": "LayoutView",
            "align_content": null,
            "align_items": null,
            "align_self": null,
            "border": null,
            "bottom": null,
            "display": null,
            "flex": null,
            "flex_flow": null,
            "grid_area": null,
            "grid_auto_columns": null,
            "grid_auto_flow": null,
            "grid_auto_rows": null,
            "grid_column": null,
            "grid_gap": null,
            "grid_row": null,
            "grid_template_areas": null,
            "grid_template_columns": null,
            "grid_template_rows": null,
            "height": null,
            "justify_content": null,
            "justify_items": null,
            "left": null,
            "margin": null,
            "max_height": null,
            "max_width": null,
            "min_height": null,
            "min_width": null,
            "object_fit": null,
            "object_position": null,
            "order": null,
            "overflow": null,
            "overflow_x": null,
            "overflow_y": null,
            "padding": null,
            "right": null,
            "top": null,
            "visibility": null,
            "width": null
          }
        },
        "2c70cb7b6ef947d59fbcd86753b83bbd": {
          "model_module": "@jupyter-widgets/controls",
          "model_name": "DescriptionStyleModel",
          "model_module_version": "1.5.0",
          "state": {
            "_model_module": "@jupyter-widgets/controls",
            "_model_module_version": "1.5.0",
            "_model_name": "DescriptionStyleModel",
            "_view_count": null,
            "_view_module": "@jupyter-widgets/base",
            "_view_module_version": "1.2.0",
            "_view_name": "StyleView",
            "description_width": ""
          }
        },
        "3e3d8f58e2a24338a27af18fc40ea987": {
          "model_module": "@jupyter-widgets/controls",
          "model_name": "HBoxModel",
          "model_module_version": "1.5.0",
          "state": {
            "_dom_classes": [],
            "_model_module": "@jupyter-widgets/controls",
            "_model_module_version": "1.5.0",
            "_model_name": "HBoxModel",
            "_view_count": null,
            "_view_module": "@jupyter-widgets/controls",
            "_view_module_version": "1.5.0",
            "_view_name": "HBoxView",
            "box_style": "",
            "children": [
              "IPY_MODEL_fce36df90d2c43a3aa949c26a0b82c38",
              "IPY_MODEL_b94432d29aee4515bd027839445ca62c",
              "IPY_MODEL_7e65f414c1374af195c9999b14cc70b7"
            ],
            "layout": "IPY_MODEL_895d93aca48847b8a469b6eaaf621469"
          }
        },
        "fce36df90d2c43a3aa949c26a0b82c38": {
          "model_module": "@jupyter-widgets/controls",
          "model_name": "HTMLModel",
          "model_module_version": "1.5.0",
          "state": {
            "_dom_classes": [],
            "_model_module": "@jupyter-widgets/controls",
            "_model_module_version": "1.5.0",
            "_model_name": "HTMLModel",
            "_view_count": null,
            "_view_module": "@jupyter-widgets/controls",
            "_view_module_version": "1.5.0",
            "_view_name": "HTMLView",
            "description": "",
            "description_tooltip": null,
            "layout": "IPY_MODEL_4915823012704a3cb33654ef60f51811",
            "placeholder": "​",
            "style": "IPY_MODEL_bca08efc00d04934b1ca671947ede6bb",
            "value": "100%"
          }
        },
        "b94432d29aee4515bd027839445ca62c": {
          "model_module": "@jupyter-widgets/controls",
          "model_name": "FloatProgressModel",
          "model_module_version": "1.5.0",
          "state": {
            "_dom_classes": [],
            "_model_module": "@jupyter-widgets/controls",
            "_model_module_version": "1.5.0",
            "_model_name": "FloatProgressModel",
            "_view_count": null,
            "_view_module": "@jupyter-widgets/controls",
            "_view_module_version": "1.5.0",
            "_view_name": "ProgressView",
            "bar_style": "success",
            "description": "",
            "description_tooltip": null,
            "layout": "IPY_MODEL_e8907eac1d9b47b09b12803894d86893",
            "max": 77,
            "min": 0,
            "orientation": "horizontal",
            "style": "IPY_MODEL_d501c62985b14c198056badd375c7307",
            "value": 77
          }
        },
        "7e65f414c1374af195c9999b14cc70b7": {
          "model_module": "@jupyter-widgets/controls",
          "model_name": "HTMLModel",
          "model_module_version": "1.5.0",
          "state": {
            "_dom_classes": [],
            "_model_module": "@jupyter-widgets/controls",
            "_model_module_version": "1.5.0",
            "_model_name": "HTMLModel",
            "_view_count": null,
            "_view_module": "@jupyter-widgets/controls",
            "_view_module_version": "1.5.0",
            "_view_name": "HTMLView",
            "description": "",
            "description_tooltip": null,
            "layout": "IPY_MODEL_0bf189bc33214c62be07feccd8b80165",
            "placeholder": "​",
            "style": "IPY_MODEL_ec2477647b264cc183298e0facb5e85c",
            "value": " 77/77 [00:36&lt;00:00,  2.30it/s]"
          }
        },
        "895d93aca48847b8a469b6eaaf621469": {
          "model_module": "@jupyter-widgets/base",
          "model_name": "LayoutModel",
          "model_module_version": "1.2.0",
          "state": {
            "_model_module": "@jupyter-widgets/base",
            "_model_module_version": "1.2.0",
            "_model_name": "LayoutModel",
            "_view_count": null,
            "_view_module": "@jupyter-widgets/base",
            "_view_module_version": "1.2.0",
            "_view_name": "LayoutView",
            "align_content": null,
            "align_items": null,
            "align_self": null,
            "border": null,
            "bottom": null,
            "display": null,
            "flex": null,
            "flex_flow": null,
            "grid_area": null,
            "grid_auto_columns": null,
            "grid_auto_flow": null,
            "grid_auto_rows": null,
            "grid_column": null,
            "grid_gap": null,
            "grid_row": null,
            "grid_template_areas": null,
            "grid_template_columns": null,
            "grid_template_rows": null,
            "height": null,
            "justify_content": null,
            "justify_items": null,
            "left": null,
            "margin": null,
            "max_height": null,
            "max_width": null,
            "min_height": null,
            "min_width": null,
            "object_fit": null,
            "object_position": null,
            "order": null,
            "overflow": null,
            "overflow_x": null,
            "overflow_y": null,
            "padding": null,
            "right": null,
            "top": null,
            "visibility": null,
            "width": null
          }
        },
        "4915823012704a3cb33654ef60f51811": {
          "model_module": "@jupyter-widgets/base",
          "model_name": "LayoutModel",
          "model_module_version": "1.2.0",
          "state": {
            "_model_module": "@jupyter-widgets/base",
            "_model_module_version": "1.2.0",
            "_model_name": "LayoutModel",
            "_view_count": null,
            "_view_module": "@jupyter-widgets/base",
            "_view_module_version": "1.2.0",
            "_view_name": "LayoutView",
            "align_content": null,
            "align_items": null,
            "align_self": null,
            "border": null,
            "bottom": null,
            "display": null,
            "flex": null,
            "flex_flow": null,
            "grid_area": null,
            "grid_auto_columns": null,
            "grid_auto_flow": null,
            "grid_auto_rows": null,
            "grid_column": null,
            "grid_gap": null,
            "grid_row": null,
            "grid_template_areas": null,
            "grid_template_columns": null,
            "grid_template_rows": null,
            "height": null,
            "justify_content": null,
            "justify_items": null,
            "left": null,
            "margin": null,
            "max_height": null,
            "max_width": null,
            "min_height": null,
            "min_width": null,
            "object_fit": null,
            "object_position": null,
            "order": null,
            "overflow": null,
            "overflow_x": null,
            "overflow_y": null,
            "padding": null,
            "right": null,
            "top": null,
            "visibility": null,
            "width": null
          }
        },
        "bca08efc00d04934b1ca671947ede6bb": {
          "model_module": "@jupyter-widgets/controls",
          "model_name": "DescriptionStyleModel",
          "model_module_version": "1.5.0",
          "state": {
            "_model_module": "@jupyter-widgets/controls",
            "_model_module_version": "1.5.0",
            "_model_name": "DescriptionStyleModel",
            "_view_count": null,
            "_view_module": "@jupyter-widgets/base",
            "_view_module_version": "1.2.0",
            "_view_name": "StyleView",
            "description_width": ""
          }
        },
        "e8907eac1d9b47b09b12803894d86893": {
          "model_module": "@jupyter-widgets/base",
          "model_name": "LayoutModel",
          "model_module_version": "1.2.0",
          "state": {
            "_model_module": "@jupyter-widgets/base",
            "_model_module_version": "1.2.0",
            "_model_name": "LayoutModel",
            "_view_count": null,
            "_view_module": "@jupyter-widgets/base",
            "_view_module_version": "1.2.0",
            "_view_name": "LayoutView",
            "align_content": null,
            "align_items": null,
            "align_self": null,
            "border": null,
            "bottom": null,
            "display": null,
            "flex": null,
            "flex_flow": null,
            "grid_area": null,
            "grid_auto_columns": null,
            "grid_auto_flow": null,
            "grid_auto_rows": null,
            "grid_column": null,
            "grid_gap": null,
            "grid_row": null,
            "grid_template_areas": null,
            "grid_template_columns": null,
            "grid_template_rows": null,
            "height": null,
            "justify_content": null,
            "justify_items": null,
            "left": null,
            "margin": null,
            "max_height": null,
            "max_width": null,
            "min_height": null,
            "min_width": null,
            "object_fit": null,
            "object_position": null,
            "order": null,
            "overflow": null,
            "overflow_x": null,
            "overflow_y": null,
            "padding": null,
            "right": null,
            "top": null,
            "visibility": null,
            "width": null
          }
        },
        "d501c62985b14c198056badd375c7307": {
          "model_module": "@jupyter-widgets/controls",
          "model_name": "ProgressStyleModel",
          "model_module_version": "1.5.0",
          "state": {
            "_model_module": "@jupyter-widgets/controls",
            "_model_module_version": "1.5.0",
            "_model_name": "ProgressStyleModel",
            "_view_count": null,
            "_view_module": "@jupyter-widgets/base",
            "_view_module_version": "1.2.0",
            "_view_name": "StyleView",
            "bar_color": null,
            "description_width": ""
          }
        },
        "0bf189bc33214c62be07feccd8b80165": {
          "model_module": "@jupyter-widgets/base",
          "model_name": "LayoutModel",
          "model_module_version": "1.2.0",
          "state": {
            "_model_module": "@jupyter-widgets/base",
            "_model_module_version": "1.2.0",
            "_model_name": "LayoutModel",
            "_view_count": null,
            "_view_module": "@jupyter-widgets/base",
            "_view_module_version": "1.2.0",
            "_view_name": "LayoutView",
            "align_content": null,
            "align_items": null,
            "align_self": null,
            "border": null,
            "bottom": null,
            "display": null,
            "flex": null,
            "flex_flow": null,
            "grid_area": null,
            "grid_auto_columns": null,
            "grid_auto_flow": null,
            "grid_auto_rows": null,
            "grid_column": null,
            "grid_gap": null,
            "grid_row": null,
            "grid_template_areas": null,
            "grid_template_columns": null,
            "grid_template_rows": null,
            "height": null,
            "justify_content": null,
            "justify_items": null,
            "left": null,
            "margin": null,
            "max_height": null,
            "max_width": null,
            "min_height": null,
            "min_width": null,
            "object_fit": null,
            "object_position": null,
            "order": null,
            "overflow": null,
            "overflow_x": null,
            "overflow_y": null,
            "padding": null,
            "right": null,
            "top": null,
            "visibility": null,
            "width": null
          }
        },
        "ec2477647b264cc183298e0facb5e85c": {
          "model_module": "@jupyter-widgets/controls",
          "model_name": "DescriptionStyleModel",
          "model_module_version": "1.5.0",
          "state": {
            "_model_module": "@jupyter-widgets/controls",
            "_model_module_version": "1.5.0",
            "_model_name": "DescriptionStyleModel",
            "_view_count": null,
            "_view_module": "@jupyter-widgets/base",
            "_view_module_version": "1.2.0",
            "_view_name": "StyleView",
            "description_width": ""
          }
        },
        "52964c41b64046908a034a0fffe242ff": {
          "model_module": "@jupyter-widgets/controls",
          "model_name": "HBoxModel",
          "model_module_version": "1.5.0",
          "state": {
            "_dom_classes": [],
            "_model_module": "@jupyter-widgets/controls",
            "_model_module_version": "1.5.0",
            "_model_name": "HBoxModel",
            "_view_count": null,
            "_view_module": "@jupyter-widgets/controls",
            "_view_module_version": "1.5.0",
            "_view_name": "HBoxView",
            "box_style": "",
            "children": [
              "IPY_MODEL_fdfa797013034b1ebe946aff4d6c6983",
              "IPY_MODEL_fb6cbba78b7746d59734a52213010525",
              "IPY_MODEL_7fe17922fd2147df89a03de8f6290d0a"
            ],
            "layout": "IPY_MODEL_080bdd2f67e341e589e7918c43a6feee"
          }
        },
        "fdfa797013034b1ebe946aff4d6c6983": {
          "model_module": "@jupyter-widgets/controls",
          "model_name": "HTMLModel",
          "model_module_version": "1.5.0",
          "state": {
            "_dom_classes": [],
            "_model_module": "@jupyter-widgets/controls",
            "_model_module_version": "1.5.0",
            "_model_name": "HTMLModel",
            "_view_count": null,
            "_view_module": "@jupyter-widgets/controls",
            "_view_module_version": "1.5.0",
            "_view_name": "HTMLView",
            "description": "",
            "description_tooltip": null,
            "layout": "IPY_MODEL_d854fc9175af4a7fabe61fe2e3b041fb",
            "placeholder": "​",
            "style": "IPY_MODEL_db88c5ffeb964d30a5884468e5ff000c",
            "value": "100%"
          }
        },
        "fb6cbba78b7746d59734a52213010525": {
          "model_module": "@jupyter-widgets/controls",
          "model_name": "FloatProgressModel",
          "model_module_version": "1.5.0",
          "state": {
            "_dom_classes": [],
            "_model_module": "@jupyter-widgets/controls",
            "_model_module_version": "1.5.0",
            "_model_name": "FloatProgressModel",
            "_view_count": null,
            "_view_module": "@jupyter-widgets/controls",
            "_view_module_version": "1.5.0",
            "_view_name": "ProgressView",
            "bar_style": "success",
            "description": "",
            "description_tooltip": null,
            "layout": "IPY_MODEL_401799983d634914b1482565d8738200",
            "max": 1229,
            "min": 0,
            "orientation": "horizontal",
            "style": "IPY_MODEL_2d1b5ab3fb3146d099d6f0229a0f3e5a",
            "value": 1229
          }
        },
        "7fe17922fd2147df89a03de8f6290d0a": {
          "model_module": "@jupyter-widgets/controls",
          "model_name": "HTMLModel",
          "model_module_version": "1.5.0",
          "state": {
            "_dom_classes": [],
            "_model_module": "@jupyter-widgets/controls",
            "_model_module_version": "1.5.0",
            "_model_name": "HTMLModel",
            "_view_count": null,
            "_view_module": "@jupyter-widgets/controls",
            "_view_module_version": "1.5.0",
            "_view_name": "HTMLView",
            "description": "",
            "description_tooltip": null,
            "layout": "IPY_MODEL_829540b54b7649b18e7fd2e74a06d397",
            "placeholder": "​",
            "style": "IPY_MODEL_560b1a0d7977483183ced2b1f99be867",
            "value": " 1229/1229 [00:24&lt;00:00, 31.53it/s]"
          }
        },
        "080bdd2f67e341e589e7918c43a6feee": {
          "model_module": "@jupyter-widgets/base",
          "model_name": "LayoutModel",
          "model_module_version": "1.2.0",
          "state": {
            "_model_module": "@jupyter-widgets/base",
            "_model_module_version": "1.2.0",
            "_model_name": "LayoutModel",
            "_view_count": null,
            "_view_module": "@jupyter-widgets/base",
            "_view_module_version": "1.2.0",
            "_view_name": "LayoutView",
            "align_content": null,
            "align_items": null,
            "align_self": null,
            "border": null,
            "bottom": null,
            "display": null,
            "flex": null,
            "flex_flow": null,
            "grid_area": null,
            "grid_auto_columns": null,
            "grid_auto_flow": null,
            "grid_auto_rows": null,
            "grid_column": null,
            "grid_gap": null,
            "grid_row": null,
            "grid_template_areas": null,
            "grid_template_columns": null,
            "grid_template_rows": null,
            "height": null,
            "justify_content": null,
            "justify_items": null,
            "left": null,
            "margin": null,
            "max_height": null,
            "max_width": null,
            "min_height": null,
            "min_width": null,
            "object_fit": null,
            "object_position": null,
            "order": null,
            "overflow": null,
            "overflow_x": null,
            "overflow_y": null,
            "padding": null,
            "right": null,
            "top": null,
            "visibility": null,
            "width": null
          }
        },
        "d854fc9175af4a7fabe61fe2e3b041fb": {
          "model_module": "@jupyter-widgets/base",
          "model_name": "LayoutModel",
          "model_module_version": "1.2.0",
          "state": {
            "_model_module": "@jupyter-widgets/base",
            "_model_module_version": "1.2.0",
            "_model_name": "LayoutModel",
            "_view_count": null,
            "_view_module": "@jupyter-widgets/base",
            "_view_module_version": "1.2.0",
            "_view_name": "LayoutView",
            "align_content": null,
            "align_items": null,
            "align_self": null,
            "border": null,
            "bottom": null,
            "display": null,
            "flex": null,
            "flex_flow": null,
            "grid_area": null,
            "grid_auto_columns": null,
            "grid_auto_flow": null,
            "grid_auto_rows": null,
            "grid_column": null,
            "grid_gap": null,
            "grid_row": null,
            "grid_template_areas": null,
            "grid_template_columns": null,
            "grid_template_rows": null,
            "height": null,
            "justify_content": null,
            "justify_items": null,
            "left": null,
            "margin": null,
            "max_height": null,
            "max_width": null,
            "min_height": null,
            "min_width": null,
            "object_fit": null,
            "object_position": null,
            "order": null,
            "overflow": null,
            "overflow_x": null,
            "overflow_y": null,
            "padding": null,
            "right": null,
            "top": null,
            "visibility": null,
            "width": null
          }
        },
        "db88c5ffeb964d30a5884468e5ff000c": {
          "model_module": "@jupyter-widgets/controls",
          "model_name": "DescriptionStyleModel",
          "model_module_version": "1.5.0",
          "state": {
            "_model_module": "@jupyter-widgets/controls",
            "_model_module_version": "1.5.0",
            "_model_name": "DescriptionStyleModel",
            "_view_count": null,
            "_view_module": "@jupyter-widgets/base",
            "_view_module_version": "1.2.0",
            "_view_name": "StyleView",
            "description_width": ""
          }
        },
        "401799983d634914b1482565d8738200": {
          "model_module": "@jupyter-widgets/base",
          "model_name": "LayoutModel",
          "model_module_version": "1.2.0",
          "state": {
            "_model_module": "@jupyter-widgets/base",
            "_model_module_version": "1.2.0",
            "_model_name": "LayoutModel",
            "_view_count": null,
            "_view_module": "@jupyter-widgets/base",
            "_view_module_version": "1.2.0",
            "_view_name": "LayoutView",
            "align_content": null,
            "align_items": null,
            "align_self": null,
            "border": null,
            "bottom": null,
            "display": null,
            "flex": null,
            "flex_flow": null,
            "grid_area": null,
            "grid_auto_columns": null,
            "grid_auto_flow": null,
            "grid_auto_rows": null,
            "grid_column": null,
            "grid_gap": null,
            "grid_row": null,
            "grid_template_areas": null,
            "grid_template_columns": null,
            "grid_template_rows": null,
            "height": null,
            "justify_content": null,
            "justify_items": null,
            "left": null,
            "margin": null,
            "max_height": null,
            "max_width": null,
            "min_height": null,
            "min_width": null,
            "object_fit": null,
            "object_position": null,
            "order": null,
            "overflow": null,
            "overflow_x": null,
            "overflow_y": null,
            "padding": null,
            "right": null,
            "top": null,
            "visibility": null,
            "width": null
          }
        },
        "2d1b5ab3fb3146d099d6f0229a0f3e5a": {
          "model_module": "@jupyter-widgets/controls",
          "model_name": "ProgressStyleModel",
          "model_module_version": "1.5.0",
          "state": {
            "_model_module": "@jupyter-widgets/controls",
            "_model_module_version": "1.5.0",
            "_model_name": "ProgressStyleModel",
            "_view_count": null,
            "_view_module": "@jupyter-widgets/base",
            "_view_module_version": "1.2.0",
            "_view_name": "StyleView",
            "bar_color": null,
            "description_width": ""
          }
        },
        "829540b54b7649b18e7fd2e74a06d397": {
          "model_module": "@jupyter-widgets/base",
          "model_name": "LayoutModel",
          "model_module_version": "1.2.0",
          "state": {
            "_model_module": "@jupyter-widgets/base",
            "_model_module_version": "1.2.0",
            "_model_name": "LayoutModel",
            "_view_count": null,
            "_view_module": "@jupyter-widgets/base",
            "_view_module_version": "1.2.0",
            "_view_name": "LayoutView",
            "align_content": null,
            "align_items": null,
            "align_self": null,
            "border": null,
            "bottom": null,
            "display": null,
            "flex": null,
            "flex_flow": null,
            "grid_area": null,
            "grid_auto_columns": null,
            "grid_auto_flow": null,
            "grid_auto_rows": null,
            "grid_column": null,
            "grid_gap": null,
            "grid_row": null,
            "grid_template_areas": null,
            "grid_template_columns": null,
            "grid_template_rows": null,
            "height": null,
            "justify_content": null,
            "justify_items": null,
            "left": null,
            "margin": null,
            "max_height": null,
            "max_width": null,
            "min_height": null,
            "min_width": null,
            "object_fit": null,
            "object_position": null,
            "order": null,
            "overflow": null,
            "overflow_x": null,
            "overflow_y": null,
            "padding": null,
            "right": null,
            "top": null,
            "visibility": null,
            "width": null
          }
        },
        "560b1a0d7977483183ced2b1f99be867": {
          "model_module": "@jupyter-widgets/controls",
          "model_name": "DescriptionStyleModel",
          "model_module_version": "1.5.0",
          "state": {
            "_model_module": "@jupyter-widgets/controls",
            "_model_module_version": "1.5.0",
            "_model_name": "DescriptionStyleModel",
            "_view_count": null,
            "_view_module": "@jupyter-widgets/base",
            "_view_module_version": "1.2.0",
            "_view_name": "StyleView",
            "description_width": ""
          }
        }
      }
    }
  },
  "nbformat": 4,
  "nbformat_minor": 0
}