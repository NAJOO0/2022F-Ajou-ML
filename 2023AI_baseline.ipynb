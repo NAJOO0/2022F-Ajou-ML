{
  "nbformat": 4,
  "nbformat_minor": 0,
  "metadata": {
    "colab": {
      "provenance": [],
      "include_colab_link": true
    },
    "kernelspec": {
      "name": "python3",
      "display_name": "Python 3"
    },
    "language_info": {
      "name": "python"
    }
  },
  "cells": [
    {
      "cell_type": "markdown",
      "metadata": {
        "id": "view-in-github",
        "colab_type": "text"
      },
      "source": [
        "<a href=\"https://colab.research.google.com/github/NAJOO0/2022F-Ajou-ML/blob/main/2023AI_baseline.ipynb\" target=\"_parent\"><img src=\"https://colab.research.google.com/assets/colab-badge.svg\" alt=\"Open In Colab\"/></a>"
      ]
    },
    {
      "cell_type": "code",
      "metadata": {
        "id": "YoIYO-hUoKKY"
      },
      "source": [
        "# !pip install torch torchvision"
      ],
      "execution_count": 1,
      "outputs": []
    },
    {
      "cell_type": "code",
      "metadata": {
        "id": "qZwRe8dCoRet"
      },
      "source": [
        "#Import Libraries\n",
        "\n",
        "\n",
        "from __future__ import print_function\n",
        "import argparse\n",
        "import torch\n",
        "import torch.nn as nn\n",
        "import torch.nn.functional as F\n",
        "import torch.optim as optim\n",
        "from torchvision import datasets, transforms\n",
        "from torch.autograd import Variable"
      ],
      "execution_count": 2,
      "outputs": []
    },
    {
      "cell_type": "code",
      "metadata": {
        "id": "MOG5f5jlo-XT"
      },
      "source": [
        "args={}\n",
        "kwargs={}\n",
        "args['batch_size']=128\n",
        "args['test_batch_size']=128\n",
        "args['epochs']=5  #The number of Epochs is the number of times you go through the full dataset. \n",
        "args['lr']=0.01 #Learning rate is how fast it will decend. \n",
        "args['momentum']=0.5 #SGD momentum (default: 0.5) Momentum is a moving average of our gradients (helps to keep direction).\n",
        "\n",
        "args['seed']=1 #random seed\n",
        "args['log_interval']=5000 // args['batch_size']\n",
        "args['cuda']=False"
      ],
      "execution_count": 3,
      "outputs": []
    },
    {
      "cell_type": "code",
      "source": [
        "print(args)"
      ],
      "metadata": {
        "colab": {
          "base_uri": "https://localhost:8080/"
        },
        "id": "EZgY6kgMuQXM",
        "outputId": "3fe45481-027c-4fb3-862c-11dff8e7e342"
      },
      "execution_count": 4,
      "outputs": [
        {
          "output_type": "stream",
          "name": "stdout",
          "text": [
            "{'batch_size': 128, 'test_batch_size': 128, 'epochs': 5, 'lr': 0.01, 'momentum': 0.5, 'seed': 1, 'log_interval': 39, 'cuda': False}\n"
          ]
        }
      ]
    },
    {
      "cell_type": "code",
      "metadata": {
        "id": "JGdPKyBuo-gJ"
      },
      "source": [
        "# #load the data\n",
        "# train_loader = torch.utils.data.DataLoader(\n",
        "#     datasets.MNIST('../data', train=True, download=True,\n",
        "#                    transform=transforms.Compose([\n",
        "#                        transforms.ToTensor(),\n",
        "#                        transforms.Resize((224,224)),\n",
        "#                        transforms.Normalize((0.1307,), (0.3081,))\n",
        "#                    ])),\n",
        "#     batch_size=args['batch_size'], shuffle=True, **kwargs)\n",
        "# test_loader = torch.utils.data.DataLoader(\n",
        "#     datasets.MNIST('../data', train=False, transform=transforms.Compose([\n",
        "#                        transforms.ToTensor(),\n",
        "#                        transforms.Resize((224,224)),\n",
        "#                        transforms.Normalize((0.1307,), (0.3081,))\n",
        "#                    ])),\n",
        "#     batch_size=args['test_batch_size'], shuffle=True, **kwargs)\n"
      ],
      "execution_count": 5,
      "outputs": []
    },
    {
      "cell_type": "code",
      "source": [
        "#load the data\n",
        "train_loader = torch.utils.data.DataLoader(\n",
        "    datasets.FashionMNIST(root='MNIST_data/', train=True, download=True,\n",
        "                   transform=transforms.Compose([\n",
        "                       transforms.ToTensor(),\n",
        "                       transforms.Normalize((0.1307,), (0.3081,))\n",
        "                   ])),\n",
        "    batch_size=args['batch_size'], shuffle=True, **kwargs)\n",
        "test_loader = torch.utils.data.DataLoader(\n",
        "    datasets.FashionMNIST('MNIST_data/', train=False, transform=transforms.Compose([\n",
        "                       transforms.ToTensor(),\n",
        "                       transforms.Normalize((0.1307,), (0.3081,))\n",
        "                   ])),\n",
        "    batch_size=args['test_batch_size'], shuffle=True, **kwargs)"
      ],
      "metadata": {
        "colab": {
          "base_uri": "https://localhost:8080/"
        },
        "id": "wtlkDDVSkBdg",
        "outputId": "a9e75e29-4cd9-4a38-bc7e-629ee4dbd7ad"
      },
      "execution_count": 6,
      "outputs": [
        {
          "output_type": "stream",
          "name": "stdout",
          "text": [
            "Downloading http://fashion-mnist.s3-website.eu-central-1.amazonaws.com/train-images-idx3-ubyte.gz\n",
            "Downloading http://fashion-mnist.s3-website.eu-central-1.amazonaws.com/train-images-idx3-ubyte.gz to MNIST_data/FashionMNIST/raw/train-images-idx3-ubyte.gz\n"
          ]
        },
        {
          "output_type": "stream",
          "name": "stderr",
          "text": [
            "100%|██████████| 26421880/26421880 [00:01<00:00, 15702321.76it/s]\n"
          ]
        },
        {
          "output_type": "stream",
          "name": "stdout",
          "text": [
            "Extracting MNIST_data/FashionMNIST/raw/train-images-idx3-ubyte.gz to MNIST_data/FashionMNIST/raw\n",
            "\n",
            "Downloading http://fashion-mnist.s3-website.eu-central-1.amazonaws.com/train-labels-idx1-ubyte.gz\n",
            "Downloading http://fashion-mnist.s3-website.eu-central-1.amazonaws.com/train-labels-idx1-ubyte.gz to MNIST_data/FashionMNIST/raw/train-labels-idx1-ubyte.gz\n"
          ]
        },
        {
          "output_type": "stream",
          "name": "stderr",
          "text": [
            "100%|██████████| 29515/29515 [00:00<00:00, 272143.06it/s]\n"
          ]
        },
        {
          "output_type": "stream",
          "name": "stdout",
          "text": [
            "Extracting MNIST_data/FashionMNIST/raw/train-labels-idx1-ubyte.gz to MNIST_data/FashionMNIST/raw\n",
            "\n",
            "Downloading http://fashion-mnist.s3-website.eu-central-1.amazonaws.com/t10k-images-idx3-ubyte.gz\n",
            "Downloading http://fashion-mnist.s3-website.eu-central-1.amazonaws.com/t10k-images-idx3-ubyte.gz to MNIST_data/FashionMNIST/raw/t10k-images-idx3-ubyte.gz\n"
          ]
        },
        {
          "output_type": "stream",
          "name": "stderr",
          "text": [
            "100%|██████████| 4422102/4422102 [00:00<00:00, 4994438.13it/s]\n"
          ]
        },
        {
          "output_type": "stream",
          "name": "stdout",
          "text": [
            "Extracting MNIST_data/FashionMNIST/raw/t10k-images-idx3-ubyte.gz to MNIST_data/FashionMNIST/raw\n",
            "\n",
            "Downloading http://fashion-mnist.s3-website.eu-central-1.amazonaws.com/t10k-labels-idx1-ubyte.gz\n",
            "Downloading http://fashion-mnist.s3-website.eu-central-1.amazonaws.com/t10k-labels-idx1-ubyte.gz to MNIST_data/FashionMNIST/raw/t10k-labels-idx1-ubyte.gz\n"
          ]
        },
        {
          "output_type": "stream",
          "name": "stderr",
          "text": [
            "100%|██████████| 5148/5148 [00:00<00:00, 22609714.13it/s]"
          ]
        },
        {
          "output_type": "stream",
          "name": "stdout",
          "text": [
            "Extracting MNIST_data/FashionMNIST/raw/t10k-labels-idx1-ubyte.gz to MNIST_data/FashionMNIST/raw\n",
            "\n"
          ]
        },
        {
          "output_type": "stream",
          "name": "stderr",
          "text": [
            "\n"
          ]
        }
      ]
    },
    {
      "cell_type": "code",
      "metadata": {
        "id": "jArDr-s3pBOJ"
      },
      "source": [
        "class Net(nn.Module):\n",
        "    #This defines the structure of the NN.\n",
        "    def __init__(self):\n",
        "        super(Net, self).__init__()\n",
        "        self.conv1 = nn.Conv2d(1, 10, kernel_size=5)\n",
        "        self.conv1_gn = nn.GroupNorm(2,10)\n",
        "        self.conv2 = nn.Conv2d(10, 20, kernel_size=5)\n",
        "        self.conv2_drop = nn.Dropout2d()  #Dropout\n",
        "        self.conv2_gn = nn.GroupNorm(2,20)\n",
        "        self.fc1 = nn.Linear(320, 50)\n",
        "        self.fc1_gn =  nn.GroupNorm(2,50)\n",
        "        self.fc2 = nn.Linear(50, 10)\n",
        "    def forward(self, x): \n",
        "        #Convolutional Layer/Pooling Layer/Activation\n",
        "        x = F.relu(F.max_pool2d(self.conv1_gn(self.conv1(x)), 2))\n",
        "        #Convolutional Layer/Dropout/Pooling Layer/Activation\n",
        "        x = F.relu(F.max_pool2d(self.conv2_drop(self.conv2_gn(self.conv2(x))), 2))\n",
        "        x = x.view(-1, 320)\n",
        "        #Fully Connected Layer/Activation\n",
        "        x = F.relu(self.fc1_gn(self.fc1(x)))\n",
        "        x = F.dropout(x, training=self.training)\n",
        "        #Fully Connected Layer/Activation\n",
        "        x = self.fc2(x)\n",
        "        #Softmax gets probabilities. \n",
        "        return F.log_softmax(x, dim=1)"
      ],
      "execution_count": 7,
      "outputs": []
    },
    {
      "cell_type": "code",
      "source": [
        "class ConvL(nn.Module):\n",
        "  def __init__(self,in_channels,out_channels,isActive=True, **kwargs):\n",
        "    super().__init__()\n",
        "    self.relu=nn.ReLU()\n",
        "    self.conv = nn.Conv2d(in_channels,out_channels, **kwargs)\n",
        "    self.bn = nn.BatchNorm2d(out_channels)\n",
        "    self.isActive = isActive\n",
        "  def forward(self,x):\n",
        "    if self.isActive:\n",
        "        return self.relu(self.bn(self.conv(x)))\n",
        "    return self.bn(self.conv(x))\n",
        "class BottleNeckBlock(nn.Module):\n",
        "  def __init__(self,in_channels,mid_channels,out_channels,stride=1):\n",
        "    super().__init__()\n",
        "    self.relu = nn.ReLU()\n",
        "    if in_channels==64: \n",
        "        # 첫 conv\n",
        "      self.convS = nn.Sequential(\n",
        "            ConvL(in_channels, mid_channels, kernel_size=1, padding=0),\n",
        "            ConvL(mid_channels, mid_channels, kernel_size=3, padding=1),\n",
        "            ConvL(mid_channels, out_channels,isActive=0,kernel_size=1, padding=0)\n",
        "      )\n",
        "      self.resi = nn.Conv2d(in_channels,out_channels,kernel_size=1)\n",
        "    elif in_channels==out_channels:\n",
        "      self.convS = nn.Sequential(\n",
        "            ConvL(in_channels, mid_channels, kernel_size=1, padding=0),\n",
        "            ConvL(mid_channels, mid_channels, kernel_size=3, padding=1),\n",
        "            ConvL(mid_channels, out_channels,isActive=0, kernel_size=1, padding=0)\n",
        "      )\n",
        "      self.resi = nn.Identity()\n",
        "    else:\n",
        "      self.convS = nn.Sequential(\n",
        "            ConvL(in_channels, mid_channels, kernel_size=1, padding=0,stride=2),\n",
        "            ConvL(mid_channels, mid_channels, kernel_size=3, padding=1),\n",
        "            ConvL(mid_channels, out_channels,isActive=0, kernel_size=1, padding=0)\n",
        "      )\n",
        "      self.resi = nn.Conv2d(in_channels,out_channels,kernel_size=1,stride=2)\n",
        "  def forward(self,x):\n",
        "    x = self.convS(x) + self.resi(x)\n",
        "    x = self.relu(x)\n",
        "    return x\n",
        "class ResNet50(nn.Module):\n",
        "    def __init__(self,in_channels=1,num_classes=10):\n",
        "      super().__init__()\n",
        "      self.start = nn.Sequential(\n",
        "          ConvL(in_channels,out_channels=64,isActive=False,kernel_size=7,padding=3,stride=2),\n",
        "          nn.MaxPool2d(3,2,1)\n",
        "      )\n",
        "      self.layer1 = nn.Sequential(\n",
        "          BottleNeckBlock(64,64,256),\n",
        "          BottleNeckBlock(256,64,256),\n",
        "          BottleNeckBlock(256,64,256),\n",
        "      )\n",
        "      self.layer2 = nn.Sequential(\n",
        "          BottleNeckBlock(256,128,512),\n",
        "          BottleNeckBlock(512,128,512),\n",
        "          BottleNeckBlock(512,128,512),\n",
        "          BottleNeckBlock(512,128,512),\n",
        "      )\n",
        "      self.layer3 = nn.Sequential(\n",
        "          BottleNeckBlock(512,256,1024),\n",
        "          BottleNeckBlock(1024,256,1024),\n",
        "          BottleNeckBlock(1024,256,1024),\n",
        "          BottleNeckBlock(1024,256,1024),\n",
        "          BottleNeckBlock(1024,256,1024),\n",
        "          BottleNeckBlock(1024,256,1024),\n",
        "      )\n",
        "      self.layer4 = nn.Sequential(\n",
        "          BottleNeckBlock(1024,512,2048),\n",
        "          BottleNeckBlock(2048,512,2048),\n",
        "          BottleNeckBlock(2048,512,2048),\n",
        "      )\n",
        "      self.avgpool=nn.AvgPool2d(7,2)\n",
        "      self.fc=nn.Linear(2048,num_classes) \n",
        "    def forward(self,x):\n",
        "      x=self.start(x)\n",
        "      x=self.layer1(x)\n",
        "      x=self.layer2(x)\n",
        "      x=self.layer3(x)\n",
        "      x=self.layer4(x)\n",
        "    #   x=self.avgpool(x)\n",
        "      x=x.reshape(x.shape[0],-1)\n",
        "      x=self.fc(x)\n",
        "      return x"
      ],
      "metadata": {
        "id": "OB25n6DMhVEG"
      },
      "execution_count": 8,
      "outputs": []
    },
    {
      "cell_type": "code",
      "source": [
        "import torch\n",
        "import torchvision\n",
        "import torchsummary\n",
        "net = ResNet50()\n",
        "\n",
        "torchsummary.summary(net, (1, 28, 28),device='cpu')\n",
        "# print(net)"
      ],
      "metadata": {
        "id": "vZAeKzlUhZGI"
      },
      "execution_count": null,
      "outputs": []
    },
    {
      "cell_type": "code",
      "metadata": {
        "id": "cAisI4rXpBUl"
      },
      "source": [
        "\n",
        "def train(epoch):\n",
        "    model.train()\n",
        "    for batch_idx, (data, target) in enumerate(train_loader):\n",
        "        if args['cuda']:\n",
        "            data, target = data.cuda(), target.cuda()\n",
        "        #Variables in Pytorch are differenciable. \n",
        "        data, target = Variable(data), Variable(target)\n",
        "        #This will zero out the gradients for this batch. \n",
        "        optimizer.zero_grad()\n",
        "        output = model(data)\n",
        "        # Calculate the loss The negative log likelihood loss. It is useful to train a classification problem with C classes.\n",
        "        loss = F.cross_entropy(output, target)\n",
        "        #dloss/dx for every Variable \n",
        "        loss.backward()\n",
        "        #to do a one-step update on our parameter.\n",
        "        optimizer.step()\n",
        "        #Print out the loss periodically. \n",
        "        if batch_idx % args['log_interval'] == 0:\n",
        "            print('Train Epoch: {} [{}/{} ({:.0f}%)]\\tLoss: {:.6f}'.format(\n",
        "                epoch, batch_idx * len(data), len(train_loader.dataset),\n",
        "                100. * batch_idx / len(train_loader), loss.data))\n",
        "\n",
        "def test():\n",
        "    model.eval()\n",
        "    test_loss = 0\n",
        "    correct = 0\n",
        "    for data, target in test_loader:\n",
        "        if args['cuda']:\n",
        "            data, target = data.cuda(), target.cuda()\n",
        "        data, target = Variable(data, volatile=True), Variable(target)\n",
        "        output = model(data)\n",
        "        print(output)\n",
        "        test_loss += F.cross_entropy(output, target, size_average=False).data # sum up batch loss\n",
        "        pred = output.data.max(1, keepdim=True)[1] # get the index of the max log-probability\n",
        "        correct += pred.eq(target.data.view_as(pred)).long().cpu().sum()\n",
        "\n",
        "    test_loss /= len(test_loader.dataset)\n",
        "    print('\\nTest set: Average loss: {:.4f}, Accuracy: {}/{} ({:.0f}%)\\n'.format(\n",
        "        test_loss, correct, len(test_loader.dataset),\n",
        "        100. * correct / len(test_loader.dataset)))"
      ],
      "execution_count": 10,
      "outputs": []
    },
    {
      "cell_type": "code",
      "metadata": {
        "id": "ZRTIDcni1IDu",
        "colab": {
          "base_uri": "https://localhost:8080/"
        },
        "outputId": "f98b2568-5c3b-417f-f504-8e7516deaebf"
      },
      "source": [
        "model = ResNet50()\n",
        "if args['cuda']:\n",
        "    model.cuda()\n",
        "\n",
        "optimizer = optim.Adam(model.parameters())\n",
        "\n",
        "for epoch in range(1, args['epochs'] + 1):\n",
        "    train(epoch)\n",
        "    test()"
      ],
      "execution_count": 11,
      "outputs": [
        {
          "output_type": "stream",
          "name": "stdout",
          "text": [
            "Train Epoch: 1 [0/60000 (0%)]\tLoss: 2.470303\n",
            "Train Epoch: 1 [4992/60000 (8%)]\tLoss: 0.659355\n",
            "Train Epoch: 1 [9984/60000 (17%)]\tLoss: 0.531614\n",
            "Train Epoch: 1 [14976/60000 (25%)]\tLoss: 0.447345\n",
            "Train Epoch: 1 [19968/60000 (33%)]\tLoss: 0.597117\n",
            "Train Epoch: 1 [24960/60000 (42%)]\tLoss: 0.391761\n",
            "Train Epoch: 1 [29952/60000 (50%)]\tLoss: 0.496301\n",
            "Train Epoch: 1 [34944/60000 (58%)]\tLoss: 0.513365\n",
            "Train Epoch: 1 [39936/60000 (67%)]\tLoss: 0.497913\n",
            "Train Epoch: 1 [44928/60000 (75%)]\tLoss: 0.408327\n",
            "Train Epoch: 1 [49920/60000 (83%)]\tLoss: 0.581885\n",
            "Train Epoch: 1 [54912/60000 (91%)]\tLoss: 0.522180\n",
            "Train Epoch: 1 [44928/60000 (100%)]\tLoss: 0.301533\n"
          ]
        },
        {
          "output_type": "stream",
          "name": "stderr",
          "text": [
            "<ipython-input-10-786c9008d387>:30: UserWarning: volatile was removed and now has no effect. Use `with torch.no_grad():` instead.\n",
            "  data, target = Variable(data, volatile=True), Variable(target)\n",
            "/usr/local/lib/python3.10/dist-packages/torch/nn/_reduction.py:42: UserWarning: size_average and reduce args will be deprecated, please use reduction='sum' instead.\n",
            "  warnings.warn(warning.format(ret))\n"
          ]
        },
        {
          "output_type": "stream",
          "name": "stdout",
          "text": [
            "\n",
            "Test set: Average loss: 0.5038, Accuracy: 8278/10000 (83%)\n",
            "\n",
            "Train Epoch: 2 [0/60000 (0%)]\tLoss: 0.346631\n",
            "Train Epoch: 2 [4992/60000 (8%)]\tLoss: 0.381478\n",
            "Train Epoch: 2 [9984/60000 (17%)]\tLoss: 0.297231\n",
            "Train Epoch: 2 [14976/60000 (25%)]\tLoss: 0.426120\n",
            "Train Epoch: 2 [19968/60000 (33%)]\tLoss: 0.705629\n",
            "Train Epoch: 2 [24960/60000 (42%)]\tLoss: 0.283381\n",
            "Train Epoch: 2 [29952/60000 (50%)]\tLoss: 0.423245\n",
            "Train Epoch: 2 [34944/60000 (58%)]\tLoss: 0.349559\n",
            "Train Epoch: 2 [39936/60000 (67%)]\tLoss: 0.406013\n",
            "Train Epoch: 2 [44928/60000 (75%)]\tLoss: 0.263499\n",
            "Train Epoch: 2 [49920/60000 (83%)]\tLoss: 0.516194\n",
            "Train Epoch: 2 [54912/60000 (91%)]\tLoss: 0.402127\n",
            "Train Epoch: 2 [44928/60000 (100%)]\tLoss: 0.464516\n",
            "\n",
            "Test set: Average loss: 0.4160, Accuracy: 8527/10000 (85%)\n",
            "\n",
            "Train Epoch: 3 [0/60000 (0%)]\tLoss: 0.410008\n",
            "Train Epoch: 3 [4992/60000 (8%)]\tLoss: 0.395986\n",
            "Train Epoch: 3 [9984/60000 (17%)]\tLoss: 0.313661\n",
            "Train Epoch: 3 [14976/60000 (25%)]\tLoss: 0.339705\n",
            "Train Epoch: 3 [19968/60000 (33%)]\tLoss: 0.295705\n",
            "Train Epoch: 3 [24960/60000 (42%)]\tLoss: 0.227157\n",
            "Train Epoch: 3 [29952/60000 (50%)]\tLoss: 0.343738\n",
            "Train Epoch: 3 [34944/60000 (58%)]\tLoss: 0.320386\n",
            "Train Epoch: 3 [39936/60000 (67%)]\tLoss: 0.458401\n",
            "Train Epoch: 3 [44928/60000 (75%)]\tLoss: 0.304464\n",
            "Train Epoch: 3 [49920/60000 (83%)]\tLoss: 0.333092\n",
            "Train Epoch: 3 [54912/60000 (91%)]\tLoss: 0.291049\n",
            "Train Epoch: 3 [44928/60000 (100%)]\tLoss: 0.430600\n",
            "\n",
            "Test set: Average loss: 0.4213, Accuracy: 8513/10000 (85%)\n",
            "\n",
            "Train Epoch: 4 [0/60000 (0%)]\tLoss: 0.284072\n",
            "Train Epoch: 4 [4992/60000 (8%)]\tLoss: 0.222771\n",
            "Train Epoch: 4 [9984/60000 (17%)]\tLoss: 0.273560\n",
            "Train Epoch: 4 [14976/60000 (25%)]\tLoss: 0.371150\n",
            "Train Epoch: 4 [19968/60000 (33%)]\tLoss: 0.260592\n",
            "Train Epoch: 4 [24960/60000 (42%)]\tLoss: 0.355957\n",
            "Train Epoch: 4 [29952/60000 (50%)]\tLoss: 0.401097\n",
            "Train Epoch: 4 [34944/60000 (58%)]\tLoss: 0.340486\n",
            "Train Epoch: 4 [39936/60000 (67%)]\tLoss: 0.241868\n",
            "Train Epoch: 4 [44928/60000 (75%)]\tLoss: 0.264464\n",
            "Train Epoch: 4 [49920/60000 (83%)]\tLoss: 0.304337\n",
            "Train Epoch: 4 [54912/60000 (91%)]\tLoss: 0.228922\n",
            "Train Epoch: 4 [44928/60000 (100%)]\tLoss: 0.306843\n",
            "\n",
            "Test set: Average loss: 0.3201, Accuracy: 8890/10000 (89%)\n",
            "\n",
            "Train Epoch: 5 [0/60000 (0%)]\tLoss: 0.181950\n",
            "Train Epoch: 5 [4992/60000 (8%)]\tLoss: 0.181883\n",
            "Train Epoch: 5 [9984/60000 (17%)]\tLoss: 0.299005\n",
            "Train Epoch: 5 [14976/60000 (25%)]\tLoss: 0.363465\n",
            "Train Epoch: 5 [19968/60000 (33%)]\tLoss: 0.401555\n",
            "Train Epoch: 5 [24960/60000 (42%)]\tLoss: 0.261161\n",
            "Train Epoch: 5 [29952/60000 (50%)]\tLoss: 0.213669\n",
            "Train Epoch: 5 [34944/60000 (58%)]\tLoss: 0.218093\n",
            "Train Epoch: 5 [39936/60000 (67%)]\tLoss: 0.320042\n",
            "Train Epoch: 5 [44928/60000 (75%)]\tLoss: 0.247856\n",
            "Train Epoch: 5 [49920/60000 (83%)]\tLoss: 0.362103\n",
            "Train Epoch: 5 [54912/60000 (91%)]\tLoss: 0.177148\n",
            "Train Epoch: 5 [44928/60000 (100%)]\tLoss: 0.312239\n",
            "\n",
            "Test set: Average loss: 0.3507, Accuracy: 8828/10000 (88%)\n",
            "\n"
          ]
        }
      ]
    },
    {
      "cell_type": "code",
      "source": [
        "# for epoch in range(1, args['epochs'] + 1):\n",
        "    test()"
      ],
      "metadata": {
        "id": "63yP1oKkdcN7"
      },
      "execution_count": null,
      "outputs": []
    }
  ]
}