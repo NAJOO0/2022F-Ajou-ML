{
  "cells": [
    {
      "cell_type": "markdown",
      "metadata": {
        "id": "view-in-github",
        "colab_type": "text"
      },
      "source": [
        "<a href=\"https://colab.research.google.com/github/NAJOO0/2022F-Ajou-ML/blob/main/HW3_ipynb%EC%9D%98_%EC%82%AC%EB%B3%B8.ipynb\" target=\"_parent\"><img src=\"https://colab.research.google.com/assets/colab-badge.svg\" alt=\"Open In Colab\"/></a>"
      ]
    },
    {
      "cell_type": "markdown",
      "metadata": {
        "id": "m1rbIpJvJD_m"
      },
      "source": [
        "# **HW3 :: Parameter Tuning and Classifcation**"
      ]
    },
    {
      "cell_type": "markdown",
      "metadata": {
        "id": "6c34x6aJI_kE"
      },
      "source": [
        "## 코랩과 구글 드라이브 연동 OR 로컬에서 파일 업로드\n",
        "- 해당 섹션 코드 수정 가능"
      ]
    },
    {
      "cell_type": "code",
      "execution_count": 1,
      "metadata": {
        "id": "PLXjmIbsJMlk"
      },
      "outputs": [],
      "source": [
        "# 연동 OR 파일 업로드\n",
        "# 연동 시 path 설정 주의"
      ]
    },
    {
      "cell_type": "code",
      "execution_count": 2,
      "metadata": {
        "colab": {
          "base_uri": "https://localhost:8080/"
        },
        "id": "4VXRY6hDJ60i",
        "outputId": "93710e15-d440-4cdf-9d06-836ac3740280"
      },
      "outputs": [
        {
          "output_type": "stream",
          "name": "stdout",
          "text": [
            "Mounted at /content/drive\n"
          ]
        }
      ],
      "source": [
        "from google.colab import drive\n",
        "drive.mount('/content/drive')"
      ]
    },
    {
      "cell_type": "markdown",
      "metadata": {
        "id": "HR6Kw9YhJV8A"
      },
      "source": [
        "## 데이터 불러오기"
      ]
    },
    {
      "cell_type": "code",
      "execution_count": 3,
      "metadata": {
        "id": "29BsCuUtKjKA"
      },
      "outputs": [],
      "source": [
        "import numpy as np\n",
        "import pandas as pd"
      ]
    },
    {
      "cell_type": "code",
      "execution_count": 4,
      "metadata": {
        "id": "e6BsnGgg4Zle"
      },
      "outputs": [],
      "source": [
        "df = pd.read_csv('airline_sampled2.csv') \n",
        "# HW1에서 사용한 데이터를 샘플링한 파일이므로 꼭 제공된 csv 파일을 사용할 것"
      ]
    },
    {
      "cell_type": "code",
      "execution_count": 5,
      "metadata": {
        "colab": {
          "base_uri": "https://localhost:8080/",
          "height": 314
        },
        "id": "XyXXUUUv4Zlf",
        "outputId": "5af49ad5-cf76-4efb-9987-4e379d60aa81"
      },
      "outputs": [
        {
          "output_type": "execute_result",
          "data": {
            "text/plain": [
              "   Unnamed: 0  Unnamed: 0.1  Gender  Customer Type  Age  Type of Travel  \\\n",
              "0        8827          8858       0              1   27               1   \n",
              "1        3588          3601       1              0   22               1   \n",
              "2        1011          1017       0              0   23               1   \n",
              "3        7212          7237       1              0   21               1   \n",
              "4        5025          5044       1              1   67               0   \n",
              "\n",
              "   Class  Flight Distance  Inflight wifi service  \\\n",
              "0      2              183                      4   \n",
              "1      0              829                      2   \n",
              "2      2             1020                      4   \n",
              "3      0             1028                      4   \n",
              "4      0              626                      3   \n",
              "\n",
              "   Departure/Arrival time convenient  ...  Inflight entertainment  \\\n",
              "0                                  4  ...                       5   \n",
              "1                                  3  ...                       1   \n",
              "2                                  5  ...                       4   \n",
              "3                                  4  ...                       3   \n",
              "4                                  4  ...                       2   \n",
              "\n",
              "   On-board service  Leg room service  Baggage handling  Checkin service  \\\n",
              "0                 4                 3                 4                3   \n",
              "1                 1                 3                 3                3   \n",
              "2                 3                 4                 5                3   \n",
              "3                 3                 3                 2                5   \n",
              "4                 2                 3                 2                5   \n",
              "\n",
              "   Inflight service  Cleanliness  Departure Delay in Minutes  \\\n",
              "0                 4            5                           0   \n",
              "1                 3            1                           4   \n",
              "2                 5            4                           0   \n",
              "3                 4            3                           0   \n",
              "4                 2            3                           0   \n",
              "\n",
              "   Arrival Delay in Minutes  satisfaction  \n",
              "0                       7.0             0  \n",
              "1                       4.0             0  \n",
              "2                       0.0             1  \n",
              "3                       0.0             1  \n",
              "4                       0.0             0  \n",
              "\n",
              "[5 rows x 25 columns]"
            ],
            "text/html": [
              "\n",
              "  <div id=\"df-fe66370a-3cee-43b7-85f0-6f4307f1071d\">\n",
              "    <div class=\"colab-df-container\">\n",
              "      <div>\n",
              "<style scoped>\n",
              "    .dataframe tbody tr th:only-of-type {\n",
              "        vertical-align: middle;\n",
              "    }\n",
              "\n",
              "    .dataframe tbody tr th {\n",
              "        vertical-align: top;\n",
              "    }\n",
              "\n",
              "    .dataframe thead th {\n",
              "        text-align: right;\n",
              "    }\n",
              "</style>\n",
              "<table border=\"1\" class=\"dataframe\">\n",
              "  <thead>\n",
              "    <tr style=\"text-align: right;\">\n",
              "      <th></th>\n",
              "      <th>Unnamed: 0</th>\n",
              "      <th>Unnamed: 0.1</th>\n",
              "      <th>Gender</th>\n",
              "      <th>Customer Type</th>\n",
              "      <th>Age</th>\n",
              "      <th>Type of Travel</th>\n",
              "      <th>Class</th>\n",
              "      <th>Flight Distance</th>\n",
              "      <th>Inflight wifi service</th>\n",
              "      <th>Departure/Arrival time convenient</th>\n",
              "      <th>...</th>\n",
              "      <th>Inflight entertainment</th>\n",
              "      <th>On-board service</th>\n",
              "      <th>Leg room service</th>\n",
              "      <th>Baggage handling</th>\n",
              "      <th>Checkin service</th>\n",
              "      <th>Inflight service</th>\n",
              "      <th>Cleanliness</th>\n",
              "      <th>Departure Delay in Minutes</th>\n",
              "      <th>Arrival Delay in Minutes</th>\n",
              "      <th>satisfaction</th>\n",
              "    </tr>\n",
              "  </thead>\n",
              "  <tbody>\n",
              "    <tr>\n",
              "      <th>0</th>\n",
              "      <td>8827</td>\n",
              "      <td>8858</td>\n",
              "      <td>0</td>\n",
              "      <td>1</td>\n",
              "      <td>27</td>\n",
              "      <td>1</td>\n",
              "      <td>2</td>\n",
              "      <td>183</td>\n",
              "      <td>4</td>\n",
              "      <td>4</td>\n",
              "      <td>...</td>\n",
              "      <td>5</td>\n",
              "      <td>4</td>\n",
              "      <td>3</td>\n",
              "      <td>4</td>\n",
              "      <td>3</td>\n",
              "      <td>4</td>\n",
              "      <td>5</td>\n",
              "      <td>0</td>\n",
              "      <td>7.0</td>\n",
              "      <td>0</td>\n",
              "    </tr>\n",
              "    <tr>\n",
              "      <th>1</th>\n",
              "      <td>3588</td>\n",
              "      <td>3601</td>\n",
              "      <td>1</td>\n",
              "      <td>0</td>\n",
              "      <td>22</td>\n",
              "      <td>1</td>\n",
              "      <td>0</td>\n",
              "      <td>829</td>\n",
              "      <td>2</td>\n",
              "      <td>3</td>\n",
              "      <td>...</td>\n",
              "      <td>1</td>\n",
              "      <td>1</td>\n",
              "      <td>3</td>\n",
              "      <td>3</td>\n",
              "      <td>3</td>\n",
              "      <td>3</td>\n",
              "      <td>1</td>\n",
              "      <td>4</td>\n",
              "      <td>4.0</td>\n",
              "      <td>0</td>\n",
              "    </tr>\n",
              "    <tr>\n",
              "      <th>2</th>\n",
              "      <td>1011</td>\n",
              "      <td>1017</td>\n",
              "      <td>0</td>\n",
              "      <td>0</td>\n",
              "      <td>23</td>\n",
              "      <td>1</td>\n",
              "      <td>2</td>\n",
              "      <td>1020</td>\n",
              "      <td>4</td>\n",
              "      <td>5</td>\n",
              "      <td>...</td>\n",
              "      <td>4</td>\n",
              "      <td>3</td>\n",
              "      <td>4</td>\n",
              "      <td>5</td>\n",
              "      <td>3</td>\n",
              "      <td>5</td>\n",
              "      <td>4</td>\n",
              "      <td>0</td>\n",
              "      <td>0.0</td>\n",
              "      <td>1</td>\n",
              "    </tr>\n",
              "    <tr>\n",
              "      <th>3</th>\n",
              "      <td>7212</td>\n",
              "      <td>7237</td>\n",
              "      <td>1</td>\n",
              "      <td>0</td>\n",
              "      <td>21</td>\n",
              "      <td>1</td>\n",
              "      <td>0</td>\n",
              "      <td>1028</td>\n",
              "      <td>4</td>\n",
              "      <td>4</td>\n",
              "      <td>...</td>\n",
              "      <td>3</td>\n",
              "      <td>3</td>\n",
              "      <td>3</td>\n",
              "      <td>2</td>\n",
              "      <td>5</td>\n",
              "      <td>4</td>\n",
              "      <td>3</td>\n",
              "      <td>0</td>\n",
              "      <td>0.0</td>\n",
              "      <td>1</td>\n",
              "    </tr>\n",
              "    <tr>\n",
              "      <th>4</th>\n",
              "      <td>5025</td>\n",
              "      <td>5044</td>\n",
              "      <td>1</td>\n",
              "      <td>1</td>\n",
              "      <td>67</td>\n",
              "      <td>0</td>\n",
              "      <td>0</td>\n",
              "      <td>626</td>\n",
              "      <td>3</td>\n",
              "      <td>4</td>\n",
              "      <td>...</td>\n",
              "      <td>2</td>\n",
              "      <td>2</td>\n",
              "      <td>3</td>\n",
              "      <td>2</td>\n",
              "      <td>5</td>\n",
              "      <td>2</td>\n",
              "      <td>3</td>\n",
              "      <td>0</td>\n",
              "      <td>0.0</td>\n",
              "      <td>0</td>\n",
              "    </tr>\n",
              "  </tbody>\n",
              "</table>\n",
              "<p>5 rows × 25 columns</p>\n",
              "</div>\n",
              "      <button class=\"colab-df-convert\" onclick=\"convertToInteractive('df-fe66370a-3cee-43b7-85f0-6f4307f1071d')\"\n",
              "              title=\"Convert this dataframe to an interactive table.\"\n",
              "              style=\"display:none;\">\n",
              "        \n",
              "  <svg xmlns=\"http://www.w3.org/2000/svg\" height=\"24px\"viewBox=\"0 0 24 24\"\n",
              "       width=\"24px\">\n",
              "    <path d=\"M0 0h24v24H0V0z\" fill=\"none\"/>\n",
              "    <path d=\"M18.56 5.44l.94 2.06.94-2.06 2.06-.94-2.06-.94-.94-2.06-.94 2.06-2.06.94zm-11 1L8.5 8.5l.94-2.06 2.06-.94-2.06-.94L8.5 2.5l-.94 2.06-2.06.94zm10 10l.94 2.06.94-2.06 2.06-.94-2.06-.94-.94-2.06-.94 2.06-2.06.94z\"/><path d=\"M17.41 7.96l-1.37-1.37c-.4-.4-.92-.59-1.43-.59-.52 0-1.04.2-1.43.59L10.3 9.45l-7.72 7.72c-.78.78-.78 2.05 0 2.83L4 21.41c.39.39.9.59 1.41.59.51 0 1.02-.2 1.41-.59l7.78-7.78 2.81-2.81c.8-.78.8-2.07 0-2.86zM5.41 20L4 18.59l7.72-7.72 1.47 1.35L5.41 20z\"/>\n",
              "  </svg>\n",
              "      </button>\n",
              "      \n",
              "  <style>\n",
              "    .colab-df-container {\n",
              "      display:flex;\n",
              "      flex-wrap:wrap;\n",
              "      gap: 12px;\n",
              "    }\n",
              "\n",
              "    .colab-df-convert {\n",
              "      background-color: #E8F0FE;\n",
              "      border: none;\n",
              "      border-radius: 50%;\n",
              "      cursor: pointer;\n",
              "      display: none;\n",
              "      fill: #1967D2;\n",
              "      height: 32px;\n",
              "      padding: 0 0 0 0;\n",
              "      width: 32px;\n",
              "    }\n",
              "\n",
              "    .colab-df-convert:hover {\n",
              "      background-color: #E2EBFA;\n",
              "      box-shadow: 0px 1px 2px rgba(60, 64, 67, 0.3), 0px 1px 3px 1px rgba(60, 64, 67, 0.15);\n",
              "      fill: #174EA6;\n",
              "    }\n",
              "\n",
              "    [theme=dark] .colab-df-convert {\n",
              "      background-color: #3B4455;\n",
              "      fill: #D2E3FC;\n",
              "    }\n",
              "\n",
              "    [theme=dark] .colab-df-convert:hover {\n",
              "      background-color: #434B5C;\n",
              "      box-shadow: 0px 1px 3px 1px rgba(0, 0, 0, 0.15);\n",
              "      filter: drop-shadow(0px 1px 2px rgba(0, 0, 0, 0.3));\n",
              "      fill: #FFFFFF;\n",
              "    }\n",
              "  </style>\n",
              "\n",
              "      <script>\n",
              "        const buttonEl =\n",
              "          document.querySelector('#df-fe66370a-3cee-43b7-85f0-6f4307f1071d button.colab-df-convert');\n",
              "        buttonEl.style.display =\n",
              "          google.colab.kernel.accessAllowed ? 'block' : 'none';\n",
              "\n",
              "        async function convertToInteractive(key) {\n",
              "          const element = document.querySelector('#df-fe66370a-3cee-43b7-85f0-6f4307f1071d');\n",
              "          const dataTable =\n",
              "            await google.colab.kernel.invokeFunction('convertToInteractive',\n",
              "                                                     [key], {});\n",
              "          if (!dataTable) return;\n",
              "\n",
              "          const docLinkHtml = 'Like what you see? Visit the ' +\n",
              "            '<a target=\"_blank\" href=https://colab.research.google.com/notebooks/data_table.ipynb>data table notebook</a>'\n",
              "            + ' to learn more about interactive tables.';\n",
              "          element.innerHTML = '';\n",
              "          dataTable['output_type'] = 'display_data';\n",
              "          await google.colab.output.renderOutput(dataTable, element);\n",
              "          const docLink = document.createElement('div');\n",
              "          docLink.innerHTML = docLinkHtml;\n",
              "          element.appendChild(docLink);\n",
              "        }\n",
              "      </script>\n",
              "    </div>\n",
              "  </div>\n",
              "  "
            ]
          },
          "metadata": {},
          "execution_count": 5
        }
      ],
      "source": [
        "df.head()"
      ]
    },
    {
      "cell_type": "markdown",
      "metadata": {
        "id": "fZDTxR6wKuPO"
      },
      "source": [
        "## 데이터 나누기"
      ]
    },
    {
      "cell_type": "markdown",
      "metadata": {
        "id": "h5enxbYKbAhW"
      },
      "source": [
        "### **주의 사항**\n",
        "train_test_split에 random seed를 사용하여 split set을 고정한다.\n",
        "- 모든 문제에 같은 random seed를 부여할 필요는 없다.\n"
      ]
    },
    {
      "cell_type": "code",
      "execution_count": 6,
      "metadata": {
        "colab": {
          "base_uri": "https://localhost:8080/"
        },
        "id": "V1zQHUKdKWFz",
        "outputId": "65b77538-ce85-43be-fce1-ef3b4c1ce0c7"
      },
      "outputs": [
        {
          "output_type": "stream",
          "name": "stdout",
          "text": [
            "X_train's shape :  (800, 24)\n",
            "y_train's shape :  (800,)\n",
            "\n",
            "X_val's shape :  (100, 24)\n",
            "y_val's shape :  (100,)\n",
            "\n",
            "X_test's shape :  (100, 24)\n",
            "y_test's shape :  (100,)\n"
          ]
        }
      ],
      "source": [
        "from sklearn.model_selection import train_test_split\n",
        "\n",
        "X = df.drop('satisfaction', axis=1)\n",
        "y = df['satisfaction']\n",
        "y=y.astype('int')\n",
        "  \n",
        "X_train, X_test, y_train, y_test = train_test_split(X, y, test_size=0.1,random_state=1)\n",
        "X_train, X_val, y_train, y_val = train_test_split(X_train, y_train, test_size=1/9,random_state=1)\n",
        "\n",
        "print(\"X_train's shape : \", X_train.shape)\n",
        "print(\"y_train's shape : \", y_train.shape)\n",
        "print(\"\\nX_val's shape : \", X_val.shape)\n",
        "print(\"y_val's shape : \", y_val.shape)\n",
        "print(\"\\nX_test's shape : \", X_test.shape)\n",
        "print(\"y_test's shape : \", y_test.shape)"
      ]
    },
    {
      "cell_type": "markdown",
      "metadata": {
        "id": "P5Gr-LZOLCSP"
      },
      "source": [
        "## 문제1 KNN\n",
        "\n",
        "\n",
        "\n",
        "- Scikit-learn 라이브러리를 이용하여 KNN의 최적의 파라미터를 찾는다.\n",
        "    - 최근접 이웃을 찾기 위한 거리의 종류로 최소한 두 가지 이상의 거리 척도를 사용한다.\n",
        "    - K값을 최소 3개 이상 비교한다.\n",
        "    - 거리 척도, k값에 따라 train, validation 정확도를 한 그래프로 그린다.(x축 k값, y축 정확도)\n",
        "    - 찾은 최적의 파라미터와 test set 이용하여 test_accuracy 계산하고 기입한다.\n",
        "    - 최적의 파라미터를 찾은 것에 대한 설명을 '텍스트 셀'에 작성한다.\n",
        "\n"
      ]
    },
    {
      "cell_type": "code",
      "execution_count": 7,
      "metadata": {
        "id": "vVbdK0ERLSq6"
      },
      "outputs": [],
      "source": [
        "from sklearn.neighbors import KNeighborsClassifier\n",
        "from sklearn import metrics\n",
        "import matplotlib.pyplot as plt"
      ]
    },
    {
      "cell_type": "code",
      "execution_count": 8,
      "metadata": {
        "colab": {
          "base_uri": "https://localhost:8080/",
          "height": 334
        },
        "id": "ME76ne9cdSMa",
        "outputId": "4068e402-29f3-4585-de8f-54828f9e5f07"
      },
      "outputs": [
        {
          "output_type": "display_data",
          "data": {
            "text/plain": [
              "<Figure size 432x288 with 1 Axes>"
            ],
            "image/png": "[encoded data removed]"
          },
          "metadata": {
            "needs_background": "light"
          }
        },
        {
          "output_type": "stream",
          "name": "stdout",
          "text": [
            "0.63 0.66\n",
            "6 0.66\n",
            "0.68\n"
          ]
        }
      ],
      "source": [
        "### 문제 1 ###\n",
        "euclidean_acc =[] ## 거리 척도별로 결고 값을 저장\n",
        "manhattan_acc =[]\n",
        "k_range = range(1,20)\n",
        "for i in k_range:\n",
        "    knn_euclidean = KNeighborsClassifier(n_neighbors=i,weights=\"uniform\",metric=\"euclidean\") ##거리 척도 별로 classifier를 만듦\n",
        "    knn_euclidean.fit(X_train,y_train);\n",
        "    knn_manhattan = KNeighborsClassifier(n_neighbors=i,weights=\"uniform\",metric=\"manhattan\")\n",
        "    knn_manhattan.fit(X_train,y_train)\n",
        "    euclidean_acc.append(knn_euclidean.score(X_val,y_val))\n",
        "    manhattan_acc.append(knn_manhattan.score(X_val,y_val))\n",
        "\n",
        "plt.figure()\n",
        "plt.plot(k_range,euclidean_acc,label=\"euclidean_acc\")\n",
        "plt.plot(k_range,manhattan_acc,label=\"manhattan_acc\")\n",
        "plt.legend()\n",
        "plt.xlabel(\"K\")\n",
        "plt.ylabel(\"acc\")\n",
        "plt.show()\n",
        "\n",
        "euclidean_max = max(euclidean_acc)\n",
        "manhattan_max = max(manhattan_acc)\n",
        "print(euclidean_max,manhattan_max)\n",
        "if euclidean_max>manhattan_max:\n",
        "    index_k = euclidean_acc.index(euclidean_max) \n",
        "    knn = KNeighborsClassifier(n_neighbors=index_k+1,weights=\"uniform\",metric=\"euclidean\")\n",
        "    print(index_k,euclidean_acc[index_k])\n",
        "\n",
        "\n",
        "else :\n",
        "    index_k = manhattan_acc.index(manhattan_max) \n",
        "    knn = KNeighborsClassifier(n_neighbors=index_k+1,weights=\"uniform\",metric=\"manhattan\")\n",
        "    print(index_k,manhattan_acc[index_k])\n",
        "\n",
        "X_train_2 = pd.concat([X_train,X_val])\n",
        "y_train_2 = pd.concat([y_train,y_val])\n",
        "knn.fit(X_train_2,y_train_2)\n",
        "print(knn.score(X_test,y_test))\n",
        "### 코드 작성 ###"
      ]
    },
    {
      "cell_type": "markdown",
      "metadata": {
        "id": "8-BMEqCFdfsR"
      },
      "source": [
        "**설명 작성**  \n",
        "- 최적의 파라미터:\n",
        "- 설명:"
      ]
    },
    {
      "cell_type": "markdown",
      "metadata": {
        "id": "mZkD2D1i4Zli"
      },
      "source": [
        "---"
      ]
    },
    {
      "cell_type": "markdown",
      "metadata": {
        "id": "7OMvtg924Zli"
      },
      "source": [
        "## 문제2 Random Forest\n",
        "\n",
        "\n",
        "- Scikit-learn 라이브러리를 이용하여 Random Forest의 최적의 파라미터를 찾는다.\n",
        "    - Criterion 중 최소 두개를 비교한다.\n",
        "    - 최적의 파라미터 max depth 값을 찾는다.\n",
        "    - 파라미터에 따라 train, validation 정확도를 한 그래프로 그린다.(x축 max depth 값, y축 정확도)\n",
        "    - 찾은 최적의 파라미터와 test set을 이용하여 test accuracy를 계산하고 기입한다.\n",
        "    - 최적의 파라미터를 찾은 것에 대한 설명을 '텍스트 셀'에 작성한다."
      ]
    },
    {
      "cell_type": "code",
      "execution_count": 9,
      "metadata": {
        "id": "IttBH6C94Zli"
      },
      "outputs": [],
      "source": [
        "from sklearn.ensemble import RandomForestClassifier"
      ]
    },
    {
      "cell_type": "code",
      "execution_count": 10,
      "metadata": {
        "colab": {
          "base_uri": "https://localhost:8080/",
          "height": 334
        },
        "id": "C153cWxK4Zli",
        "outputId": "354e9e22-122a-454c-cfe6-53ee7eaaf6f0"
      },
      "outputs": [
        {
          "output_type": "display_data",
          "data": {
            "text/plain": [
              "<Figure size 432x288 with 1 Axes>"
            ],
            "image/png": "[encoded data removed]"
          },
          "metadata": {
            "needs_background": "light"
          }
        },
        {
          "output_type": "stream",
          "name": "stdout",
          "text": [
            "0.92 0.92\n",
            "11 0.92\n",
            "0.94\n"
          ]
        }
      ],
      "source": [
        "### 문제 2 ###\n",
        "randomF_gini_acc = []\n",
        "randomF_entropy_acc = []\n",
        "depth_range=range(1,20)\n",
        "for i in depth_range:\n",
        "    randomF_gini = RandomForestClassifier(max_depth=i,criterion=\"gini\")\n",
        "    randomF_entropy = RandomForestClassifier(max_depth=i,criterion=\"entropy\")\n",
        "    randomF_gini.fit(X_train,y_train)\n",
        "    randomF_entropy.fit(X_train,y_train)\n",
        "    randomF_gini_acc.append(randomF_gini.score(X_val,y_val))\n",
        "    randomF_entropy_acc.append(randomF_entropy.score(X_val,y_val))\n",
        "\n",
        "plt.figure()\n",
        "plt.plot(depth_range,randomF_gini_acc,label=\"randomForent_gini\")\n",
        "plt.plot(depth_range,randomF_entropy_acc,label=\"randomForent_entropy\")\n",
        "plt.legend()\n",
        "plt.xlabel(\"max depth\")\n",
        "plt.ylabel(\"acc\")\n",
        "plt.show()\n",
        "\n",
        "randomF_gini_max = max(randomF_gini_acc)\n",
        "randomF_entropy_max = max(randomF_entropy_acc)\n",
        "print(randomF_gini_max,randomF_entropy_max)\n",
        "\n",
        "if randomF_gini_max > randomF_entropy_max :\n",
        "    depth = randomF_gini_acc.index(randomF_gini_max) +1\n",
        "    randomF = RandomForestClassifier(max_depth=depth,criterion=\"gini\")\n",
        "    print(depth,randomF_gini_acc[depth-1])\n",
        "else:\n",
        "    depth = randomF_entropy_acc.index(randomF_entropy_max) +1\n",
        "    randomF = RandomForestClassifier(max_depth=depth,criterion=\"entropy\")\n",
        "    print(depth,randomF_entropy_acc[depth-1])\n",
        "\n",
        "X_train_2 = pd.concat([X_train,X_val])\n",
        "y_train_2 = pd.concat([y_train,y_val])\n",
        "randomF.fit(X_train_2,y_train_2)\n",
        "print(randomF.score(X_test,y_test))\n",
        "\n",
        "### 코드 작성 ###"
      ]
    },
    {
      "cell_type": "markdown",
      "metadata": {
        "id": "s4r40Dbu4Zli"
      },
      "source": [
        "**설명 작성**  \n",
        "- 최적의 파라미터:\n",
        "- 설명:"
      ]
    },
    {
      "cell_type": "markdown",
      "metadata": {
        "id": "KvjjbqDB4Zli"
      },
      "source": [
        "---"
      ]
    },
    {
      "cell_type": "markdown",
      "metadata": {
        "id": "cl1b3f3AaZUw"
      },
      "source": [
        "## 문제3 Cross validation with Linear SVM\n",
        "### 3-1: k-fold\n",
        "- 수업시간에 배운 **5-fold** 를 이용하여 최적의 파라미터를 찾는다. (데이터는 동일)\n",
        "- 수업시간에 배운 linear SVM 모델의 파라미터 C를 cross-validation을 바탕으로 최적화한다.\n",
        "    - **5-fold CV를 할 때, test data를 제외한 90%의 데이터를 사용해야한다.**\n",
        "    - 파라미터에 따라 K-fold CV를 통해 나온 평균 정확도와 각 fold의 정확도들을 한 그래프로 그린다.(x축 선택한 파라미터, y축 정확도)\n",
        "    - 찾은 최적의 파라미터와 test set을 이용하여 test accuracy를 계산하고 기입한다.\n",
        "    - 최적의 파라미터를 찾은 것에 대한 설명을 '텍스트 셀'에 작성한다.\n",
        "\n",
        "### 3-2: Leave One Out\n",
        "- 수업시간에 배운 Leave-One-Out 를 이용하여 최적의 파라미터를 찾는다. (데이터는 동일)\n",
        "- 수업시간에 배운 linear SVM 모델의 파라미터 C를 cross-validation을 바탕으로 최적화한다.\n",
        "  - **Leave-One-Out CV를 할 때, test data를 제외한 90%의 데이터를 사용해야한다.**\n",
        "  - 파라미터에 따라 Leave-One-Out CV를 통해 나온 평균 정확도를 그래프로 그린다.(x축 선택한 파라미터, y축 정확도)\n",
        "  - 찾은 최적의 파라미터와 test set을 이용하여 test accuracy를 계산하고 기입한다.\n",
        "  - 최적의 파라미터를 찾은 것에 대한 설명을 '텍스트 셀'에 작성한다."
      ]
    },
    {
      "cell_type": "code",
      "execution_count": 11,
      "metadata": {
        "colab": {
          "base_uri": "https://localhost:8080/",
          "height": 321
        },
        "id": "fYNny36efEF3",
        "outputId": "35be72cb-cd42-49bd-c30e-9bb6a1f2f9ce"
      },
      "outputs": [
        {
          "output_type": "display_data",
          "data": {
            "text/plain": [
              "<Figure size 432x288 with 1 Axes>"
            ],
            "image/png": "[encoded data removed]"
          },
          "metadata": {
            "needs_background": "light"
          }
        },
        {
          "output_type": "stream",
          "name": "stdout",
          "text": [
            "[0.8333333333333334, 0.86, 0.8588888888888888, 0.8577777777777778, 0.8555555555555555]\n",
            "0.85\n",
            "0.1\n"
          ]
        }
      ],
      "source": [
        "### 문제 3-1 ###\n",
        "import sklearn.svm as svm\n",
        "from sklearn.model_selection import cross_val_score, cross_validate\n",
        "from sklearn.preprocessing import StandardScaler #0.85, 0.01, 0.84 0.1 83s\n",
        "from sklearn.preprocessing import Normalizer    #쓰레기 \n",
        "from sklearn.preprocessing import MinMaxScaler #0.85,0.1,0.85 56s\n",
        "from sklearn.preprocessing import MaxAbsScaler #0.85, 5, 0.85, 0.1, 56s\n",
        "from sklearn.preprocessing import RobustScaler #0.84, 1, 0.84 1 91s\n",
        "scaler = MinMaxScaler()\n",
        "scaler.fit(X)\n",
        "X_scaled = scaler.transform(X)\n",
        "X_train, X_test, y_train, y_test = train_test_split(X_scaled, y, test_size=0.1,random_state=1)\n",
        "\n",
        "C_acc = []\n",
        "\n",
        "C_range_denote = [0.01,0.1,1,5,15]\n",
        "C_range = [1,2,3,4,5]\n",
        "plt.figure()\n",
        "scores_fold1 = []\n",
        "scores_fold2 = []\n",
        "scores_fold3 = []\n",
        "scores_fold4 = []\n",
        "scores_fold5 = []\n",
        "for c in C_range_denote:\n",
        "    svm_clf =svm.SVC(kernel = 'linear', random_state=1,C=c)\n",
        "    scores = cross_val_score(svm_clf, X_train, y_train, cv = 5)\n",
        "    scores_fold1.append(scores[0])\n",
        "    scores_fold2.append(scores[1])\n",
        "    scores_fold3.append(scores[2])\n",
        "    scores_fold4.append(scores[3])\n",
        "    scores_fold5.append(scores[4])\n",
        "    C_acc.append(scores.mean())\n",
        "\n",
        "plt.plot(C_range,C_acc,label=\"avg acc\")\n",
        "plt.plot(C_range,scores_fold1,label=\"fold1\")\n",
        "plt.plot(C_range,scores_fold2,label=\"fold2\")\n",
        "plt.plot(C_range,scores_fold3,label=\"fold3\")\n",
        "plt.plot(C_range,scores_fold4,label=\"fold4\")\n",
        "plt.plot(C_range,scores_fold5,label=\"fold5\")\n",
        "plt.legend()\n",
        "plt.xticks(C_range,labels=C_range_denote)\n",
        "plt.tick_params(length=3)\n",
        "plt.show()\n",
        "print(C_acc)\n",
        "optimal_C = C_range_denote[C_acc.index(max(C_acc))]\n",
        "svm_clf =svm.SVC(kernel = 'linear', random_state=1,C=optimal_C)\n",
        "svm_clf.fit(X_train,y_train)\n",
        "print(svm_clf.score(X_test,y_test))\n",
        "print(optimal_C)\n",
        "### 코드 작성 ###"
      ]
    },
    {
      "cell_type": "markdown",
      "metadata": {
        "id": "2xvEdCHAfH0g"
      },
      "source": [
        "**설명 작성**  \n",
        "- 최적의 파라미터:\n",
        "- 설명:"
      ]
    },
    {
      "cell_type": "code",
      "execution_count": 12,
      "metadata": {
        "id": "80a5iRmvfG6H",
        "colab": {
          "base_uri": "https://localhost:8080/",
          "height": 334
        },
        "outputId": "a4a32fc2-4578-4a5f-e1cf-789119e54c19"
      },
      "outputs": [
        {
          "output_type": "display_data",
          "data": {
            "text/plain": [
              "<Figure size 432x288 with 1 Axes>"
            ],
            "image/png": "[encoded data removed]"
          },
          "metadata": {
            "needs_background": "light"
          }
        },
        {
          "output_type": "stream",
          "name": "stdout",
          "text": [
            "[0.8366666666666667, 0.86, 0.8566666666666667]\n",
            "0.85\n",
            "0.1\n"
          ]
        }
      ],
      "source": [
        "### 문제 3-2 ###\n",
        "from sklearn.model_selection import LeaveOneOut\n",
        "C_acc_loocv = []\n",
        "loocv = LeaveOneOut()\n",
        "C_range = [0.01,0.1,1]\n",
        "plt.figure()\n",
        "for c in C_range:\n",
        "    svm_clf =svm.SVC(kernel = 'linear', random_state=1,C=c)\n",
        "    scores = cross_val_score(svm_clf, X_train, y_train, cv = loocv)\n",
        "    C_acc_loocv.append(scores.mean())\n",
        "\n",
        "plt.plot([1,2,3],C_acc_loocv,label=\"avg acc\")\n",
        "plt.xticks([1,2,3],labels=C_range)\n",
        "plt.legend()\n",
        "plt.xlabel(\"C\")\n",
        "plt.ylabel(\"acc\")\n",
        "plt.show()\n",
        "print(C_acc_loocv)\n",
        "optimal_C = C_range[C_acc_loocv.index(max(C_acc_loocv))]\n",
        "svm_clf =svm.SVC(kernel = 'linear', random_state=1,C=optimal_C)\n",
        "svm_clf.fit(X_train,y_train)\n",
        "print(svm_clf.score(X_test,y_test))\n",
        "print(optimal_C)\n",
        "### 코드 작성 ###"
      ]
    },
    {
      "cell_type": "code",
      "source": [
        "print(optimal_C)\n",
        "svm1 = svm.SVC(kernel='linear',C=0.1)\n",
        "svm2 = svm.SVC(kernel='linear',C=0.01)\n",
        "svm3 = svm.SVC(kernel='linear',C=100)\n",
        "svm4 = svm.SVC(kernel='linear',C=1)\n",
        "svm1.fit(X_train,y_train)\n",
        "print(svm1.score(X_test,y_test))\n",
        "svm2.fit(X_train,y_train)\n",
        "print(svm2.score(X_test,y_test))\n",
        "svm3.fit(X_train,y_train)\n",
        "print(svm3.score(X_test,y_test))\n",
        "svm4.fit(X_train,y_train)\n",
        "print(svm4.score(X_test,y_test))"
      ],
      "metadata": {
        "colab": {
          "base_uri": "https://localhost:8080/"
        },
        "id": "Ys4biQiUvIfo",
        "outputId": "d513bd99-af8d-4a3a-ff10-8a1082ce116f"
      },
      "execution_count": 13,
      "outputs": [
        {
          "output_type": "stream",
          "name": "stdout",
          "text": [
            "0.1\n",
            "0.85\n",
            "0.85\n",
            "0.85\n",
            "0.84\n"
          ]
        }
      ]
    },
    {
      "cell_type": "markdown",
      "metadata": {
        "id": "m9BqByTFfLIG"
      },
      "source": [
        "**설명 작성**  \n",
        "- 최적의 파라미터:\n",
        "- 설명:"
      ]
    },
    {
      "cell_type": "markdown",
      "metadata": {
        "id": "qUzl5Lcz4Zlj"
      },
      "source": [
        "---"
      ]
    },
    {
      "cell_type": "markdown",
      "metadata": {
        "id": "szX5GgcXfnM1"
      },
      "source": [
        "## 문제4 Regression\n",
        "문제 4 에서는 캘리포니아 주택 가격 데이터셋을 사용합니다.   \n",
        "학습을 통해 주택 가격을 예측하는 문제입니다.  \n",
        "데이터에 대한 자세한 설명은 아래 코드의 description을 참고해주세요."
      ]
    },
    {
      "cell_type": "code",
      "execution_count": 14,
      "metadata": {
        "colab": {
          "base_uri": "https://localhost:8080/"
        },
        "id": "Gwwkd_GO4Zlj",
        "outputId": "ded4f054-51b8-4c65-d8e7-0c095e5229d5"
      },
      "outputs": [
        {
          "output_type": "stream",
          "name": "stdout",
          "text": [
            ".. _california_housing_dataset:\n",
            "\n",
            "California Housing dataset\n",
            "--------------------------\n",
            "\n",
            "**Data Set Characteristics:**\n",
            "\n",
            "    :Number of Instances: 20640\n",
            "\n",
            "    :Number of Attributes: 8 numeric, predictive attributes and the target\n",
            "\n",
            "    :Attribute Information:\n",
            "        - MedInc        median income in block group\n",
            "        - HouseAge      median house age in block group\n",
            "        - AveRooms      average number of rooms per household\n",
            "        - AveBedrms     average number of bedrooms per household\n",
            "        - Population    block group population\n",
            "        - AveOccup      average number of household members\n",
            "        - Latitude      block group latitude\n",
            "        - Longitude     block group longitude\n",
            "\n",
            "    :Missing Attribute Values: None\n",
            "\n",
            "This dataset was obtained from the StatLib repository.\n",
            "https://www.dcc.fc.up.pt/~ltorgo/Regression/cal_housing.html\n",
            "\n",
            "The target variable is the median house value for California districts,\n",
            "expressed in hundreds of thousands of dollars ($100,000).\n",
            "\n",
            "This dataset was derived from the 1990 U.S. census, using one row per census\n",
            "block group. A block group is the smallest geographical unit for which the U.S.\n",
            "Census Bureau publishes sample data (a block group typically has a population\n",
            "of 600 to 3,000 people).\n",
            "\n",
            "An household is a group of people residing within a home. Since the average\n",
            "number of rooms and bedrooms in this dataset are provided per household, these\n",
            "columns may take surpinsingly large values for block groups with few households\n",
            "and many empty houses, such as vacation resorts.\n",
            "\n",
            "It can be downloaded/loaded using the\n",
            ":func:`sklearn.datasets.fetch_california_housing` function.\n",
            "\n",
            ".. topic:: References\n",
            "\n",
            "    - Pace, R. Kelley and Ronald Barry, Sparse Spatial Autoregressions,\n",
            "      Statistics and Probability Letters, 33 (1997) 291-297\n",
            "\n"
          ]
        }
      ],
      "source": [
        "from sklearn.datasets import fetch_california_housing\n",
        "housing = fetch_california_housing()\n",
        "print(housing.DESCR)"
      ]
    },
    {
      "cell_type": "code",
      "execution_count": 15,
      "metadata": {
        "id": "beqDbNzQi0PR"
      },
      "outputs": [],
      "source": [
        "df = pd.DataFrame(housing.data, columns=housing.feature_names)\n",
        "df['target'] = housing.target"
      ]
    },
    {
      "cell_type": "code",
      "execution_count": 16,
      "metadata": {
        "colab": {
          "base_uri": "https://localhost:8080/"
        },
        "id": "Y-4fgqWCkd-o",
        "outputId": "be380667-e838-4198-b383-7b9d2d1c1128"
      },
      "outputs": [
        {
          "output_type": "stream",
          "name": "stdout",
          "text": [
            "   MedInc  HouseAge  AveRooms  AveBedrms  Population  AveOccup  Latitude  \\\n",
            "0  8.3252      41.0  6.984127   1.023810       322.0  2.555556     37.88   \n",
            "1  8.3014      21.0  6.238137   0.971880      2401.0  2.109842     37.86   \n",
            "2  7.2574      52.0  8.288136   1.073446       496.0  2.802260     37.85   \n",
            "3  5.6431      52.0  5.817352   1.073059       558.0  2.547945     37.85   \n",
            "4  3.8462      52.0  6.281853   1.081081       565.0  2.181467     37.85   \n",
            "\n",
            "   Longitude  target  \n",
            "0    -122.23   4.526  \n",
            "1    -122.22   3.585  \n",
            "2    -122.24   3.521  \n",
            "3    -122.25   3.413  \n",
            "4    -122.25   3.422  \n"
          ]
        }
      ],
      "source": [
        "print(df.head())"
      ]
    },
    {
      "cell_type": "code",
      "execution_count": 17,
      "metadata": {
        "colab": {
          "base_uri": "https://localhost:8080/"
        },
        "id": "zoUn3ZXdkimJ",
        "outputId": "c96028ac-7e02-4b71-d159-9e336d747587"
      },
      "outputs": [
        {
          "output_type": "stream",
          "name": "stdout",
          "text": [
            "(20640, 9)\n",
            "             MedInc      HouseAge      AveRooms     AveBedrms    Population  \\\n",
            "count  20640.000000  20640.000000  20640.000000  20640.000000  20640.000000   \n",
            "mean       3.870671     28.639486      5.429000      1.096675   1425.476744   \n",
            "std        1.899822     12.585558      2.474173      0.473911   1132.462122   \n",
            "min        0.499900      1.000000      0.846154      0.333333      3.000000   \n",
            "25%        2.563400     18.000000      4.440716      1.006079    787.000000   \n",
            "50%        3.534800     29.000000      5.229129      1.048780   1166.000000   \n",
            "75%        4.743250     37.000000      6.052381      1.099526   1725.000000   \n",
            "max       15.000100     52.000000    141.909091     34.066667  35682.000000   \n",
            "\n",
            "           AveOccup      Latitude     Longitude        target  \n",
            "count  20640.000000  20640.000000  20640.000000  20640.000000  \n",
            "mean       3.070655     35.631861   -119.569704      2.068558  \n",
            "std       10.386050      2.135952      2.003532      1.153956  \n",
            "min        0.692308     32.540000   -124.350000      0.149990  \n",
            "25%        2.429741     33.930000   -121.800000      1.196000  \n",
            "50%        2.818116     34.260000   -118.490000      1.797000  \n",
            "75%        3.282261     37.710000   -118.010000      2.647250  \n",
            "max     1243.333333     41.950000   -114.310000      5.000010  \n"
          ]
        }
      ],
      "source": [
        "print(df.shape) #(20640, 9)\n",
        "print(df.describe())"
      ]
    },
    {
      "cell_type": "markdown",
      "metadata": {
        "id": "3U8somVc4Zlk"
      },
      "source": [
        "### 문제 4-1 : Adjusted R2 Score\n",
        "- sklearn.metrics 패키지를 사용하여 ```def adjr2```에 Adjusted R2 Score를 구하는 함수를 작성한다.\n",
        "- ```def r2```를 사용하여 ```adjr2```를 구현한다.\n",
        "- 코드 작성 영역 이외의 코드를 수정하지 않는다.\n",
        "- 주어진 함수 파라미터를 사용하여 구현한다."
      ]
    },
    {
      "cell_type": "code",
      "execution_count": 18,
      "metadata": {
        "id": "JbGUADBK4Zlk"
      },
      "outputs": [],
      "source": [
        "from sklearn.metrics import r2_score"
      ]
    },
    {
      "cell_type": "code",
      "execution_count": 19,
      "metadata": {
        "id": "WvqWUQl24Zlk"
      },
      "outputs": [],
      "source": [
        "import numpy as np\n",
        "\n",
        "def r2(actual, predicted):\n",
        "    \"\"\" R2 Score \"\"\"\n",
        "    return r2_score(actual, predicted)\n",
        "\n",
        "###################################\n",
        "def adjr2(actual, predicted, rowcount, featurecount):\n",
        "############ 문제 4-1 ##############\n",
        "    \"\"\" Adjusted R2 Score \"\"\"\n",
        "    return(1-(1-r2(actual,predicted))*(rowcount-1)/(rowcount-featurecount-1))\n",
        "####################################\n",
        "####################################"
      ]
    },
    {
      "cell_type": "markdown",
      "metadata": {
        "id": "P-6ZikyP4Zlk"
      },
      "source": [
        "### 문제 4-2 : Feature Selection\n",
        "- sklearn 패키지를 사용하여 feature selection을 수행하는 함수 ```forward_selection```을 구현한다.\n",
        "- Linear Regressor 을 사용하여 feature selection이 어떻게 달라지는 지 관찰한다.\n",
        "- 코드 작성 영역 이외의 코드를 수정하지 않는다.\n",
        "- 주어진 변수들, 자료들을 최대한 활용하여 코드를 작성한다."
      ]
    },
    {
      "cell_type": "code",
      "execution_count": 20,
      "metadata": {
        "id": "WjqDsXSA4Zlk"
      },
      "outputs": [],
      "source": [
        "from sklearn.linear_model import LinearRegression\n",
        "import pandas as pd"
      ]
    },
    {
      "cell_type": "code",
      "execution_count": 21,
      "metadata": {
        "colab": {
          "base_uri": "https://localhost:8080/"
        },
        "id": "oUf_G0iF4Zlk",
        "outputId": "b8124d94-4c4c-4c33-b36f-03b0642bf3a2"
      },
      "outputs": [
        {
          "output_type": "stream",
          "name": "stdout",
          "text": [
            "(20640, 8)\n",
            "(20640,)\n"
          ]
        }
      ],
      "source": [
        "X = df.drop(columns=['target'])\n",
        "y = df['target']\n",
        "y=y.astype('int')\n",
        "print(X.shape)\n",
        "print(y.shape)"
      ]
    },
    {
      "cell_type": "code",
      "source": [
        "len(X)"
      ],
      "metadata": {
        "colab": {
          "base_uri": "https://localhost:8080/"
        },
        "id": "h3KvcjMehNYr",
        "outputId": "b697f2f6-81bb-49d0-9a54-7aa6c7b68570"
      },
      "execution_count": 22,
      "outputs": [
        {
          "output_type": "execute_result",
          "data": {
            "text/plain": [
              "20640"
            ]
          },
          "metadata": {},
          "execution_count": 22
        }
      ]
    },
    {
      "cell_type": "code",
      "execution_count": 23,
      "metadata": {
        "colab": {
          "base_uri": "https://localhost:8080/"
        },
        "collapsed": true,
        "id": "tAQiA64x4Zlk",
        "outputId": "b423d388-a502-4bfd-9d71-8b8dbf0a6951"
      },
      "outputs": [
        {
          "output_type": "stream",
          "name": "stdout",
          "text": [
            "selected_features: MedInc\n"
          ]
        }
      ],
      "source": [
        "def forward_selection(X, y): # X: train data, y: train data's target\n",
        "    initial_list = []\n",
        "    included = list(initial_list) # 포함되어야 하는 feature\n",
        "    best_r2 = 0 # 가장 높은 r2 score를 저장\n",
        "\n",
        "    while True:\n",
        "\n",
        "        changed = False # while 문을 빠져나가는 조건으로 활용\n",
        "        excluded = list(set(X.columns)-set(included)) # included list에 없는 column names 저장하는 리스트\n",
        "        new_scores = dict.fromkeys(excluded)\n",
        "\n",
        "        for new_column in excluded:\n",
        "            \n",
        "            model = LinearRegression()\n",
        "\n",
        "            ###########################################\n",
        "            ###### 코드 작성 영역 외 수정 하지 말 것 #########\n",
        "            ################ 문제 4-2 ##################\n",
        "            model.fit(X[new_column].values.reshape(-1,1),y)\n",
        "            adjr2_score= adjr2(y,model.predict(X[new_column].values.reshape(-1,1)),len(X),1)\n",
        "            if adjr2_score>best_r2:\n",
        "                best_r2=adjr2_score\n",
        "                included = new_column #가장 큰 r2값을 가지는 column을 저장\n",
        "                changed = True\n",
        "            new_scores[new_column]=adjr2_score\n",
        "        if changed:\n",
        "            break\n",
        "        ##############################################\n",
        "        ##############################################\n",
        "\n",
        "    return included\n",
        "\n",
        "selected_features = forward_selection(X, y)\n",
        "print('selected_features:', selected_features)"
      ]
    },
    {
      "cell_type": "markdown",
      "metadata": {
        "id": "0OGUhsrgEwR_"
      },
      "source": [
        "### 문제 4-3: Regularized Model\n",
        "- Scikit-learn 라이브러리를 사용하여 Ridge Regression과 Lasso Regression 모델을 만든다.\n",
        "- train : validation : test **데이터셋의 비율을 8:1:1**로 설정한다.\n",
        "- 문제 4-1의 **forward selection을 통해 얻은 feature만**을 가진 데이터를 사용한다.\n",
        "- 다양한 alpha 값에 대해 validation dataset을 사용하여 각 모델에 대한 **최적의 alpha 값을 찾고 찾은 최적의 alpha 값을 텍스트 셀에 작성**한다.\n",
        "- alpha 값은 아래의 리스트를 사용한다.  \n",
        "```alpha = [0.0001, 0.001,0.01,0.1,1,10, 100, 1000, 10000, 100000]```\n",
        "- alpha 값에 대한 R2 score의 변화를 그래프로 나타낸다.\n",
        "  * **x축: alpha 값**\n",
        "  * **y축: R2 score 값**\n",
        "  * 파란색 선: Ridge 결과, 빨간색 선: Lasso 결과\n",
        "  * 그래프에 **legend**가 포함되어 있어야 한다. \n",
        "- **train과 validation dataset을 합하여 train set을 만든 후 최종 학습 결과를 도출**한다.\n",
        "  * 최적의 alpha 값을 찾을 때 사용한 test set은 변하지 않는다. \n",
        "  * r2 score를 사용하여 train set에 대한 prediction 결과와 test set에 대한 prediction 결과를 구해 print 한다."
      ]
    },
    {
      "cell_type": "code",
      "execution_count": 24,
      "metadata": {
        "id": "NEx72fQh4Zll"
      },
      "outputs": [],
      "source": [
        "from sklearn.linear_model import LinearRegression, Ridge, Lasso\n",
        "from sklearn.metrics import r2_score\n",
        "import numpy as np"
      ]
    },
    {
      "cell_type": "code",
      "source": [
        "y"
      ],
      "metadata": {
        "colab": {
          "base_uri": "https://localhost:8080/"
        },
        "id": "tqHvXfz4qWfX",
        "outputId": "ff633781-4c05-44cc-c5ab-bb8f785bb515"
      },
      "execution_count": 25,
      "outputs": [
        {
          "output_type": "execute_result",
          "data": {
            "text/plain": [
              "0        4\n",
              "1        3\n",
              "2        3\n",
              "3        3\n",
              "4        3\n",
              "        ..\n",
              "20635    0\n",
              "20636    0\n",
              "20637    0\n",
              "20638    0\n",
              "20639    0\n",
              "Name: target, Length: 20640, dtype: int64"
            ]
          },
          "metadata": {},
          "execution_count": 25
        }
      ]
    },
    {
      "cell_type": "code",
      "execution_count": 47,
      "metadata": {
        "id": "2ZJbj9r2Z4LP",
        "colab": {
          "base_uri": "https://localhost:8080/"
        },
        "outputId": "5ec54e18-1965-4edb-bb5a-e1beb0bfe166"
      },
      "outputs": [
        {
          "output_type": "stream",
          "name": "stdout",
          "text": [
            "0.0001 0.0001 MedInc\n"
          ]
        }
      ],
      "source": [
        "### 문제 4-3 ###\n",
        "alpha = [0.0001, 0.001,0.01,0.1,1,10, 100, 1000, 10000, 100000]\n",
        "X_train, X_test, y_train, y_test = train_test_split(X, y, test_size=0.1,random_state=50)\n",
        "X_train, X_val, y_train, y_val = train_test_split(X_train, y_train, test_size=1/9,random_state=50)\n",
        "ridge_score=[]\n",
        "lasso_score=[]\n",
        "for a in alpha:\n",
        "    rid = Ridge(alpha=a)\n",
        "    rid.fit(X_train[selected_features].values.reshape(-1,1),y_train)\n",
        "    adjr2_score= adjr2(y_val,rid.predict(X_val[selected_features].values.reshape(-1,1)),len(X_val),1)\n",
        "    ridge_score.append(adjr2_score)\n",
        "    lasso = Lasso(alpha=a)\n",
        "    lasso.fit(X_train[selected_features].values.reshape(-1,1),y_train)\n",
        "    adjr2_score= adjr2(y_val,lasso.predict(X_val[selected_features].values.reshape(-1,1)),len(X_val),1)\n",
        "    lasso_score.append(adjr2_score)\n",
        "ridge_optimal_alpha = alpha[ridge_score.index(max(ridge_score))]\n",
        "lasso_optimal_alpha = alpha[lasso_score.index(max(lasso_score))]\n",
        "print(ridge_optimal_alpha,lasso_optimal_alpha,selected_features)\n",
        "### 코드 작성 ###"
      ]
    },
    {
      "cell_type": "code",
      "source": [
        "ridge_score"
      ],
      "metadata": {
        "colab": {
          "base_uri": "https://localhost:8080/"
        },
        "id": "EQjmzHGzzx1Y",
        "outputId": "59bb5993-e068-413b-9a8b-ffa857d7ffda"
      },
      "execution_count": 50,
      "outputs": [
        {
          "output_type": "execute_result",
          "data": {
            "text/plain": [
              "[0.4823427519213408,\n",
              " 0.4823427517059343,\n",
              " 0.48234274955185874,\n",
              " 0.48234272800996725,\n",
              " 0.48234251247749327,\n",
              " 0.48234034580068075,\n",
              " 0.4823175476750112,\n",
              " 0.48198018524456,\n",
              " 0.47064794605221527,\n",
              " 0.2896815891984611]"
            ]
          },
          "metadata": {},
          "execution_count": 50
        }
      ]
    },
    {
      "cell_type": "code",
      "execution_count": 45,
      "metadata": {
        "id": "Ym11BIQD4Zll",
        "colab": {
          "base_uri": "https://localhost:8080/",
          "height": 281
        },
        "outputId": "6f72fd44-0afb-4b7e-dc19-7e01bbbe8a27"
      },
      "outputs": [
        {
          "output_type": "display_data",
          "data": {
            "text/plain": [
              "<Figure size 432x288 with 1 Axes>"
            ],
            "image/png": "[encoded data removed]"
          },
          "metadata": {
            "needs_background": "light"
          }
        }
      ],
      "source": [
        "### 문제 4-3 ###\n",
        "x=[1,2,3,4,5,6,7,8,9,10]\n",
        "plt.figure()\n",
        "plt.plot(x,ridge_score,label=\"Ridge\",color=\"blue\")\n",
        "plt.plot(x,lasso_score,label=\"Lasso\",color=\"red\")\n",
        "plt.xticks(x,labels=alpha)\n",
        "plt.legend()\n",
        "plt.xlabel(\"alpha\")\n",
        "plt.ylabel(\"R2 score\")\n",
        "plt.show()\n",
        "### 그래프 작성 ###"
      ]
    },
    {
      "cell_type": "markdown",
      "metadata": {
        "id": "DS8x1JmkZ6Yl"
      },
      "source": [
        "- Rridge regression 모델 최적의 alpha 값: 0.0001\n",
        "- Lasso regression 모델 최적의 alpha 값: 0.0001"
      ]
    },
    {
      "cell_type": "code",
      "execution_count": 58,
      "metadata": {
        "id": "zio0ZtfdiXCF",
        "colab": {
          "base_uri": "https://localhost:8080/"
        },
        "outputId": "0280b4ff-9e47-42ab-9efc-0c7eff14e877"
      },
      "outputs": [
        {
          "output_type": "stream",
          "name": "stdout",
          "text": [
            "0.4415834837462561 0.45487854575897535\n",
            "0.44158483194551146 0.45487854404484995\n"
          ]
        }
      ],
      "source": [
        "# 최종 결과 출력\n",
        "X_train_2 = pd.concat([X_train,X_val])\n",
        "y_train_2 = pd.concat([y_train,y_val])\n",
        "ridge = Ridge(alpha=ridge_optimal_alpha)\n",
        "ridge.fit(X_train_2[selected_features].values.reshape(-1,1),y_train_2)\n",
        "ridge_adjr2_score_train= adjr2(y_train_2,ridge.predict(X_train_2[selected_features].values.reshape(-1,1)),len(X_train_2),1)\n",
        "ridge_adjr2_score_test= adjr2(y_test,ridge.predict(X_test[selected_features].values.reshape(-1,1)),len(X_test),1)\n",
        "print(ridge_adjr2_score_test,ridge_adjr2_score_train)\n",
        "lasso = Lasso(alpha=lasso_optimal_alpha)\n",
        "lasso.fit(X_train_2[selected_features].values.reshape(-1,1),y_train_2)\n",
        "lasso_adjr2_score_train= adjr2(y_train_2,lasso.predict(X_train_2[selected_features].values.reshape(-1,1)),len(X_train_2),1)\n",
        "lasso_adjr2_score_test= adjr2(y_test,lasso.predict(X_test[selected_features].values.reshape(-1,1)),len(X_test),1)\n",
        "print(lasso_adjr2_score_test,lasso_adjr2_score_train)"
      ]
    }
  ],
  "metadata": {
    "colab": {
      "collapsed_sections": [],
      "provenance": [],
      "include_colab_link": true
    },
    "interpreter": {
      "hash": "72f413c705acf8cc7ca758c5c7ce13adba655409ec2684a2da3bcb9a148f4862"
    },
    "kernelspec": {
      "display_name": "Python 3.8.13 ('aae')",
      "language": "python",
      "name": "python3"
    },
    "language_info": {
      "codemirror_mode": {
        "name": "ipython",
        "version": 3
      },
      "file_extension": ".py",
      "mimetype": "text/x-python",
      "name": "python",
      "nbconvert_exporter": "python",
      "pygments_lexer": "ipython3",
      "version": "3.8.13"
    },
    "vscode": {
      "interpreter": {
        "hash": "4df1aae1e0b0d359ea12b19172edf8042a617e338541b2db12efe6535537db04"
      }
    }
  },
  "nbformat": 4,
  "nbformat_minor": 0
}